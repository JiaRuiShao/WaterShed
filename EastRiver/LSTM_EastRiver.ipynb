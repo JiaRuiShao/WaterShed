{
  "nbformat": 4,
  "nbformat_minor": 0,
  "metadata": {
    "colab": {
      "name": "LSTM_EastRiver.ipynb",
      "version": "0.3.2",
      "provenance": [],
      "collapsed_sections": [
        "SaqK0FIFCvpE",
        "h3ICveIUChIf",
        "nFZef-ZHP8fn",
        "B1GtbEPTQJTB",
        "uVutGLWTPCLb",
        "NVJxauphQniB",
        "X4tNxKTE5Cwn",
        "GqOLVVWKCuiq",
        "Xa5VkHnoEn5N",
        "_YCtpge5Ca77",
        "_JCHcY9vXK-6"
      ]
    },
    "kernelspec": {
      "name": "python3",
      "display_name": "Python 3"
    },
    "accelerator": "GPU"
  },
  "cells": [
    {
      "cell_type": "markdown",
      "metadata": {
        "id": "hS0mX0thGbfD",
        "colab_type": "text"
      },
      "source": [
        "## LSTM Model EastRiver"
      ]
    },
    {
      "cell_type": "markdown",
      "metadata": {
        "id": "SaqK0FIFCvpE",
        "colab_type": "text"
      },
      "source": [
        "### Set-up"
      ]
    },
    {
      "cell_type": "code",
      "metadata": {
        "id": "GlJnSIYq-MU3",
        "colab_type": "code",
        "outputId": "b1d7883b-ab25-4126-97e3-84e52d568cd8",
        "colab": {
          "base_uri": "https://localhost:8080/",
          "height": 589
        }
      },
      "source": [
        "# install pip\n",
        "!pip install tensorflow==2.0.0b1\n",
        "!pip install keras"
      ],
      "execution_count": 6,
      "outputs": [
        {
          "output_type": "stream",
          "text": [
            "Requirement already satisfied: tensorflow==2.0.0b1 in /usr/local/lib/python3.6/dist-packages (2.0.0b1)\n",
            "Requirement already satisfied: keras-preprocessing>=1.0.5 in /usr/local/lib/python3.6/dist-packages (from tensorflow==2.0.0b1) (1.1.0)\n",
            "Requirement already satisfied: protobuf>=3.6.1 in /usr/local/lib/python3.6/dist-packages (from tensorflow==2.0.0b1) (3.7.1)\n",
            "Requirement already satisfied: absl-py>=0.7.0 in /usr/local/lib/python3.6/dist-packages (from tensorflow==2.0.0b1) (0.7.1)\n",
            "Requirement already satisfied: grpcio>=1.8.6 in /usr/local/lib/python3.6/dist-packages (from tensorflow==2.0.0b1) (1.15.0)\n",
            "Requirement already satisfied: tb-nightly<1.14.0a20190604,>=1.14.0a20190603 in /usr/local/lib/python3.6/dist-packages (from tensorflow==2.0.0b1) (1.14.0a20190603)\n",
            "Requirement already satisfied: keras-applications>=1.0.6 in /usr/local/lib/python3.6/dist-packages (from tensorflow==2.0.0b1) (1.0.8)\n",
            "Requirement already satisfied: gast>=0.2.0 in /usr/local/lib/python3.6/dist-packages (from tensorflow==2.0.0b1) (0.2.2)\n",
            "Requirement already satisfied: termcolor>=1.1.0 in /usr/local/lib/python3.6/dist-packages (from tensorflow==2.0.0b1) (1.1.0)\n",
            "Requirement already satisfied: tf-estimator-nightly<1.14.0.dev2019060502,>=1.14.0.dev2019060501 in /usr/local/lib/python3.6/dist-packages (from tensorflow==2.0.0b1) (1.14.0.dev2019060501)\n",
            "Requirement already satisfied: astor>=0.6.0 in /usr/local/lib/python3.6/dist-packages (from tensorflow==2.0.0b1) (0.8.0)\n",
            "Requirement already satisfied: wrapt>=1.11.1 in /usr/local/lib/python3.6/dist-packages (from tensorflow==2.0.0b1) (1.11.2)\n",
            "Requirement already satisfied: google-pasta>=0.1.6 in /usr/local/lib/python3.6/dist-packages (from tensorflow==2.0.0b1) (0.1.7)\n",
            "Requirement already satisfied: numpy<2.0,>=1.14.5 in /usr/local/lib/python3.6/dist-packages (from tensorflow==2.0.0b1) (1.16.4)\n",
            "Requirement already satisfied: six>=1.10.0 in /usr/local/lib/python3.6/dist-packages (from tensorflow==2.0.0b1) (1.12.0)\n",
            "Requirement already satisfied: wheel>=0.26 in /usr/local/lib/python3.6/dist-packages (from tensorflow==2.0.0b1) (0.33.4)\n",
            "Requirement already satisfied: setuptools in /usr/local/lib/python3.6/dist-packages (from protobuf>=3.6.1->tensorflow==2.0.0b1) (41.0.1)\n",
            "Requirement already satisfied: markdown>=2.6.8 in /usr/local/lib/python3.6/dist-packages (from tb-nightly<1.14.0a20190604,>=1.14.0a20190603->tensorflow==2.0.0b1) (3.1.1)\n",
            "Requirement already satisfied: werkzeug>=0.11.15 in /usr/local/lib/python3.6/dist-packages (from tb-nightly<1.14.0a20190604,>=1.14.0a20190603->tensorflow==2.0.0b1) (0.15.5)\n",
            "Requirement already satisfied: h5py in /usr/local/lib/python3.6/dist-packages (from keras-applications>=1.0.6->tensorflow==2.0.0b1) (2.8.0)\n",
            "Collecting keras\n",
            "\u001b[?25l  Downloading https://files.pythonhosted.org/packages/5e/10/aa32dad071ce52b5502266b5c659451cfd6ffcbf14e6c8c4f16c0ff5aaab/Keras-2.2.4-py2.py3-none-any.whl (312kB)\n",
            "\u001b[K     |████████████████████████████████| 317kB 2.8MB/s \n",
            "\u001b[?25hRequirement already satisfied: keras-applications>=1.0.6 in /usr/local/lib/python3.6/dist-packages (from keras) (1.0.8)\n",
            "Requirement already satisfied: keras-preprocessing>=1.0.5 in /usr/local/lib/python3.6/dist-packages (from keras) (1.1.0)\n",
            "Requirement already satisfied: h5py in /usr/local/lib/python3.6/dist-packages (from keras) (2.8.0)\n",
            "Requirement already satisfied: numpy>=1.9.1 in /usr/local/lib/python3.6/dist-packages (from keras) (1.16.4)\n",
            "Requirement already satisfied: six>=1.9.0 in /usr/local/lib/python3.6/dist-packages (from keras) (1.12.0)\n",
            "Requirement already satisfied: pyyaml in /usr/local/lib/python3.6/dist-packages (from keras) (3.13)\n",
            "Requirement already satisfied: scipy>=0.14 in /usr/local/lib/python3.6/dist-packages (from keras) (1.3.1)\n",
            "Installing collected packages: keras\n",
            "Successfully installed keras-2.2.4\n"
          ],
          "name": "stdout"
        }
      ]
    },
    {
      "cell_type": "code",
      "metadata": {
        "id": "opiGHUi8yHGB",
        "colab_type": "code",
        "outputId": "7da56ddb-7112-47a6-f3be-b5bc5d6b691a",
        "colab": {
          "base_uri": "https://localhost:8080/",
          "height": 34
        }
      },
      "source": [
        "import tensorflow as tf\n",
        "print(tf.__version__)"
      ],
      "execution_count": 1,
      "outputs": [
        {
          "output_type": "stream",
          "text": [
            "2.0.0-beta1\n"
          ],
          "name": "stdout"
        }
      ]
    },
    {
      "cell_type": "code",
      "metadata": {
        "id": "JGn-cfcjyLYl",
        "colab_type": "code",
        "colab": {
          "base_uri": "https://localhost:8080/",
          "height": 34
        },
        "outputId": "83f2b46d-8ca1-4af2-b041-1ee67ef58516"
      },
      "source": [
        "import numpy as np\n",
        "import matplotlib.pyplot as plt\n",
        "\n",
        "from keras.models import Sequential\n",
        "from keras.layers import Dense,LSTM\n",
        "# import matplotlib.pyplot as plt\n",
        "\n",
        "seed = 7\n",
        "np.random.seed(seed)\n",
        "\n",
        "def plot_series(time, series, format=\"-\", start=0, end=None):\n",
        "    plt.plot(time[start:end], series[start:end], format)\n",
        "    plt.xlabel(\"Time\")\n",
        "    plt.ylabel(\"Value\")\n",
        "    plt.grid(True)"
      ],
      "execution_count": 1,
      "outputs": [
        {
          "output_type": "stream",
          "text": [
            "Using TensorFlow backend.\n"
          ],
          "name": "stderr"
        }
      ]
    },
    {
      "cell_type": "code",
      "metadata": {
        "id": "qvV2JYrp-VpH",
        "colab_type": "code",
        "colab": {}
      },
      "source": [
        "import tensorflow as tf\n",
        "import pandas as pd\n",
        "from pandas import Series,DataFrame\n",
        "\n",
        "import io\n",
        "from io import StringIO\n",
        "\n",
        "from sklearn.model_selection import train_test_split\n",
        "from sklearn.metrics import f1_score, accuracy_score, recall_score, precision_score\n",
        "\n",
        "%matplotlib inline\n",
        "import matplotlib as mpl\n",
        "from matplotlib import pylab as plt\n",
        "import matplotlib.dates as mdates\n",
        "import seaborn as sns\n",
        "import matplotlib.ticker as ticker\n",
        "\n",
        "import collections\n",
        "\n",
        "from keras import backend as k\n",
        "# from tensorflow.python.framework import ops\n",
        "# ops.reset_default_graph()"
      ],
      "execution_count": 0,
      "outputs": []
    },
    {
      "cell_type": "code",
      "metadata": {
        "id": "ZwqAvaQWex1J",
        "colab_type": "code",
        "colab": {}
      },
      "source": [
        "# install tensorflow==2.0.0b1\n",
        "import tensorflow_probability as tfp\n",
        "\n",
        "from tensorflow_probability import distributions as tfd\n",
        "from tensorflow_probability import sts"
      ],
      "execution_count": 0,
      "outputs": []
    },
    {
      "cell_type": "code",
      "metadata": {
        "id": "QGzP4Da98UGd",
        "colab_type": "code",
        "outputId": "5ed675ad-d470-483f-df91-1e4cdd1884a2",
        "colab": {
          "resources": {
            "http://localhost:8080/nbextensions/google.colab/files.js": {
              "data": "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",
              "ok": true,
              "headers": [
                [
                  "content-type",
                  "application/javascript"
                ]
              ],
              "status": 200,
              "status_text": ""
            }
          },
          "base_uri": "https://localhost:8080/",
          "height": 75
        }
      },
      "source": [
        "from google.colab import files\n",
        "uploaded = files.upload()"
      ],
      "execution_count": 3,
      "outputs": [
        {
          "output_type": "display_data",
          "data": {
            "text/html": [
              "\n",
              "     <input type=\"file\" id=\"files-19854d1a-9dda-4204-bd3d-655d461035a7\" name=\"files[]\" multiple disabled />\n",
              "     <output id=\"result-19854d1a-9dda-4204-bd3d-655d461035a7\">\n",
              "      Upload widget is only available when the cell has been executed in the\n",
              "      current browser session. Please rerun this cell to enable.\n",
              "      </output>\n",
              "      <script src=\"/nbextensions/google.colab/files.js\"></script> "
            ],
            "text/plain": [
              "<IPython.core.display.HTML object>"
            ]
          },
          "metadata": {
            "tags": []
          }
        },
        {
          "output_type": "stream",
          "text": [
            "Saving Alldata_add_temp.csv to Alldata_add_temp (3).csv\n"
          ],
          "name": "stdout"
        }
      ]
    },
    {
      "cell_type": "markdown",
      "metadata": {
        "id": "h3ICveIUChIf",
        "colab_type": "text"
      },
      "source": [
        "### Process data"
      ]
    },
    {
      "cell_type": "code",
      "metadata": {
        "id": "ibVIyvAd95Gv",
        "colab_type": "code",
        "outputId": "30a0d81d-ad22-46e1-8fee-fe9ae7353c1c",
        "colab": {
          "base_uri": "https://localhost:8080/",
          "height": 34
        }
      },
      "source": [
        "for fn in uploaded.keys():\n",
        "  print('User uploaded file \"{name}\" with length {length} bytes'.format(name=fn, length=len(uploaded[fn])))"
      ],
      "execution_count": 4,
      "outputs": [
        {
          "output_type": "stream",
          "text": [
            "User uploaded file \"Alldata_add_temp.csv\" with length 227124 bytes\n"
          ],
          "name": "stdout"
        }
      ]
    },
    {
      "cell_type": "code",
      "metadata": {
        "id": "Kr74Sn-I96Y9",
        "colab_type": "code",
        "outputId": "fae94ce3-4494-4c5b-f7de-1ba4f8f7cdc6",
        "colab": {
          "base_uri": "https://localhost:8080/",
          "height": 309
        }
      },
      "source": [
        "EastRiver = pd.read_csv(io.StringIO(uploaded['Alldata_add_temp.csv'].decode('utf-8')))\n",
        "EastRiver.head()"
      ],
      "execution_count": 5,
      "outputs": [
        {
          "output_type": "execute_result",
          "data": {
            "text/html": [
              "<div>\n",
              "<style scoped>\n",
              "    .dataframe tbody tr th:only-of-type {\n",
              "        vertical-align: middle;\n",
              "    }\n",
              "\n",
              "    .dataframe tbody tr th {\n",
              "        vertical-align: top;\n",
              "    }\n",
              "\n",
              "    .dataframe thead th {\n",
              "        text-align: right;\n",
              "    }\n",
              "</style>\n",
              "<table border=\"1\" class=\"dataframe\">\n",
              "  <thead>\n",
              "    <tr style=\"text-align: right;\">\n",
              "      <th></th>\n",
              "      <th>DateTime</th>\n",
              "      <th>discharge</th>\n",
              "      <th>kp_soilmoisture</th>\n",
              "      <th>jf_soilmoisture</th>\n",
              "      <th>ncrs380_swe</th>\n",
              "      <th>ncrs680_swe</th>\n",
              "      <th>ncrs380_rain</th>\n",
              "      <th>ncrs680_rain</th>\n",
              "      <th>nrcs380_temperature</th>\n",
              "      <th>nrcs680_temperature</th>\n",
              "    </tr>\n",
              "  </thead>\n",
              "  <tbody>\n",
              "    <tr>\n",
              "      <th>0</th>\n",
              "      <td>2014-05-01</td>\n",
              "      <td>4.56823</td>\n",
              "      <td>0.324472</td>\n",
              "      <td>0.356694</td>\n",
              "      <td>26.493304</td>\n",
              "      <td>24.595667</td>\n",
              "      <td>0.00000</td>\n",
              "      <td>0.000000</td>\n",
              "      <td>-0.739130</td>\n",
              "      <td>-0.091667</td>\n",
              "    </tr>\n",
              "    <tr>\n",
              "      <th>1</th>\n",
              "      <td>2014-05-02</td>\n",
              "      <td>4.54378</td>\n",
              "      <td>0.323333</td>\n",
              "      <td>0.356118</td>\n",
              "      <td>25.347083</td>\n",
              "      <td>23.622000</td>\n",
              "      <td>0.00000</td>\n",
              "      <td>0.000000</td>\n",
              "      <td>4.900000</td>\n",
              "      <td>4.333333</td>\n",
              "    </tr>\n",
              "    <tr>\n",
              "      <th>2</th>\n",
              "      <td>2014-05-03</td>\n",
              "      <td>4.97784</td>\n",
              "      <td>0.320021</td>\n",
              "      <td>0.372965</td>\n",
              "      <td>23.018750</td>\n",
              "      <td>21.992167</td>\n",
              "      <td>0.00000</td>\n",
              "      <td>0.010583</td>\n",
              "      <td>7.933333</td>\n",
              "      <td>6.533333</td>\n",
              "    </tr>\n",
              "    <tr>\n",
              "      <th>3</th>\n",
              "      <td>2014-05-04</td>\n",
              "      <td>6.07829</td>\n",
              "      <td>0.318597</td>\n",
              "      <td>0.388826</td>\n",
              "      <td>20.415250</td>\n",
              "      <td>19.526250</td>\n",
              "      <td>0.00000</td>\n",
              "      <td>0.000000</td>\n",
              "      <td>9.608333</td>\n",
              "      <td>7.270833</td>\n",
              "    </tr>\n",
              "    <tr>\n",
              "      <th>4</th>\n",
              "      <td>2014-05-05</td>\n",
              "      <td>7.20931</td>\n",
              "      <td>0.317035</td>\n",
              "      <td>0.392062</td>\n",
              "      <td>17.959917</td>\n",
              "      <td>16.457083</td>\n",
              "      <td>0.03175</td>\n",
              "      <td>0.052917</td>\n",
              "      <td>8.925000</td>\n",
              "      <td>6.795833</td>\n",
              "    </tr>\n",
              "  </tbody>\n",
              "</table>\n",
              "</div>"
            ],
            "text/plain": [
              "     DateTime  discharge  ...  nrcs380_temperature  nrcs680_temperature\n",
              "0  2014-05-01    4.56823  ...            -0.739130            -0.091667\n",
              "1  2014-05-02    4.54378  ...             4.900000             4.333333\n",
              "2  2014-05-03    4.97784  ...             7.933333             6.533333\n",
              "3  2014-05-04    6.07829  ...             9.608333             7.270833\n",
              "4  2014-05-05    7.20931  ...             8.925000             6.795833\n",
              "\n",
              "[5 rows x 10 columns]"
            ]
          },
          "metadata": {
            "tags": []
          },
          "execution_count": 5
        }
      ]
    },
    {
      "cell_type": "code",
      "metadata": {
        "id": "J26fM3FDAzU7",
        "colab_type": "code",
        "outputId": "69b1dd93-978b-4073-9982-8b5552be8196",
        "colab": {
          "base_uri": "https://localhost:8080/",
          "height": 258
        }
      },
      "source": [
        "EastRiver['DateTime'] = pd.to_datetime(EastRiver['DateTime'])\n",
        "EastRiver.set_index('DateTime', inplace=True)\n",
        "EastRiver.info()"
      ],
      "execution_count": 6,
      "outputs": [
        {
          "output_type": "stream",
          "text": [
            "<class 'pandas.core.frame.DataFrame'>\n",
            "DatetimeIndex: 1461 entries, 2014-05-01 to 2018-04-30\n",
            "Data columns (total 9 columns):\n",
            "discharge              1461 non-null float64\n",
            "kp_soilmoisture        1461 non-null float64\n",
            "jf_soilmoisture        1461 non-null float64\n",
            "ncrs380_swe            1461 non-null float64\n",
            "ncrs680_swe            1461 non-null float64\n",
            "ncrs380_rain           1461 non-null float64\n",
            "ncrs680_rain           1461 non-null float64\n",
            "nrcs380_temperature    1461 non-null float64\n",
            "nrcs680_temperature    1461 non-null float64\n",
            "dtypes: float64(9)\n",
            "memory usage: 114.1 KB\n"
          ],
          "name": "stdout"
        }
      ]
    },
    {
      "cell_type": "markdown",
      "metadata": {
        "id": "nc3X0F83XxM2",
        "colab_type": "text"
      },
      "source": [
        "=============================================================="
      ]
    },
    {
      "cell_type": "code",
      "metadata": {
        "id": "8GrU2uwPB4J3",
        "colab_type": "code",
        "colab": {}
      },
      "source": [
        "features = EastRiver.iloc[:, 2:]\n",
        "labels = EastRiver.iloc[:, 1]"
      ],
      "execution_count": 0,
      "outputs": []
    },
    {
      "cell_type": "code",
      "metadata": {
        "id": "pCwjLCTCCLYw",
        "colab_type": "code",
        "outputId": "aeafd64f-b2f7-49f8-d466-0f290d99737a",
        "colab": {
          "base_uri": "https://localhost:8080/",
          "height": 203
        }
      },
      "source": [
        "features.head()"
      ],
      "execution_count": 0,
      "outputs": [
        {
          "output_type": "execute_result",
          "data": {
            "text/html": [
              "<div>\n",
              "<style scoped>\n",
              "    .dataframe tbody tr th:only-of-type {\n",
              "        vertical-align: middle;\n",
              "    }\n",
              "\n",
              "    .dataframe tbody tr th {\n",
              "        vertical-align: top;\n",
              "    }\n",
              "\n",
              "    .dataframe thead th {\n",
              "        text-align: right;\n",
              "    }\n",
              "</style>\n",
              "<table border=\"1\" class=\"dataframe\">\n",
              "  <thead>\n",
              "    <tr style=\"text-align: right;\">\n",
              "      <th></th>\n",
              "      <th>kp_soilmoisture</th>\n",
              "      <th>jf_soilmoisture</th>\n",
              "      <th>ncrs380_swe</th>\n",
              "      <th>ncrs680_swe</th>\n",
              "      <th>ncrs380_rain</th>\n",
              "      <th>ncrs680_rain</th>\n",
              "      <th>nrcs380_temperature</th>\n",
              "      <th>nrcs680_temperature</th>\n",
              "    </tr>\n",
              "  </thead>\n",
              "  <tbody>\n",
              "    <tr>\n",
              "      <th>0</th>\n",
              "      <td>0.324472</td>\n",
              "      <td>0.356694</td>\n",
              "      <td>26.493304</td>\n",
              "      <td>24.595667</td>\n",
              "      <td>0.00000</td>\n",
              "      <td>0.000000</td>\n",
              "      <td>-0.739130</td>\n",
              "      <td>-0.091667</td>\n",
              "    </tr>\n",
              "    <tr>\n",
              "      <th>1</th>\n",
              "      <td>0.323333</td>\n",
              "      <td>0.356118</td>\n",
              "      <td>25.347083</td>\n",
              "      <td>23.622000</td>\n",
              "      <td>0.00000</td>\n",
              "      <td>0.000000</td>\n",
              "      <td>4.900000</td>\n",
              "      <td>4.333333</td>\n",
              "    </tr>\n",
              "    <tr>\n",
              "      <th>2</th>\n",
              "      <td>0.320021</td>\n",
              "      <td>0.372965</td>\n",
              "      <td>23.018750</td>\n",
              "      <td>21.992167</td>\n",
              "      <td>0.00000</td>\n",
              "      <td>0.010583</td>\n",
              "      <td>7.933333</td>\n",
              "      <td>6.533333</td>\n",
              "    </tr>\n",
              "    <tr>\n",
              "      <th>3</th>\n",
              "      <td>0.318597</td>\n",
              "      <td>0.388826</td>\n",
              "      <td>20.415250</td>\n",
              "      <td>19.526250</td>\n",
              "      <td>0.00000</td>\n",
              "      <td>0.000000</td>\n",
              "      <td>9.608333</td>\n",
              "      <td>7.270833</td>\n",
              "    </tr>\n",
              "    <tr>\n",
              "      <th>4</th>\n",
              "      <td>0.317035</td>\n",
              "      <td>0.392062</td>\n",
              "      <td>17.959917</td>\n",
              "      <td>16.457083</td>\n",
              "      <td>0.03175</td>\n",
              "      <td>0.052917</td>\n",
              "      <td>8.925000</td>\n",
              "      <td>6.795833</td>\n",
              "    </tr>\n",
              "  </tbody>\n",
              "</table>\n",
              "</div>"
            ],
            "text/plain": [
              "   kp_soilmoisture  jf_soilmoisture  ...  nrcs380_temperature  nrcs680_temperature\n",
              "0         0.324472         0.356694  ...            -0.739130            -0.091667\n",
              "1         0.323333         0.356118  ...             4.900000             4.333333\n",
              "2         0.320021         0.372965  ...             7.933333             6.533333\n",
              "3         0.318597         0.388826  ...             9.608333             7.270833\n",
              "4         0.317035         0.392062  ...             8.925000             6.795833\n",
              "\n",
              "[5 rows x 8 columns]"
            ]
          },
          "metadata": {
            "tags": []
          },
          "execution_count": 70
        }
      ]
    },
    {
      "cell_type": "code",
      "metadata": {
        "id": "JhPpIp3fDah2",
        "colab_type": "code",
        "outputId": "cdad603d-32f7-444d-e94e-7be46756be0e",
        "colab": {
          "base_uri": "https://localhost:8080/",
          "height": 241
        }
      },
      "source": [
        "features.info()"
      ],
      "execution_count": 0,
      "outputs": [
        {
          "output_type": "stream",
          "text": [
            "<class 'pandas.core.frame.DataFrame'>\n",
            "RangeIndex: 1461 entries, 0 to 1460\n",
            "Data columns (total 8 columns):\n",
            "kp_soilmoisture        1461 non-null float64\n",
            "jf_soilmoisture        1461 non-null float64\n",
            "ncrs380_swe            1461 non-null float64\n",
            "ncrs680_swe            1461 non-null float64\n",
            "ncrs380_rain           1461 non-null float64\n",
            "ncrs680_rain           1461 non-null float64\n",
            "nrcs380_temperature    1461 non-null float64\n",
            "nrcs680_temperature    1461 non-null float64\n",
            "dtypes: float64(8)\n",
            "memory usage: 91.4 KB\n"
          ],
          "name": "stdout"
        }
      ]
    },
    {
      "cell_type": "code",
      "metadata": {
        "id": "JpQgn91MCOI-",
        "colab_type": "code",
        "outputId": "3559261c-195e-4087-8aae-275f8105a8fa",
        "colab": {
          "base_uri": "https://localhost:8080/",
          "height": 120
        }
      },
      "source": [
        "labels.head()"
      ],
      "execution_count": 0,
      "outputs": [
        {
          "output_type": "execute_result",
          "data": {
            "text/plain": [
              "0    4.56823\n",
              "1    4.54378\n",
              "2    4.97784\n",
              "3    6.07829\n",
              "4    7.20931\n",
              "Name: discharge, dtype: float64"
            ]
          },
          "metadata": {
            "tags": []
          },
          "execution_count": 72
        }
      ]
    },
    {
      "cell_type": "markdown",
      "metadata": {
        "id": "wwHoZjEhQiH7",
        "colab_type": "text"
      },
      "source": [
        "**Visualize the data**"
      ]
    },
    {
      "cell_type": "code",
      "metadata": {
        "id": "GjNiGoX4PSdP",
        "colab_type": "code",
        "colab": {
          "base_uri": "https://localhost:8080/",
          "height": 267
        },
        "outputId": "1d41002a-a9e0-4eea-ffdc-3761a5ea5520"
      },
      "source": [
        "groups = [0, 1, 2, 3, 4, 5, 6, 7, 8]\n",
        "values = EastRiver.values\n",
        "fig,sub = plt.subplots(3,3)\n",
        "plt.subplots_adjust(wspace=1, hspace=1)\n",
        "\n",
        "for ax, i in zip(sub.flatten(),groups):\n",
        "    ax.plot(values[:,i])\n",
        "    ax.set_xticks(())\n",
        "    ax.set_yticks(())\n",
        "    ax.set_title(EastRiver.columns[i])"
      ],
      "execution_count": 10,
      "outputs": [
        {
          "output_type": "display_data",
          "data": {
            "image/png": "[encoded data removed]",
            "text/plain": [
              "<Figure size 432x288 with 9 Axes>"
            ]
          },
          "metadata": {
            "tags": []
          }
        }
      ]
    },
    {
      "cell_type": "code",
      "metadata": {
        "id": "zFgNzHKj0CfK",
        "colab_type": "code",
        "outputId": "7ea31a31-81de-4324-a2e6-aa64cbc08b27",
        "colab": {
          "base_uri": "https://localhost:8080/",
          "height": 463
        }
      },
      "source": [
        "# EastRiver.set_index('DateTime', inplace=True)\n",
        "EastRiver.plot(figsize=(18,7))"
      ],
      "execution_count": 0,
      "outputs": [
        {
          "output_type": "execute_result",
          "data": {
            "text/plain": [
              "<matplotlib.axes._subplots.AxesSubplot at 0x7f31a275a9b0>"
            ]
          },
          "metadata": {
            "tags": []
          },
          "execution_count": 50
        },
        {
          "output_type": "display_data",
          "data": {
            "image/png": "[encoded data removed]",
            "text/plain": [
              "<Figure size 1296x504 with 1 Axes>"
            ]
          },
          "metadata": {
            "tags": []
          }
        }
      ]
    },
    {
      "cell_type": "code",
      "metadata": {
        "id": "llKHC8IV3JSo",
        "colab_type": "code",
        "outputId": "1bc96365-7e80-4b7e-8bde-99269cfcccfc",
        "colab": {
          "base_uri": "https://localhost:8080/",
          "height": 402
        }
      },
      "source": [
        "# create the plot space upon which to plot the data\n",
        "fig, ax= plt.subplots()\n",
        "\n",
        "# add the x-axis and the y-axis to the plot\n",
        "ax.plot(EastRiver['DateTime'], \n",
        "        EastRiver['discharge'], \n",
        "        color = 'green')\n",
        "\n",
        "# rotate tick labels\n",
        "plt.setp(ax.get_xticklabels(), rotation=45)\n",
        "\n",
        "# set title and labels for axes\n",
        "ax.set(xlabel=\"Date\",\n",
        "       ylabel=\"Discharge\",\n",
        "       title=\"EastRiver Discharge From 2014 to 2018\");\n",
        "\n",
        "# set plot size\n",
        "fig.set_size_inches(18.5, 5.5)"
      ],
      "execution_count": 0,
      "outputs": [
        {
          "output_type": "display_data",
          "data": {
            "image/png": "[encoded data removed]",
            "text/plain": [
              "<Figure size 1332x396 with 1 Axes>"
            ]
          },
          "metadata": {
            "tags": []
          }
        }
      ]
    },
    {
      "cell_type": "markdown",
      "metadata": {
        "id": "nFZef-ZHP8fn",
        "colab_type": "text"
      },
      "source": [
        "### LSTM - treat as a univariate time series problem"
      ]
    },
    {
      "cell_type": "code",
      "metadata": {
        "id": "Z0lJUZITDte3",
        "colab_type": "code",
        "outputId": "e7f31662-1515-4653-f7e9-04f0f5d6d4c2",
        "colab": {
          "base_uri": "https://localhost:8080/",
          "height": 34
        }
      },
      "source": [
        "Date = list(range(0, 1462))\n",
        "Date[-1]"
      ],
      "execution_count": 28,
      "outputs": [
        {
          "output_type": "execute_result",
          "data": {
            "text/plain": [
              "1461"
            ]
          },
          "metadata": {
            "tags": []
          },
          "execution_count": 28
        }
      ]
    },
    {
      "cell_type": "code",
      "metadata": {
        "id": "UwoRL8_SE3MC",
        "colab_type": "code",
        "colab": {}
      },
      "source": [
        "series = labels.tolist()\n",
        "series"
      ],
      "execution_count": 0,
      "outputs": []
    },
    {
      "cell_type": "code",
      "metadata": {
        "id": "zTBuyyXbGPdU",
        "colab_type": "code",
        "outputId": "2142352f-9880-4ef6-939a-eaef8acd5c0c",
        "colab": {
          "base_uri": "https://localhost:8080/",
          "height": 51
        }
      },
      "source": [
        "series = np.array(labels, dtype=pd.Series)\n",
        "series = pd.to_numeric(series,errors='coerce')\n",
        "series"
      ],
      "execution_count": 30,
      "outputs": [
        {
          "output_type": "execute_result",
          "data": {
            "text/plain": [
              "array([0.32447222, 0.32333333, 0.32002083, ..., 0.29336111, 0.2936875 ,\n",
              "       0.29104167])"
            ]
          },
          "metadata": {
            "tags": []
          },
          "execution_count": 30
        }
      ]
    },
    {
      "cell_type": "code",
      "metadata": {
        "id": "4rLwYBIn6Hro",
        "colab_type": "code",
        "colab": {}
      },
      "source": [
        "split_time = 1001\n",
        "time = list(range(0, 1461))\n",
        "# series = np.array(labels, dtype=pd.Series)\n",
        "# series = pd.to_numeric(series,errors='coerce')\n",
        "\n",
        "time_train = time[:split_time]\n",
        "x_train = series[:split_time]\n",
        "time_valid = time[split_time:]\n",
        "x_valid = series[split_time:]"
      ],
      "execution_count": 0,
      "outputs": []
    },
    {
      "cell_type": "code",
      "metadata": {
        "id": "3dxd_MqmFJ4E",
        "colab_type": "code",
        "colab": {}
      },
      "source": [
        "window_size = 30\n",
        "batch_size = 32\n",
        "shuffle_buffer_size = 1000"
      ],
      "execution_count": 0,
      "outputs": []
    },
    {
      "cell_type": "code",
      "metadata": {
        "id": "oRYYX01JFMlr",
        "colab_type": "code",
        "colab": {}
      },
      "source": [
        "def windowed_dataset(series, window_size, batch_size, shuffle_buffer):\n",
        "    series = tf.expand_dims(series, axis=-1)\n",
        "    ds = tf.data.Dataset.from_tensor_slices(series)\n",
        "    ds = ds.window(window_size + 1, shift=1, drop_remainder=True)\n",
        "    ds = ds.flat_map(lambda w: w.batch(window_size + 1))\n",
        "    ds = ds.shuffle(shuffle_buffer)\n",
        "    ds = ds.map(lambda w: (w[:-1], w[1:]))\n",
        "    return ds.batch(batch_size).prefetch(1)"
      ],
      "execution_count": 0,
      "outputs": []
    },
    {
      "cell_type": "code",
      "metadata": {
        "id": "sdjfAFVsFPVa",
        "colab_type": "code",
        "colab": {}
      },
      "source": [
        "def model_forecast(model, series, window_size):\n",
        "    ds = tf.data.Dataset.from_tensor_slices(series)\n",
        "    ds = ds.window(window_size, shift=1, drop_remainder=True)\n",
        "    ds = ds.flat_map(lambda w: w.batch(window_size))\n",
        "    ds = ds.batch(32).prefetch(1)\n",
        "    forecast = model.predict(ds)\n",
        "    return forecast"
      ],
      "execution_count": 0,
      "outputs": []
    },
    {
      "cell_type": "code",
      "metadata": {
        "id": "m87s0U9HFRL1",
        "colab_type": "code",
        "outputId": "eb4a94dc-0c1c-4379-84cd-c851cb0a1364",
        "colab": {
          "base_uri": "https://localhost:8080/",
          "height": 1000
        }
      },
      "source": [
        "tf.keras.backend.clear_session()\n",
        "tf.random.set_seed(51)\n",
        "np.random.seed(51)\n",
        "window_size = 64\n",
        "batch_size = 256\n",
        "train_set = windowed_dataset(x_train, window_size, batch_size, shuffle_buffer_size)\n",
        "print(train_set)\n",
        "print(x_train.shape)\n",
        "\n",
        "model = tf.keras.models.Sequential([\n",
        "  tf.keras.layers.Conv1D(filters=32, kernel_size=5,\n",
        "                      strides=1, padding=\"causal\",\n",
        "                      activation=\"relu\",\n",
        "                      input_shape=[None, 1]),\n",
        "  tf.keras.layers.LSTM(64, return_sequences=True),\n",
        "  tf.keras.layers.LSTM(64, return_sequences=True),\n",
        "  tf.keras.layers.Dense(30, activation=\"relu\"),\n",
        "  tf.keras.layers.Dense(10, activation=\"relu\"),\n",
        "  tf.keras.layers.Dense(1),\n",
        "  tf.keras.layers.Lambda(lambda x: x * 400)\n",
        "])\n",
        "\n",
        "lr_schedule = tf.keras.callbacks.LearningRateScheduler(\n",
        "    lambda epoch: 1e-8 * 10**(epoch / 20))\n",
        "optimizer = tf.keras.optimizers.SGD(lr=1e-8, momentum=0.9)\n",
        "model.compile(loss=tf.keras.losses.Huber(),\n",
        "              optimizer=optimizer,\n",
        "              metrics=[\"mae\"])\n",
        "history = model.fit(train_set, epochs=100, callbacks=[lr_schedule])"
      ],
      "execution_count": 0,
      "outputs": [
        {
          "output_type": "stream",
          "text": [
            "<PrefetchDataset shapes: ((None, None, 1), (None, None, 1)), types: (tf.float64, tf.float64)>\n",
            "(1001,)\n",
            "Epoch 1/100\n",
            "4/4 [==============================] - 4s 914ms/step - loss: 4.9370 - mae: 5.3071\n",
            "Epoch 2/100\n",
            "4/4 [==============================] - 1s 319ms/step - loss: 4.9122 - mae: 5.2978\n",
            "Epoch 3/100\n",
            "4/4 [==============================] - 1s 315ms/step - loss: 4.8975 - mae: 5.2812\n",
            "Epoch 4/100\n",
            "4/4 [==============================] - 1s 305ms/step - loss: 4.8780 - mae: 5.2589\n",
            "Epoch 5/100\n",
            "4/4 [==============================] - 1s 307ms/step - loss: 4.8547 - mae: 5.2322\n",
            "Epoch 6/100\n",
            "4/4 [==============================] - 1s 310ms/step - loss: 4.8284 - mae: 5.2019\n",
            "Epoch 7/100\n",
            "4/4 [==============================] - 1s 322ms/step - loss: 4.7998 - mae: 5.1688\n",
            "Epoch 8/100\n",
            "4/4 [==============================] - 1s 313ms/step - loss: 4.7694 - mae: 5.1337\n",
            "Epoch 9/100\n",
            "4/4 [==============================] - 1s 306ms/step - loss: 4.7376 - mae: 5.0976\n",
            "Epoch 10/100\n",
            "4/4 [==============================] - 1s 313ms/step - loss: 4.7047 - mae: 5.0609\n",
            "Epoch 11/100\n",
            "4/4 [==============================] - 1s 307ms/step - loss: 4.6707 - mae: 5.0242\n",
            "Epoch 12/100\n",
            "4/4 [==============================] - 1s 305ms/step - loss: 4.6357 - mae: 4.9874\n",
            "Epoch 13/100\n",
            "4/4 [==============================] - 1s 304ms/step - loss: 4.5992 - mae: 4.9499\n",
            "Epoch 14/100\n",
            "4/4 [==============================] - 1s 312ms/step - loss: 4.5605 - mae: 4.9105\n",
            "Epoch 15/100\n",
            "4/4 [==============================] - 1s 318ms/step - loss: 4.5188 - mae: 4.8683\n",
            "Epoch 16/100\n",
            "4/4 [==============================] - 1s 309ms/step - loss: 4.4731 - mae: 4.8223\n",
            "Epoch 17/100\n",
            "4/4 [==============================] - 1s 311ms/step - loss: 4.4227 - mae: 4.7719\n",
            "Epoch 18/100\n",
            "4/4 [==============================] - 1s 316ms/step - loss: 4.3669 - mae: 4.7165\n",
            "Epoch 19/100\n",
            "4/4 [==============================] - 1s 315ms/step - loss: 4.3050 - mae: 4.6553\n",
            "Epoch 20/100\n",
            "4/4 [==============================] - 1s 311ms/step - loss: 4.2366 - mae: 4.5878\n",
            "Epoch 21/100\n",
            "4/4 [==============================] - 1s 311ms/step - loss: 4.1611 - mae: 4.5135\n",
            "Epoch 22/100\n",
            "4/4 [==============================] - 1s 308ms/step - loss: 4.0778 - mae: 4.4315\n",
            "Epoch 23/100\n",
            "4/4 [==============================] - 1s 310ms/step - loss: 3.9857 - mae: 4.3406\n",
            "Epoch 24/100\n",
            "4/4 [==============================] - 1s 314ms/step - loss: 3.8843 - mae: 4.2400\n",
            "Epoch 25/100\n",
            "4/4 [==============================] - 1s 322ms/step - loss: 3.7734 - mae: 4.1301\n",
            "Epoch 26/100\n",
            "4/4 [==============================] - 1s 322ms/step - loss: 3.6534 - mae: 4.0115\n",
            "Epoch 27/100\n",
            "4/4 [==============================] - 1s 319ms/step - loss: 3.5247 - mae: 3.8848\n",
            "Epoch 28/100\n",
            "4/4 [==============================] - 1s 314ms/step - loss: 3.3877 - mae: 3.7500\n",
            "Epoch 29/100\n",
            "4/4 [==============================] - 1s 310ms/step - loss: 3.2422 - mae: 3.6065\n",
            "Epoch 30/100\n",
            "4/4 [==============================] - 1s 313ms/step - loss: 3.0882 - mae: 3.4552\n",
            "Epoch 31/100\n",
            "4/4 [==============================] - 1s 320ms/step - loss: 2.9261 - mae: 3.2967\n",
            "Epoch 32/100\n",
            "4/4 [==============================] - 1s 320ms/step - loss: 2.7581 - mae: 3.1331\n",
            "Epoch 33/100\n",
            "4/4 [==============================] - 1s 318ms/step - loss: 2.5867 - mae: 2.9658\n",
            "Epoch 34/100\n",
            "4/4 [==============================] - 1s 315ms/step - loss: 2.4142 - mae: 2.7987\n",
            "Epoch 35/100\n",
            "4/4 [==============================] - 1s 307ms/step - loss: 2.2443 - mae: 2.6326\n",
            "Epoch 36/100\n",
            "4/4 [==============================] - 1s 313ms/step - loss: 2.0805 - mae: 2.4737\n",
            "Epoch 37/100\n",
            "4/4 [==============================] - 1s 313ms/step - loss: 1.9267 - mae: 2.3250\n",
            "Epoch 38/100\n",
            "4/4 [==============================] - 1s 317ms/step - loss: 1.7919 - mae: 2.1925\n",
            "Epoch 39/100\n",
            "4/4 [==============================] - 1s 324ms/step - loss: 1.6986 - mae: 2.0971\n",
            "Epoch 40/100\n",
            "4/4 [==============================] - 1s 321ms/step - loss: 1.6422 - mae: 2.0394\n",
            "Epoch 41/100\n",
            "4/4 [==============================] - 1s 312ms/step - loss: 1.5831 - mae: 1.9759\n",
            "Epoch 42/100\n",
            "4/4 [==============================] - 1s 327ms/step - loss: 1.5125 - mae: 1.8942\n",
            "Epoch 43/100\n",
            "4/4 [==============================] - 1s 319ms/step - loss: 1.4470 - mae: 1.8201\n",
            "Epoch 44/100\n",
            "4/4 [==============================] - 1s 313ms/step - loss: 1.3868 - mae: 1.7541\n",
            "Epoch 45/100\n",
            "4/4 [==============================] - 1s 314ms/step - loss: 1.3234 - mae: 1.6883\n",
            "Epoch 46/100\n",
            "4/4 [==============================] - 1s 311ms/step - loss: 1.2589 - mae: 1.6242\n",
            "Epoch 47/100\n",
            "4/4 [==============================] - 1s 322ms/step - loss: 1.1951 - mae: 1.5603\n",
            "Epoch 48/100\n",
            "4/4 [==============================] - 1s 317ms/step - loss: 1.1271 - mae: 1.4925\n",
            "Epoch 49/100\n",
            "4/4 [==============================] - 1s 316ms/step - loss: 1.0610 - mae: 1.4242\n",
            "Epoch 50/100\n",
            "4/4 [==============================] - 1s 317ms/step - loss: 0.9974 - mae: 1.3574\n",
            "Epoch 51/100\n",
            "4/4 [==============================] - 1s 313ms/step - loss: 0.9372 - mae: 1.2950\n",
            "Epoch 52/100\n",
            "4/4 [==============================] - 1s 311ms/step - loss: 0.8830 - mae: 1.2386\n",
            "Epoch 53/100\n",
            "4/4 [==============================] - 1s 312ms/step - loss: 0.8314 - mae: 1.1827\n",
            "Epoch 54/100\n",
            "4/4 [==============================] - 1s 308ms/step - loss: 0.7828 - mae: 1.1307\n",
            "Epoch 55/100\n",
            "4/4 [==============================] - 1s 316ms/step - loss: 0.7376 - mae: 1.0809\n",
            "Epoch 56/100\n",
            "4/4 [==============================] - 1s 309ms/step - loss: 0.6948 - mae: 1.0338\n",
            "Epoch 57/100\n",
            "4/4 [==============================] - 1s 307ms/step - loss: 0.6530 - mae: 0.9892\n",
            "Epoch 58/100\n",
            "4/4 [==============================] - 1s 311ms/step - loss: 0.6118 - mae: 0.9448\n",
            "Epoch 59/100\n",
            "4/4 [==============================] - 1s 318ms/step - loss: 0.5727 - mae: 0.9008\n",
            "Epoch 60/100\n",
            "4/4 [==============================] - 1s 311ms/step - loss: 0.5328 - mae: 0.8537\n",
            "Epoch 61/100\n",
            "4/4 [==============================] - 1s 310ms/step - loss: 0.4919 - mae: 0.8047\n",
            "Epoch 62/100\n",
            "4/4 [==============================] - 1s 313ms/step - loss: 0.4565 - mae: 0.7640\n",
            "Epoch 63/100\n",
            "4/4 [==============================] - 1s 308ms/step - loss: 0.4611 - mae: 0.7784\n",
            "Epoch 64/100\n",
            "4/4 [==============================] - 1s 310ms/step - loss: 0.9472 - mae: 1.4114\n",
            "Epoch 65/100\n",
            "4/4 [==============================] - 1s 304ms/step - loss: 1.1484 - mae: 1.6255\n",
            "Epoch 66/100\n",
            "4/4 [==============================] - 1s 310ms/step - loss: 1.1136 - mae: 1.3969\n",
            "Epoch 67/100\n",
            "4/4 [==============================] - 1s 314ms/step - loss: 1.4573 - mae: 1.9672\n",
            "Epoch 68/100\n",
            "4/4 [==============================] - 1s 310ms/step - loss: 2.5837 - mae: 2.9647\n",
            "Epoch 69/100\n",
            "4/4 [==============================] - 1s 309ms/step - loss: 2.3959 - mae: 2.7553\n",
            "Epoch 70/100\n",
            "4/4 [==============================] - 1s 306ms/step - loss: 1.6985 - mae: 2.2157\n",
            "Epoch 71/100\n",
            "4/4 [==============================] - 1s 313ms/step - loss: 2.5454 - mae: 2.9583\n",
            "Epoch 72/100\n",
            "4/4 [==============================] - 1s 309ms/step - loss: 1.4906 - mae: 1.8907\n",
            "Epoch 73/100\n",
            "4/4 [==============================] - 1s 314ms/step - loss: 1.2401 - mae: 1.7242\n",
            "Epoch 74/100\n",
            "4/4 [==============================] - 1s 307ms/step - loss: 2.2750 - mae: 2.8609\n",
            "Epoch 75/100\n",
            "4/4 [==============================] - 1s 317ms/step - loss: 3.8672 - mae: 4.1670\n",
            "Epoch 76/100\n",
            "4/4 [==============================] - 1s 306ms/step - loss: 5.9662 - mae: 6.1256\n",
            "Epoch 77/100\n",
            "4/4 [==============================] - 1s 306ms/step - loss: 11.0451 - mae: 11.2223\n",
            "Epoch 78/100\n",
            "4/4 [==============================] - 1s 310ms/step - loss: 14.4184 - mae: 14.8515\n",
            "Epoch 79/100\n",
            "4/4 [==============================] - 1s 313ms/step - loss: 2.8501 - mae: 3.4310\n",
            "Epoch 80/100\n",
            "4/4 [==============================] - 1s 312ms/step - loss: 6.6992 - mae: 6.4594\n",
            "Epoch 81/100\n",
            "4/4 [==============================] - 1s 304ms/step - loss: 18.6430 - mae: 18.3755\n",
            "Epoch 82/100\n",
            "4/4 [==============================] - 1s 312ms/step - loss: 9.2128 - mae: 10.2925\n",
            "Epoch 83/100\n",
            "4/4 [==============================] - 1s 314ms/step - loss: 6.1855 - mae: 6.3488\n",
            "Epoch 84/100\n",
            "4/4 [==============================] - 1s 305ms/step - loss: 13.7650 - mae: 15.0202\n",
            "Epoch 85/100\n",
            "4/4 [==============================] - 1s 311ms/step - loss: 31.7196 - mae: 34.3057\n",
            "Epoch 86/100\n",
            "4/4 [==============================] - 1s 306ms/step - loss: 9.1498 - mae: 9.1315\n",
            "Epoch 87/100\n",
            "4/4 [==============================] - 1s 315ms/step - loss: 22.4961 - mae: 23.8498\n",
            "Epoch 88/100\n",
            "4/4 [==============================] - 1s 312ms/step - loss: 40.9636 - mae: 43.3436\n",
            "Epoch 89/100\n",
            "4/4 [==============================] - 1s 309ms/step - loss: 41.2185 - mae: 39.1410\n",
            "Epoch 90/100\n",
            "4/4 [==============================] - 1s 308ms/step - loss: 25.9426 - mae: 28.1737\n",
            "Epoch 91/100\n",
            "4/4 [==============================] - 1s 316ms/step - loss: 59.6428 - mae: 61.7380\n",
            "Epoch 92/100\n",
            "4/4 [==============================] - 1s 307ms/step - loss: 56.5934 - mae: 55.4747\n",
            "Epoch 93/100\n",
            "4/4 [==============================] - 1s 306ms/step - loss: 52.9479 - mae: 54.6762\n",
            "Epoch 94/100\n",
            "4/4 [==============================] - 1s 309ms/step - loss: 66.9169 - mae: 65.9529\n",
            "Epoch 95/100\n",
            "4/4 [==============================] - 1s 304ms/step - loss: 80.6462 - mae: 81.3741\n",
            "Epoch 96/100\n",
            "4/4 [==============================] - 1s 319ms/step - loss: 91.7459 - mae: 92.7143\n",
            "Epoch 97/100\n",
            "4/4 [==============================] - 1s 313ms/step - loss: 76.1467 - mae: 70.8558\n",
            "Epoch 98/100\n",
            "4/4 [==============================] - 1s 307ms/step - loss: 115.9803 - mae: 118.9035\n",
            "Epoch 99/100\n",
            "4/4 [==============================] - 1s 313ms/step - loss: 137.5949 - mae: 138.1438\n",
            "Epoch 100/100\n",
            "4/4 [==============================] - 1s 318ms/step - loss: 97.7597 - mae: 89.7532\n"
          ],
          "name": "stdout"
        }
      ]
    },
    {
      "cell_type": "code",
      "metadata": {
        "id": "t62ECE0UKcca",
        "colab_type": "code",
        "outputId": "1b489f88-e8bc-4184-fb69-a02e442f936c",
        "colab": {
          "base_uri": "https://localhost:8080/",
          "height": 290
        }
      },
      "source": [
        "plt.semilogx(history.history[\"lr\"], history.history[\"loss\"])\n",
        "plt.axis([1e-8, 1e-4, 0, 60])"
      ],
      "execution_count": 0,
      "outputs": [
        {
          "output_type": "execute_result",
          "data": {
            "text/plain": [
              "[1e-08, 0.0001, 0, 60]"
            ]
          },
          "metadata": {
            "tags": []
          },
          "execution_count": 98
        },
        {
          "output_type": "display_data",
          "data": {
            "image/png": "[encoded data removed]",
            "text/plain": [
              "<Figure size 432x288 with 1 Axes>"
            ]
          },
          "metadata": {
            "tags": []
          }
        }
      ]
    },
    {
      "cell_type": "code",
      "metadata": {
        "id": "a0xYYb0UKkHO",
        "colab_type": "code",
        "outputId": "608af0ac-098d-450c-e0c8-cf3181859a8e",
        "colab": {
          "base_uri": "https://localhost:8080/",
          "height": 1000
        }
      },
      "source": [
        "tf.keras.backend.clear_session()\n",
        "tf.random.set_seed(51)\n",
        "np.random.seed(51)\n",
        "train_set = windowed_dataset(x_train, window_size=60, batch_size=100, shuffle_buffer=shuffle_buffer_size)\n",
        "model = tf.keras.models.Sequential([\n",
        "  tf.keras.layers.Conv1D(filters=60, kernel_size=5,\n",
        "                      strides=1, padding=\"causal\",\n",
        "                      activation=\"relu\",\n",
        "                      input_shape=[None, 1]),\n",
        "  tf.keras.layers.LSTM(60, return_sequences=True),\n",
        "  tf.keras.layers.LSTM(60, return_sequences=True),\n",
        "  tf.keras.layers.Dense(30, activation=\"relu\"),\n",
        "  tf.keras.layers.Dense(10, activation=\"relu\"),\n",
        "  tf.keras.layers.Dense(1),\n",
        "  tf.keras.layers.Lambda(lambda x: x * 400)\n",
        "])\n",
        "\n",
        "# update the optimal learning rate, here lr is 10 to the minus 5\n",
        "optimizer = tf.keras.optimizers.SGD(lr=1e-5, momentum=0.9)\n",
        "model.compile(loss=tf.keras.losses.Huber(),\n",
        "              optimizer=optimizer,\n",
        "              metrics=[\"mae\"])\n",
        "history = model.fit(train_set,epochs=150)"
      ],
      "execution_count": 0,
      "outputs": [
        {
          "output_type": "stream",
          "text": [
            "Epoch 1/150\n",
            "10/10 [==============================] - 3s 342ms/step - loss: 4.3634 - mae: 4.9860\n",
            "Epoch 2/150\n",
            "10/10 [==============================] - 1s 112ms/step - loss: 1.6646 - mae: 2.1152\n",
            "Epoch 3/150\n",
            "10/10 [==============================] - 1s 111ms/step - loss: 0.8434 - mae: 1.2343\n",
            "Epoch 4/150\n",
            "10/10 [==============================] - 1s 111ms/step - loss: 0.6564 - mae: 1.0414\n",
            "Epoch 5/150\n",
            "10/10 [==============================] - 1s 113ms/step - loss: 0.4793 - mae: 0.8019\n",
            "Epoch 6/150\n",
            "10/10 [==============================] - 1s 115ms/step - loss: 0.4191 - mae: 0.7657\n",
            "Epoch 7/150\n",
            "10/10 [==============================] - 1s 111ms/step - loss: 0.3939 - mae: 0.7357\n",
            "Epoch 8/150\n",
            "10/10 [==============================] - 1s 111ms/step - loss: 0.3805 - mae: 0.7371\n",
            "Epoch 9/150\n",
            "10/10 [==============================] - 1s 113ms/step - loss: 0.2894 - mae: 0.5932\n",
            "Epoch 10/150\n",
            "10/10 [==============================] - 1s 112ms/step - loss: 0.2375 - mae: 0.4864\n",
            "Epoch 11/150\n",
            "10/10 [==============================] - 1s 110ms/step - loss: 0.2262 - mae: 0.4775\n",
            "Epoch 12/150\n",
            "10/10 [==============================] - 1s 112ms/step - loss: 0.2093 - mae: 0.4338\n",
            "Epoch 13/150\n",
            "10/10 [==============================] - 1s 110ms/step - loss: 0.2036 - mae: 0.4303\n",
            "Epoch 14/150\n",
            "10/10 [==============================] - 1s 112ms/step - loss: 0.1988 - mae: 0.4204\n",
            "Epoch 15/150\n",
            "10/10 [==============================] - 1s 113ms/step - loss: 0.1937 - mae: 0.4146\n",
            "Epoch 16/150\n",
            "10/10 [==============================] - 1s 111ms/step - loss: 0.1904 - mae: 0.4066\n",
            "Epoch 17/150\n",
            "10/10 [==============================] - 1s 112ms/step - loss: 0.1862 - mae: 0.4013\n",
            "Epoch 18/150\n",
            "10/10 [==============================] - 1s 110ms/step - loss: 0.1840 - mae: 0.3962\n",
            "Epoch 19/150\n",
            "10/10 [==============================] - 1s 112ms/step - loss: 0.1809 - mae: 0.3923\n",
            "Epoch 20/150\n",
            "10/10 [==============================] - 1s 111ms/step - loss: 0.1795 - mae: 0.3892\n",
            "Epoch 21/150\n",
            "10/10 [==============================] - 1s 113ms/step - loss: 0.1769 - mae: 0.3857\n",
            "Epoch 22/150\n",
            "10/10 [==============================] - 1s 113ms/step - loss: 0.1756 - mae: 0.3828\n",
            "Epoch 23/150\n",
            "10/10 [==============================] - 1s 111ms/step - loss: 0.1732 - mae: 0.3797\n",
            "Epoch 24/150\n",
            "10/10 [==============================] - 1s 114ms/step - loss: 0.1718 - mae: 0.3766\n",
            "Epoch 25/150\n",
            "10/10 [==============================] - 1s 111ms/step - loss: 0.1698 - mae: 0.3740\n",
            "Epoch 26/150\n",
            "10/10 [==============================] - 1s 112ms/step - loss: 0.1686 - mae: 0.3714\n",
            "Epoch 27/150\n",
            "10/10 [==============================] - 1s 111ms/step - loss: 0.1672 - mae: 0.3697\n",
            "Epoch 28/150\n",
            "10/10 [==============================] - 1s 113ms/step - loss: 0.1660 - mae: 0.3676\n",
            "Epoch 29/150\n",
            "10/10 [==============================] - 1s 111ms/step - loss: 0.1648 - mae: 0.3659\n",
            "Epoch 30/150\n",
            "10/10 [==============================] - 1s 112ms/step - loss: 0.1637 - mae: 0.3638\n",
            "Epoch 31/150\n",
            "10/10 [==============================] - 1s 110ms/step - loss: 0.1626 - mae: 0.3621\n",
            "Epoch 32/150\n",
            "10/10 [==============================] - 1s 111ms/step - loss: 0.1615 - mae: 0.3603\n",
            "Epoch 33/150\n",
            "10/10 [==============================] - 1s 115ms/step - loss: 0.1605 - mae: 0.3587\n",
            "Epoch 34/150\n",
            "10/10 [==============================] - 1s 114ms/step - loss: 0.1595 - mae: 0.3572\n",
            "Epoch 35/150\n",
            "10/10 [==============================] - 1s 114ms/step - loss: 0.1586 - mae: 0.3557\n",
            "Epoch 36/150\n",
            "10/10 [==============================] - 1s 112ms/step - loss: 0.1577 - mae: 0.3542\n",
            "Epoch 37/150\n",
            "10/10 [==============================] - 1s 116ms/step - loss: 0.1568 - mae: 0.3527\n",
            "Epoch 38/150\n",
            "10/10 [==============================] - 1s 111ms/step - loss: 0.1559 - mae: 0.3512\n",
            "Epoch 39/150\n",
            "10/10 [==============================] - 1s 111ms/step - loss: 0.1550 - mae: 0.3498\n",
            "Epoch 40/150\n",
            "10/10 [==============================] - 1s 113ms/step - loss: 0.1542 - mae: 0.3485\n",
            "Epoch 41/150\n",
            "10/10 [==============================] - 1s 112ms/step - loss: 0.1534 - mae: 0.3473\n",
            "Epoch 42/150\n",
            "10/10 [==============================] - 1s 115ms/step - loss: 0.1527 - mae: 0.3462\n",
            "Epoch 43/150\n",
            "10/10 [==============================] - 1s 111ms/step - loss: 0.1520 - mae: 0.3451\n",
            "Epoch 44/150\n",
            "10/10 [==============================] - 1s 111ms/step - loss: 0.1513 - mae: 0.3441\n",
            "Epoch 45/150\n",
            "10/10 [==============================] - 1s 111ms/step - loss: 0.1506 - mae: 0.3430\n",
            "Epoch 46/150\n",
            "10/10 [==============================] - 1s 113ms/step - loss: 0.1500 - mae: 0.3422\n",
            "Epoch 47/150\n",
            "10/10 [==============================] - 1s 110ms/step - loss: 0.1494 - mae: 0.3415\n",
            "Epoch 48/150\n",
            "10/10 [==============================] - 1s 112ms/step - loss: 0.1489 - mae: 0.3407\n",
            "Epoch 49/150\n",
            "10/10 [==============================] - 1s 111ms/step - loss: 0.1483 - mae: 0.3399\n",
            "Epoch 50/150\n",
            "10/10 [==============================] - 1s 111ms/step - loss: 0.1478 - mae: 0.3394\n",
            "Epoch 51/150\n",
            "10/10 [==============================] - 1s 114ms/step - loss: 0.1474 - mae: 0.3393\n",
            "Epoch 52/150\n",
            "10/10 [==============================] - 1s 112ms/step - loss: 0.1470 - mae: 0.3391\n",
            "Epoch 53/150\n",
            "10/10 [==============================] - 1s 111ms/step - loss: 0.1464 - mae: 0.3383\n",
            "Epoch 54/150\n",
            "10/10 [==============================] - 1s 112ms/step - loss: 0.1458 - mae: 0.3375\n",
            "Epoch 55/150\n",
            "10/10 [==============================] - 1s 113ms/step - loss: 0.1453 - mae: 0.3367\n",
            "Epoch 56/150\n",
            "10/10 [==============================] - 1s 111ms/step - loss: 0.1447 - mae: 0.3359\n",
            "Epoch 57/150\n",
            "10/10 [==============================] - 1s 110ms/step - loss: 0.1442 - mae: 0.3352\n",
            "Epoch 58/150\n",
            "10/10 [==============================] - 1s 110ms/step - loss: 0.1436 - mae: 0.3343\n",
            "Epoch 59/150\n",
            "10/10 [==============================] - 1s 111ms/step - loss: 0.1430 - mae: 0.3335\n",
            "Epoch 60/150\n",
            "10/10 [==============================] - 1s 113ms/step - loss: 0.1424 - mae: 0.3326\n",
            "Epoch 61/150\n",
            "10/10 [==============================] - 1s 113ms/step - loss: 0.1419 - mae: 0.3317\n",
            "Epoch 62/150\n",
            "10/10 [==============================] - 1s 112ms/step - loss: 0.1413 - mae: 0.3308\n",
            "Epoch 63/150\n",
            "10/10 [==============================] - 1s 110ms/step - loss: 0.1407 - mae: 0.3299\n",
            "Epoch 64/150\n",
            "10/10 [==============================] - 1s 113ms/step - loss: 0.1402 - mae: 0.3289\n",
            "Epoch 65/150\n",
            "10/10 [==============================] - 1s 111ms/step - loss: 0.1396 - mae: 0.3280\n",
            "Epoch 66/150\n",
            "10/10 [==============================] - 1s 112ms/step - loss: 0.1390 - mae: 0.3271\n",
            "Epoch 67/150\n",
            "10/10 [==============================] - 1s 111ms/step - loss: 0.1385 - mae: 0.3263\n",
            "Epoch 68/150\n",
            "10/10 [==============================] - 1s 110ms/step - loss: 0.1380 - mae: 0.3254\n",
            "Epoch 69/150\n",
            "10/10 [==============================] - 1s 113ms/step - loss: 0.1375 - mae: 0.3246\n",
            "Epoch 70/150\n",
            "10/10 [==============================] - 1s 110ms/step - loss: 0.1369 - mae: 0.3237\n",
            "Epoch 71/150\n",
            "10/10 [==============================] - 1s 112ms/step - loss: 0.1364 - mae: 0.3228\n",
            "Epoch 72/150\n",
            "10/10 [==============================] - 1s 111ms/step - loss: 0.1359 - mae: 0.3220\n",
            "Epoch 73/150\n",
            "10/10 [==============================] - 1s 113ms/step - loss: 0.1353 - mae: 0.3211\n",
            "Epoch 74/150\n",
            "10/10 [==============================] - 1s 113ms/step - loss: 0.1348 - mae: 0.3202\n",
            "Epoch 75/150\n",
            "10/10 [==============================] - 1s 112ms/step - loss: 0.1343 - mae: 0.3193\n",
            "Epoch 76/150\n",
            "10/10 [==============================] - 1s 111ms/step - loss: 0.1338 - mae: 0.3185\n",
            "Epoch 77/150\n",
            "10/10 [==============================] - 1s 111ms/step - loss: 0.1333 - mae: 0.3177\n",
            "Epoch 78/150\n",
            "10/10 [==============================] - 1s 114ms/step - loss: 0.1329 - mae: 0.3169\n",
            "Epoch 79/150\n",
            "10/10 [==============================] - 1s 110ms/step - loss: 0.1324 - mae: 0.3162\n",
            "Epoch 80/150\n",
            "10/10 [==============================] - 1s 110ms/step - loss: 0.1320 - mae: 0.3154\n",
            "Epoch 81/150\n",
            "10/10 [==============================] - 1s 111ms/step - loss: 0.1316 - mae: 0.3145\n",
            "Epoch 82/150\n",
            "10/10 [==============================] - 1s 112ms/step - loss: 0.1312 - mae: 0.3138\n",
            "Epoch 83/150\n",
            "10/10 [==============================] - 1s 111ms/step - loss: 0.1308 - mae: 0.3132\n",
            "Epoch 84/150\n",
            "10/10 [==============================] - 1s 112ms/step - loss: 0.1304 - mae: 0.3125\n",
            "Epoch 85/150\n",
            "10/10 [==============================] - 1s 111ms/step - loss: 0.1300 - mae: 0.3117\n",
            "Epoch 86/150\n",
            "10/10 [==============================] - 1s 112ms/step - loss: 0.1296 - mae: 0.3110\n",
            "Epoch 87/150\n",
            "10/10 [==============================] - 1s 114ms/step - loss: 0.1292 - mae: 0.3105\n",
            "Epoch 88/150\n",
            "10/10 [==============================] - 1s 113ms/step - loss: 0.1289 - mae: 0.3098\n",
            "Epoch 89/150\n",
            "10/10 [==============================] - 1s 114ms/step - loss: 0.1285 - mae: 0.3092\n",
            "Epoch 90/150\n",
            "10/10 [==============================] - 1s 113ms/step - loss: 0.1281 - mae: 0.3085\n",
            "Epoch 91/150\n",
            "10/10 [==============================] - 1s 115ms/step - loss: 0.1277 - mae: 0.3079\n",
            "Epoch 92/150\n",
            "10/10 [==============================] - 1s 112ms/step - loss: 0.1274 - mae: 0.3073\n",
            "Epoch 93/150\n",
            "10/10 [==============================] - 1s 112ms/step - loss: 0.1270 - mae: 0.3068\n",
            "Epoch 94/150\n",
            "10/10 [==============================] - 1s 113ms/step - loss: 0.1267 - mae: 0.3061\n",
            "Epoch 95/150\n",
            "10/10 [==============================] - 1s 110ms/step - loss: 0.1263 - mae: 0.3055\n",
            "Epoch 96/150\n",
            "10/10 [==============================] - 1s 113ms/step - loss: 0.1260 - mae: 0.3049\n",
            "Epoch 97/150\n",
            "10/10 [==============================] - 1s 111ms/step - loss: 0.1256 - mae: 0.3043\n",
            "Epoch 98/150\n",
            "10/10 [==============================] - 1s 110ms/step - loss: 0.1253 - mae: 0.3037\n",
            "Epoch 99/150\n",
            "10/10 [==============================] - 1s 112ms/step - loss: 0.1249 - mae: 0.3031\n",
            "Epoch 100/150\n",
            "10/10 [==============================] - 1s 111ms/step - loss: 0.1246 - mae: 0.3026\n",
            "Epoch 101/150\n",
            "10/10 [==============================] - 1s 115ms/step - loss: 0.1243 - mae: 0.3020\n",
            "Epoch 102/150\n",
            "10/10 [==============================] - 1s 118ms/step - loss: 0.1240 - mae: 0.3014\n",
            "Epoch 103/150\n",
            "10/10 [==============================] - 1s 113ms/step - loss: 0.1236 - mae: 0.3009\n",
            "Epoch 104/150\n",
            "10/10 [==============================] - 1s 112ms/step - loss: 0.1233 - mae: 0.3002\n",
            "Epoch 105/150\n",
            "10/10 [==============================] - 1s 114ms/step - loss: 0.1230 - mae: 0.2997\n",
            "Epoch 106/150\n",
            "10/10 [==============================] - 1s 113ms/step - loss: 0.1227 - mae: 0.2991\n",
            "Epoch 107/150\n",
            "10/10 [==============================] - 1s 115ms/step - loss: 0.1223 - mae: 0.2985\n",
            "Epoch 108/150\n",
            "10/10 [==============================] - 1s 114ms/step - loss: 0.1220 - mae: 0.2979\n",
            "Epoch 109/150\n",
            "10/10 [==============================] - 1s 113ms/step - loss: 0.1217 - mae: 0.2974\n",
            "Epoch 110/150\n",
            "10/10 [==============================] - 1s 116ms/step - loss: 0.1214 - mae: 0.2968\n",
            "Epoch 111/150\n",
            "10/10 [==============================] - 1s 115ms/step - loss: 0.1211 - mae: 0.2963\n",
            "Epoch 112/150\n",
            "10/10 [==============================] - 1s 112ms/step - loss: 0.1208 - mae: 0.2957\n",
            "Epoch 113/150\n",
            "10/10 [==============================] - 1s 110ms/step - loss: 0.1204 - mae: 0.2949\n",
            "Epoch 114/150\n",
            "10/10 [==============================] - 1s 112ms/step - loss: 0.1201 - mae: 0.2942\n",
            "Epoch 115/150\n",
            "10/10 [==============================] - 1s 113ms/step - loss: 0.1198 - mae: 0.2935\n",
            "Epoch 116/150\n",
            "10/10 [==============================] - 1s 111ms/step - loss: 0.1194 - mae: 0.2928\n",
            "Epoch 117/150\n",
            "10/10 [==============================] - 1s 110ms/step - loss: 0.1191 - mae: 0.2921\n",
            "Epoch 118/150\n",
            "10/10 [==============================] - 1s 111ms/step - loss: 0.1188 - mae: 0.2914\n",
            "Epoch 119/150\n",
            "10/10 [==============================] - 1s 112ms/step - loss: 0.1184 - mae: 0.2907\n",
            "Epoch 120/150\n",
            "10/10 [==============================] - 1s 111ms/step - loss: 0.1181 - mae: 0.2900\n",
            "Epoch 121/150\n",
            "10/10 [==============================] - 1s 112ms/step - loss: 0.1178 - mae: 0.2893\n",
            "Epoch 122/150\n",
            "10/10 [==============================] - 1s 110ms/step - loss: 0.1175 - mae: 0.2886\n",
            "Epoch 123/150\n",
            "10/10 [==============================] - 1s 112ms/step - loss: 0.1172 - mae: 0.2880\n",
            "Epoch 124/150\n",
            "10/10 [==============================] - 1s 110ms/step - loss: 0.1169 - mae: 0.2874\n",
            "Epoch 125/150\n",
            "10/10 [==============================] - 1s 111ms/step - loss: 0.1166 - mae: 0.2869\n",
            "Epoch 126/150\n",
            "10/10 [==============================] - 1s 112ms/step - loss: 0.1163 - mae: 0.2864\n",
            "Epoch 127/150\n",
            "10/10 [==============================] - 1s 110ms/step - loss: 0.1161 - mae: 0.2859\n",
            "Epoch 128/150\n",
            "10/10 [==============================] - 1s 112ms/step - loss: 0.1158 - mae: 0.2854\n",
            "Epoch 129/150\n",
            "10/10 [==============================] - 1s 110ms/step - loss: 0.1155 - mae: 0.2849\n",
            "Epoch 130/150\n",
            "10/10 [==============================] - 1s 111ms/step - loss: 0.1153 - mae: 0.2844\n",
            "Epoch 131/150\n",
            "10/10 [==============================] - 1s 110ms/step - loss: 0.1150 - mae: 0.2839\n",
            "Epoch 132/150\n",
            "10/10 [==============================] - 1s 112ms/step - loss: 0.1148 - mae: 0.2834\n",
            "Epoch 133/150\n",
            "10/10 [==============================] - 1s 110ms/step - loss: 0.1145 - mae: 0.2829\n",
            "Epoch 134/150\n",
            "10/10 [==============================] - 1s 111ms/step - loss: 0.1143 - mae: 0.2825\n",
            "Epoch 135/150\n",
            "10/10 [==============================] - 1s 112ms/step - loss: 0.1140 - mae: 0.2821\n",
            "Epoch 136/150\n",
            "10/10 [==============================] - 1s 110ms/step - loss: 0.1138 - mae: 0.2817\n",
            "Epoch 137/150\n",
            "10/10 [==============================] - 1s 113ms/step - loss: 0.1136 - mae: 0.2812\n",
            "Epoch 138/150\n",
            "10/10 [==============================] - 1s 110ms/step - loss: 0.1133 - mae: 0.2808\n",
            "Epoch 139/150\n",
            "10/10 [==============================] - 1s 111ms/step - loss: 0.1131 - mae: 0.2804\n",
            "Epoch 140/150\n",
            "10/10 [==============================] - 1s 110ms/step - loss: 0.1129 - mae: 0.2799\n",
            "Epoch 141/150\n",
            "10/10 [==============================] - 1s 112ms/step - loss: 0.1126 - mae: 0.2795\n",
            "Epoch 142/150\n",
            "10/10 [==============================] - 1s 111ms/step - loss: 0.1124 - mae: 0.2791\n",
            "Epoch 143/150\n",
            "10/10 [==============================] - 1s 112ms/step - loss: 0.1122 - mae: 0.2787\n",
            "Epoch 144/150\n",
            "10/10 [==============================] - 1s 110ms/step - loss: 0.1119 - mae: 0.2782\n",
            "Epoch 145/150\n",
            "10/10 [==============================] - 1s 110ms/step - loss: 0.1117 - mae: 0.2778\n",
            "Epoch 146/150\n",
            "10/10 [==============================] - 1s 110ms/step - loss: 0.1115 - mae: 0.2774\n",
            "Epoch 147/150\n",
            "10/10 [==============================] - 1s 114ms/step - loss: 0.1113 - mae: 0.2770\n",
            "Epoch 148/150\n",
            "10/10 [==============================] - 1s 110ms/step - loss: 0.1111 - mae: 0.2766\n",
            "Epoch 149/150\n",
            "10/10 [==============================] - 1s 110ms/step - loss: 0.1109 - mae: 0.2763\n",
            "Epoch 150/150\n",
            "10/10 [==============================] - 1s 109ms/step - loss: 0.1106 - mae: 0.2759\n"
          ],
          "name": "stdout"
        }
      ]
    },
    {
      "cell_type": "code",
      "metadata": {
        "id": "u81qGql_Mnki",
        "colab_type": "code",
        "colab": {}
      },
      "source": [
        "rnn_forecast = model_forecast(model, series[..., np.newaxis], window_size)\n",
        "rnn_forecast = rnn_forecast[split_time - window_size:-1, -1, 0]"
      ],
      "execution_count": 0,
      "outputs": []
    },
    {
      "cell_type": "code",
      "metadata": {
        "id": "SEcG-WyqMrnt",
        "colab_type": "code",
        "outputId": "54d8ccee-06a6-4b02-fc46-570ba3087900",
        "colab": {
          "base_uri": "https://localhost:8080/",
          "height": 392
        }
      },
      "source": [
        "plt.figure(figsize=(18, 6))\n",
        "plot_series(time_valid, x_valid)\n",
        "plot_series(time_valid, rnn_forecast)"
      ],
      "execution_count": 0,
      "outputs": [
        {
          "output_type": "display_data",
          "data": {
            "image/png": "[encoded data removed]",
            "text/plain": [
              "<Figure size 1296x432 with 1 Axes>"
            ]
          },
          "metadata": {
            "tags": []
          }
        }
      ]
    },
    {
      "cell_type": "code",
      "metadata": {
        "id": "V-C7a4voOxL_",
        "colab_type": "code",
        "outputId": "b05b8d7b-7bf4-4eb8-e8f5-1c949b94db41",
        "colab": {
          "base_uri": "https://localhost:8080/",
          "height": 34
        }
      },
      "source": [
        "tf.keras.metrics.mean_absolute_error(x_valid, rnn_forecast).numpy()"
      ],
      "execution_count": 0,
      "outputs": [
        {
          "output_type": "execute_result",
          "data": {
            "text/plain": [
              "0.2732538"
            ]
          },
          "metadata": {
            "tags": []
          },
          "execution_count": 107
        }
      ]
    },
    {
      "cell_type": "code",
      "metadata": {
        "id": "T6zNr7BNOzh8",
        "colab_type": "code",
        "outputId": "52ef0687-da7b-4ff1-9b7a-34f8e0d95594",
        "colab": {
          "base_uri": "https://localhost:8080/",
          "height": 1000
        }
      },
      "source": [
        "print(rnn_forecast)"
      ],
      "execution_count": 0,
      "outputs": [
        {
          "output_type": "stream",
          "text": [
            "[ 0.30791944  0.29680562  0.26920584  0.25032008  0.26184595  0.2868838\n",
            "  0.29665118  0.30190152  0.30339685  0.3040963   0.30324146  0.3018586\n",
            "  0.30319792  0.3051451   0.30223572  0.29525667  0.28967386  0.2952373\n",
            "  0.3092822   0.321914    0.320704    0.30952415  0.29830354  0.30048802\n",
            "  0.3091237   0.31438503  0.31379348  0.31357828  0.31449822  0.3165403\n",
            "  0.3114336   0.30128795  0.2986156   0.3045261   0.30613434  0.29169732\n",
            "  0.27468538  0.27451897  0.28789157  0.29671532  0.29134762  0.2745135\n",
            "  0.26641637  0.27023092  0.27720988  0.28326207  0.29452005  0.31007227\n",
            "  0.329059    0.35373086  0.3904457   0.44479972  0.5377516   0.65830773\n",
            "  0.81013346  1.0613236   1.2004135   1.2994593   1.3850236   1.4307747\n",
            "  1.4523363   1.4852058   1.5487993   1.6214745   1.6848515   1.7617432\n",
            "  1.7648163   1.7215564   1.7442597   1.81762     1.743017    1.5931284\n",
            "  1.6587464   1.9335306   1.9548459   1.7093298   1.5204409   1.6139951\n",
            "  1.6878022   1.9451784   2.3519115   2.6111748   2.759767    2.9432898\n",
            "  3.3264701   3.5356119   3.2829494   2.7600284   2.6287415   2.745997\n",
            "  2.9239063   2.8414693   2.499624    2.318749    2.2117221   2.0609386\n",
            "  1.9327976   1.8835157   1.8822405   1.9766381   2.3598573   3.0499113\n",
            "  3.8420293   4.4620876   4.885086    5.045519    5.0531363   5.8027086\n",
            "  7.425045    9.377353   10.093425    9.251782    7.9054966   6.632796\n",
            "  4.968949    3.5587833   2.782493    2.64761     2.8769157   3.280532\n",
            "  3.988966    5.4221735   6.7981935   6.8321533   6.0498347   6.3563094\n",
            "  8.183899    9.702241   10.494984   11.282012   12.093621   13.124349\n",
            " 14.490893   15.253891   14.515026   13.321489   13.170748   13.477593\n",
            " 13.177468   12.168513   10.1950245   8.7986355   9.484534   10.789285\n",
            " 12.408034   13.891392   13.872415   12.924279   12.367276   11.528458\n",
            "  9.843512    8.463658    8.046451    7.5401692   6.9742694   6.3463316\n",
            "  5.743504    4.9490733   4.417074    3.9793227   3.5846188   3.5349936\n",
            "  3.7569423   3.8780742   3.859396    3.8928385   4.00101     4.1551514\n",
            "  4.382891    4.324633    4.062254    3.6509569   3.2567117   3.0967505\n",
            "  3.056466    3.1262863   3.4897816   3.6927164   3.2951138   2.7219002\n",
            "  2.691052    2.805211    3.0050528   2.909963    2.5807052   2.6238644\n",
            "  2.878525    2.849809    2.4502707   2.1765952   2.1051867   2.0401006\n",
            "  1.9362906   1.8044574   1.7368575   1.7254548   1.7917091   1.8520021\n",
            "  1.7847506   1.6399102   1.4903586   1.420523    1.4060974   1.3661051\n",
            "  1.2836566   1.1903077   1.1184452   1.0716319   1.06987     1.0835164\n",
            "  1.0458654   0.9932069   0.971261    0.9770978   0.93809813  0.89213306\n",
            "  0.8659035   0.857329    0.855406    0.86777323  0.88394433  0.86674726\n",
            "  0.81941074  0.79759395  0.78996193  0.7846821   0.78560954  0.80713516\n",
            "  0.82877856  0.8413164   0.90249515  0.9244611   0.91664493  0.98193735\n",
            "  1.1226075   1.1243725   1.0048456   0.94178075  0.9248381   0.89027995\n",
            "  0.8892538   0.8750854   0.91133994  0.91915226  0.91390574  0.8920854\n",
            "  0.93154514  0.9624211   0.9753      1.0179201   1.1221915   1.1802468\n",
            "  1.1160867   1.010447    0.9736983   0.9699441   0.93063843  0.9473799\n",
            "  0.997309    1.0059788   0.94159544  0.9335162   0.9384185   0.92998034\n",
            "  0.89810586  0.83192235  0.8229382   0.8076439   0.73726237  0.7572481\n",
            "  0.8305397   0.84345526  0.78325254  0.7441632   0.6979675   0.69073206\n",
            "  0.69762623  0.6567334   0.60620135  0.591887    0.6584007   0.7082027\n",
            "  0.6775614   0.61943644  0.6273161   0.6610137   0.6698053   0.6264859\n",
            "  0.5708695   0.5869865   0.6794374   0.7181884   0.69073534  0.67567897\n",
            "  0.6556999   0.63768446  0.6543512   0.6074004   0.522149    0.53453624\n",
            "  0.6476565   0.7868987   0.78788453  0.72913986  0.7316037   0.7340242\n",
            "  0.69958     0.68683314  0.7046389   0.66705114  0.618896    0.60807663\n",
            "  0.5808991   0.5575428   0.55783814  0.45971727  0.36791366  0.38609222\n",
            "  0.3739531   0.3562156   0.32295272  0.29779056  0.28023434  0.27343363\n",
            "  0.26923722  0.2573395   0.23449242  0.23337603  0.23620124  0.23853253\n",
            "  0.26416722  0.28049     0.2914175   0.27415988  0.27025533  0.27047935\n",
            "  0.28123695  0.28955358  0.29191715  0.29844975  0.30389535  0.30060238\n",
            "  0.30219588  0.30108094  0.29588625  0.28362268  0.28380868  0.28176802\n",
            "  0.2801419   0.28370827  0.29997903  0.30757087  0.30849114  0.31466416\n",
            "  0.3173886   0.3089988   0.29681182  0.28329062  0.27940783  0.2902083\n",
            "  0.30137765  0.3016823   0.29948997  0.3021081   0.3029362   0.30264413\n",
            "  0.30612665  0.30376756  0.2968072   0.29759118  0.30790815  0.31467694\n",
            "  0.31482208  0.31313178  0.31299838  0.31451833  0.3170429   0.318804\n",
            "  0.31159946  0.30428365  0.305884    0.31587523  0.30855754  0.30411422\n",
            "  0.31191874  0.32352376  0.3198612   0.31225812  0.30587077  0.29901192\n",
            "  0.3036264   0.30054334  0.28887996  0.28877068  0.29702955  0.29635808\n",
            "  0.28657392  0.2816277   0.2781778   0.28047708  0.2799627   0.2787129\n",
            "  0.27898088  0.28311023  0.28223267  0.27894354  0.27514282  0.27677006\n",
            "  0.28052732  0.28746814  0.28827658  0.2867159   0.29048073  0.30545276\n",
            "  0.32402834  0.33662635  0.3307324   0.32094386  0.31364775  0.31030896\n",
            "  0.3074301   0.31195438  0.33314425  0.35611987  0.36273873  0.35273534\n",
            "  0.34694535  0.348244    0.35233483  0.35343027  0.3619838   0.40094373\n",
            "  0.47384614  0.562389    0.6023994   0.6265377   0.68652576  0.8139081\n",
            "  1.0002347   1.2437427   1.1874838   0.8787645   0.9468034   1.2098323\n",
            "  1.3246491   1.2931503   1.1989739   1.2510883   1.3112482   1.3297886\n",
            "  1.3108704   1.2950205   1.2950894   1.3743927   1.6304357   1.8436029\n",
            "  1.9468678   2.1546717   2.5386207   2.8803844 ]\n"
          ],
          "name": "stdout"
        }
      ]
    },
    {
      "cell_type": "code",
      "metadata": {
        "id": "qLVXxiz6O7H_",
        "colab_type": "code",
        "outputId": "50413757-4ea5-4519-90a7-701a1f94b5d0",
        "colab": {
          "base_uri": "https://localhost:8080/",
          "height": 34
        }
      },
      "source": [
        "len(rnn_forecast)\n"
      ],
      "execution_count": 0,
      "outputs": [
        {
          "output_type": "execute_result",
          "data": {
            "text/plain": [
              "460"
            ]
          },
          "metadata": {
            "tags": []
          },
          "execution_count": 114
        }
      ]
    },
    {
      "cell_type": "markdown",
      "metadata": {
        "id": "B1GtbEPTQJTB",
        "colab_type": "text"
      },
      "source": [
        "### LSTM - Treat as a multivariate problem"
      ]
    },
    {
      "cell_type": "code",
      "metadata": {
        "id": "8gEzct-HeFl5",
        "colab_type": "code",
        "colab": {
          "base_uri": "https://localhost:8080/",
          "height": 414
        },
        "outputId": "898754a4-6ef7-4506-b7e8-6291b978e894"
      },
      "source": [
        "!pip uninstall tensorflow \n",
        "\n",
        "!pip uninstall keras"
      ],
      "execution_count": 61,
      "outputs": [
        {
          "output_type": "stream",
          "text": [
            "Uninstalling tensorflow-2.0.0b1:\n",
            "  Would remove:\n",
            "    /usr/local/bin/freeze_graph\n",
            "    /usr/local/bin/saved_model_cli\n",
            "    /usr/local/bin/tensorboard\n",
            "    /usr/local/bin/tf_upgrade_v2\n",
            "    /usr/local/bin/tflite_convert\n",
            "    /usr/local/bin/toco\n",
            "    /usr/local/bin/toco_from_protos\n",
            "    /usr/local/lib/python3.6/dist-packages/tensorflow-2.0.0b1.dist-info/*\n",
            "    /usr/local/lib/python3.6/dist-packages/tensorflow/*\n",
            "Proceed (y/n)? y\n",
            "  Successfully uninstalled tensorflow-2.0.0b1\n",
            "Uninstalling Keras-2.2.4:\n",
            "  Would remove:\n",
            "    /usr/local/lib/python3.6/dist-packages/Keras-2.2.4.dist-info/*\n",
            "    /usr/local/lib/python3.6/dist-packages/docs/*\n",
            "    /usr/local/lib/python3.6/dist-packages/keras/*\n",
            "  Would not remove (might be manually added):\n",
            "    /usr/local/lib/python3.6/dist-packages/docs/md_autogen.py\n",
            "    /usr/local/lib/python3.6/dist-packages/docs/update_docs.py\n",
            "Proceed (y/n)? y\n",
            "  Successfully uninstalled Keras-2.2.4\n"
          ],
          "name": "stdout"
        }
      ]
    },
    {
      "cell_type": "code",
      "metadata": {
        "id": "bZCLiWPQePn1",
        "colab_type": "code",
        "colab": {
          "base_uri": "https://localhost:8080/",
          "height": 745
        },
        "outputId": "b223b499-54a4-43e1-e139-de2f62a53aac"
      },
      "source": [
        "!pip install tensorflow==1.2.0\n",
        "!pip install keras==2.0.9"
      ],
      "execution_count": 62,
      "outputs": [
        {
          "output_type": "stream",
          "text": [
            "Collecting tensorflow==1.2.0\n",
            "  Using cached https://files.pythonhosted.org/packages/5e/55/7995cc1e9e60fa37ea90e6777d832e75026fde5c6109215d892aaff2e9b7/tensorflow-1.2.0-cp36-cp36m-manylinux1_x86_64.whl\n",
            "Requirement already satisfied: wheel>=0.26 in /usr/local/lib/python3.6/dist-packages (from tensorflow==1.2.0) (0.33.4)\n",
            "Requirement already satisfied: werkzeug>=0.11.10 in /usr/local/lib/python3.6/dist-packages (from tensorflow==1.2.0) (0.15.5)\n",
            "Requirement already satisfied: html5lib==0.9999999 in /usr/local/lib/python3.6/dist-packages (from tensorflow==1.2.0) (0.9999999)\n",
            "Collecting markdown==2.2.0 (from tensorflow==1.2.0)\n",
            "Requirement already satisfied: bleach==1.5.0 in /usr/local/lib/python3.6/dist-packages (from tensorflow==1.2.0) (1.5.0)\n",
            "Requirement already satisfied: numpy>=1.11.0 in /usr/local/lib/python3.6/dist-packages (from tensorflow==1.2.0) (1.16.4)\n",
            "Requirement already satisfied: six>=1.10.0 in /usr/local/lib/python3.6/dist-packages (from tensorflow==1.2.0) (1.12.0)\n",
            "Requirement already satisfied: backports.weakref==1.0rc1 in /usr/local/lib/python3.6/dist-packages (from tensorflow==1.2.0) (1.0rc1)\n",
            "Requirement already satisfied: protobuf>=3.2.0 in /usr/local/lib/python3.6/dist-packages (from tensorflow==1.2.0) (3.7.1)\n",
            "Requirement already satisfied: setuptools in /usr/local/lib/python3.6/dist-packages (from protobuf>=3.2.0->tensorflow==1.2.0) (41.0.1)\n",
            "\u001b[31mERROR: fancyimpute 0.4.3 requires keras>=2.0.0, which is not installed.\u001b[0m\n",
            "\u001b[31mERROR: tensorboard 1.14.0 has requirement markdown>=2.6.8, but you'll have markdown 2.2.0 which is incompatible.\u001b[0m\n",
            "\u001b[31mERROR: tb-nightly 1.14.0a20190603 has requirement markdown>=2.6.8, but you'll have markdown 2.2.0 which is incompatible.\u001b[0m\n",
            "\u001b[31mERROR: stable-baselines 2.2.1 has requirement tensorflow>=1.5.0, but you'll have tensorflow 1.2.0 which is incompatible.\u001b[0m\n",
            "\u001b[31mERROR: magenta 0.3.19 has requirement tensorflow>=1.12.0, but you'll have tensorflow 1.2.0 which is incompatible.\u001b[0m\n",
            "Installing collected packages: markdown, tensorflow\n",
            "  Found existing installation: Markdown 3.1.1\n",
            "    Uninstalling Markdown-3.1.1:\n",
            "      Successfully uninstalled Markdown-3.1.1\n",
            "Successfully installed markdown-2.2.0 tensorflow-1.2.0\n"
          ],
          "name": "stdout"
        },
        {
          "output_type": "display_data",
          "data": {
            "application/vnd.colab-display-data+json": {
              "pip_warning": {
                "packages": [
                  "tensorflow"
                ]
              }
            }
          },
          "metadata": {
            "tags": []
          }
        },
        {
          "output_type": "stream",
          "text": [
            "Collecting keras==2.0.9\n",
            "  Using cached https://files.pythonhosted.org/packages/b6/5a/c7fe49396e9d14f89b05ea550f3d5f8c4cfb3af20e831a3d323fec2a0d5b/Keras-2.0.9-py2.py3-none-any.whl\n",
            "Requirement already satisfied: six>=1.9.0 in /usr/local/lib/python3.6/dist-packages (from keras==2.0.9) (1.12.0)\n",
            "Requirement already satisfied: numpy>=1.9.1 in /usr/local/lib/python3.6/dist-packages (from keras==2.0.9) (1.16.4)\n",
            "Requirement already satisfied: scipy>=0.14 in /usr/local/lib/python3.6/dist-packages (from keras==2.0.9) (1.3.1)\n",
            "Requirement already satisfied: pyyaml in /usr/local/lib/python3.6/dist-packages (from keras==2.0.9) (3.13)\n",
            "\u001b[31mERROR: textgenrnn 1.4.1 has requirement keras>=2.1.5, but you'll have keras 2.0.9 which is incompatible.\u001b[0m\n",
            "Installing collected packages: keras\n",
            "Successfully installed keras-2.0.9\n"
          ],
          "name": "stdout"
        },
        {
          "output_type": "display_data",
          "data": {
            "application/vnd.colab-display-data+json": {
              "pip_warning": {
                "packages": [
                  "keras"
                ]
              }
            }
          },
          "metadata": {
            "tags": []
          }
        }
      ]
    },
    {
      "cell_type": "code",
      "metadata": {
        "id": "LlYnb1b085hF",
        "colab_type": "code",
        "colab": {}
      },
      "source": [
        "from sklearn.metrics import mean_absolute_error,mean_squared_error"
      ],
      "execution_count": 0,
      "outputs": []
    },
    {
      "cell_type": "markdown",
      "metadata": {
        "id": "uVutGLWTPCLb",
        "colab_type": "text"
      },
      "source": [
        "#### model build-up without considering lagging and previous label data (discharge)"
      ]
    },
    {
      "cell_type": "code",
      "metadata": {
        "id": "NJ3H_KJEUBhV",
        "colab_type": "code",
        "colab": {
          "base_uri": "https://localhost:8080/",
          "height": 340
        },
        "outputId": "fd4d8b71-eed3-4192-8ae2-a38ed5472bbe"
      },
      "source": [
        "EastRiver.head()"
      ],
      "execution_count": 7,
      "outputs": [
        {
          "output_type": "execute_result",
          "data": {
            "text/html": [
              "<div>\n",
              "<style scoped>\n",
              "    .dataframe tbody tr th:only-of-type {\n",
              "        vertical-align: middle;\n",
              "    }\n",
              "\n",
              "    .dataframe tbody tr th {\n",
              "        vertical-align: top;\n",
              "    }\n",
              "\n",
              "    .dataframe thead th {\n",
              "        text-align: right;\n",
              "    }\n",
              "</style>\n",
              "<table border=\"1\" class=\"dataframe\">\n",
              "  <thead>\n",
              "    <tr style=\"text-align: right;\">\n",
              "      <th></th>\n",
              "      <th>discharge</th>\n",
              "      <th>kp_soilmoisture</th>\n",
              "      <th>jf_soilmoisture</th>\n",
              "      <th>ncrs380_swe</th>\n",
              "      <th>ncrs680_swe</th>\n",
              "      <th>ncrs380_rain</th>\n",
              "      <th>ncrs680_rain</th>\n",
              "      <th>nrcs380_temperature</th>\n",
              "      <th>nrcs680_temperature</th>\n",
              "    </tr>\n",
              "    <tr>\n",
              "      <th>DateTime</th>\n",
              "      <th></th>\n",
              "      <th></th>\n",
              "      <th></th>\n",
              "      <th></th>\n",
              "      <th></th>\n",
              "      <th></th>\n",
              "      <th></th>\n",
              "      <th></th>\n",
              "      <th></th>\n",
              "    </tr>\n",
              "  </thead>\n",
              "  <tbody>\n",
              "    <tr>\n",
              "      <th>2014-05-01</th>\n",
              "      <td>4.56823</td>\n",
              "      <td>0.324472</td>\n",
              "      <td>0.356694</td>\n",
              "      <td>26.493304</td>\n",
              "      <td>24.595667</td>\n",
              "      <td>0.00000</td>\n",
              "      <td>0.000000</td>\n",
              "      <td>-0.739130</td>\n",
              "      <td>-0.091667</td>\n",
              "    </tr>\n",
              "    <tr>\n",
              "      <th>2014-05-02</th>\n",
              "      <td>4.54378</td>\n",
              "      <td>0.323333</td>\n",
              "      <td>0.356118</td>\n",
              "      <td>25.347083</td>\n",
              "      <td>23.622000</td>\n",
              "      <td>0.00000</td>\n",
              "      <td>0.000000</td>\n",
              "      <td>4.900000</td>\n",
              "      <td>4.333333</td>\n",
              "    </tr>\n",
              "    <tr>\n",
              "      <th>2014-05-03</th>\n",
              "      <td>4.97784</td>\n",
              "      <td>0.320021</td>\n",
              "      <td>0.372965</td>\n",
              "      <td>23.018750</td>\n",
              "      <td>21.992167</td>\n",
              "      <td>0.00000</td>\n",
              "      <td>0.010583</td>\n",
              "      <td>7.933333</td>\n",
              "      <td>6.533333</td>\n",
              "    </tr>\n",
              "    <tr>\n",
              "      <th>2014-05-04</th>\n",
              "      <td>6.07829</td>\n",
              "      <td>0.318597</td>\n",
              "      <td>0.388826</td>\n",
              "      <td>20.415250</td>\n",
              "      <td>19.526250</td>\n",
              "      <td>0.00000</td>\n",
              "      <td>0.000000</td>\n",
              "      <td>9.608333</td>\n",
              "      <td>7.270833</td>\n",
              "    </tr>\n",
              "    <tr>\n",
              "      <th>2014-05-05</th>\n",
              "      <td>7.20931</td>\n",
              "      <td>0.317035</td>\n",
              "      <td>0.392062</td>\n",
              "      <td>17.959917</td>\n",
              "      <td>16.457083</td>\n",
              "      <td>0.03175</td>\n",
              "      <td>0.052917</td>\n",
              "      <td>8.925000</td>\n",
              "      <td>6.795833</td>\n",
              "    </tr>\n",
              "  </tbody>\n",
              "</table>\n",
              "</div>"
            ],
            "text/plain": [
              "            discharge  ...  nrcs680_temperature\n",
              "DateTime               ...                     \n",
              "2014-05-01    4.56823  ...            -0.091667\n",
              "2014-05-02    4.54378  ...             4.333333\n",
              "2014-05-03    4.97784  ...             6.533333\n",
              "2014-05-04    6.07829  ...             7.270833\n",
              "2014-05-05    7.20931  ...             6.795833\n",
              "\n",
              "[5 rows x 9 columns]"
            ]
          },
          "metadata": {
            "tags": []
          },
          "execution_count": 7
        }
      ]
    },
    {
      "cell_type": "code",
      "metadata": {
        "id": "1670RqsxPMZk",
        "colab_type": "code",
        "colab": {
          "base_uri": "https://localhost:8080/",
          "height": 241
        },
        "outputId": "d9a0c11e-9073-41b9-bd5b-78ec0624e9f3"
      },
      "source": [
        "values = EastRiver.values\n",
        "\n",
        "# ensure all data is float\n",
        "values = values.astype('float64')\n",
        "values"
      ],
      "execution_count": 8,
      "outputs": [
        {
          "output_type": "execute_result",
          "data": {
            "text/plain": [
              "array([[ 4.56823015,  0.32447222,  0.35669444, ...,  0.        ,\n",
              "        -0.73913043, -0.0916667 ],\n",
              "       [ 4.54377985,  0.32333333,  0.35611806, ...,  0.        ,\n",
              "         4.90000004,  4.33333332],\n",
              "       [ 4.97783995,  0.32002083,  0.37296528, ...,  0.01058337,\n",
              "         7.93333341,  6.53333335],\n",
              "       ...,\n",
              "       [ 2.69498049,  0.29336111,  0.41890972, ...,  0.2751663 ,\n",
              "         7.08750008,  5.50833339],\n",
              "       [ 2.96596768,  0.2936875 ,  0.40875694, ...,  0.02116675,\n",
              "         6.21250009,  6.49166663],\n",
              "       [ 2.99508346,  0.29104167,  0.38697222, ...,  0.05291657,\n",
              "         5.97499997,  4.62916672]])"
            ]
          },
          "metadata": {
            "tags": []
          },
          "execution_count": 8
        }
      ]
    },
    {
      "cell_type": "code",
      "metadata": {
        "id": "f2cz8WCNT0Lc",
        "colab_type": "code",
        "colab": {
          "base_uri": "https://localhost:8080/",
          "height": 34
        },
        "outputId": "b4707176-05a3-4ed9-d573-4b96d9342532"
      },
      "source": [
        "split_time = 1000\n",
        "\n",
        "# use discharge as label and other columns as features\n",
        "X = values[:,1:]\n",
        "y = values[:,0]\n",
        "\n",
        "x_train = X[:split_time,:]\n",
        "x_test = X[split_time:,:]\n",
        "y_train = y[:split_time]\n",
        "y_test = y[split_time:]\n",
        "\n",
        "print (x_train.shape,x_test.shape,y_train.shape,y_test.shape)"
      ],
      "execution_count": 9,
      "outputs": [
        {
          "output_type": "stream",
          "text": [
            "(1000, 8) (461, 8) (1000,) (461,)\n"
          ],
          "name": "stdout"
        }
      ]
    },
    {
      "cell_type": "code",
      "metadata": {
        "id": "1BW8A2E0QWXT",
        "colab_type": "code",
        "colab": {
          "base_uri": "https://localhost:8080/",
          "height": 34
        },
        "outputId": "629b17dc-55cc-47e0-9b3a-f49e534f8644"
      },
      "source": [
        "# reshape data to fit for lstm\n",
        "# dimensions = (sample#, timeSteps, features)\n",
        "\n",
        "timeSteps = 1\n",
        "features = x_train.shape[1] # here's 8\n",
        "\n",
        "x_train = x_train.reshape(x_train.shape[0], timeSteps, features)\n",
        "x_test = x_test.reshape(x_test.shape[0], timeSteps, features)\n",
        "\n",
        "print (x_train.shape,x_test.shape)"
      ],
      "execution_count": 10,
      "outputs": [
        {
          "output_type": "stream",
          "text": [
            "(1000, 1, 8) (461, 1, 8)\n"
          ],
          "name": "stdout"
        }
      ]
    },
    {
      "cell_type": "code",
      "metadata": {
        "id": "yySfdUTijL6g",
        "colab_type": "code",
        "colab": {
          "base_uri": "https://localhost:8080/",
          "height": 34
        },
        "outputId": "b9efe63c-4bd5-4f47-e45f-da32fa673bd1"
      },
      "source": [
        "x_train.shape[2]"
      ],
      "execution_count": 59,
      "outputs": [
        {
          "output_type": "execute_result",
          "data": {
            "text/plain": [
              "8"
            ]
          },
          "metadata": {
            "tags": []
          },
          "execution_count": 59
        }
      ]
    },
    {
      "cell_type": "markdown",
      "metadata": {
        "id": "POw98AI3YF4s",
        "colab_type": "text"
      },
      "source": [
        "optimizer == \"adam\" with one hidden layer"
      ]
    },
    {
      "cell_type": "code",
      "metadata": {
        "id": "IWcMmr59Yb3w",
        "colab_type": "code",
        "colab": {}
      },
      "source": [
        "model = Sequential()\n",
        "model.add(LSTM(50,input_shape = (timeSteps,x_train.shape[2]))) # define the LSTM with 50 neurons in the first hidden layer \n",
        "model.add(Dense(15, activation=\"relu\"))\n",
        "model.add(Dense(1)) # 1 neuron in the output layer\n",
        "\n",
        "model.compile(loss = \"mae\", optimizer = \"adam\")\n",
        "\n",
        "history =  model.fit(x_train,y_train, validation_data = (x_test,y_test), epochs = 150 , batch_size = 32, verbose = 0, shuffle = False)"
      ],
      "execution_count": 0,
      "outputs": []
    },
    {
      "cell_type": "code",
      "metadata": {
        "id": "B-Ny_jgib7zd",
        "colab_type": "code",
        "colab": {}
      },
      "source": [
        "test_time = list(range(split_time, split_time + y_test.shape[0]))\n",
        "test_time"
      ],
      "execution_count": 0,
      "outputs": []
    },
    {
      "cell_type": "code",
      "metadata": {
        "id": "lFyEGde8bAPg",
        "colab_type": "code",
        "colab": {}
      },
      "source": [
        "y_pred = model.predict(x_test)\n",
        "y_test = y_test.reshape(len(y_test), 1)"
      ],
      "execution_count": 0,
      "outputs": []
    },
    {
      "cell_type": "code",
      "metadata": {
        "id": "0NVxLxfEeLdV",
        "colab_type": "code",
        "colab": {
          "base_uri": "https://localhost:8080/",
          "height": 392
        },
        "outputId": "40f37766-5927-4304-cb30-81d27aaabed7"
      },
      "source": [
        "plt.figure(figsize=(18, 6))\n",
        "plot_series(test_time, y_test)\n",
        "plot_series(test_time, y_pred)"
      ],
      "execution_count": 27,
      "outputs": [
        {
          "output_type": "display_data",
          "data": {
            "image/png": "[encoded data removed]",
            "text/plain": [
              "<Figure size 1296x432 with 1 Axes>"
            ]
          },
          "metadata": {
            "tags": []
          }
        }
      ]
    },
    {
      "cell_type": "markdown",
      "metadata": {
        "id": "XAAbIrPju-48",
        "colab_type": "text"
      },
      "source": [
        "optimizer == \"adam\" with no hidden layer"
      ]
    },
    {
      "cell_type": "code",
      "metadata": {
        "id": "PeuKvFksvCAt",
        "colab_type": "code",
        "colab": {}
      },
      "source": [
        "model = Sequential()\n",
        "model.add(LSTM(50,input_shape = (timeSteps,x_train.shape[2]))) # define the LSTM with 50 neurons in the first hidden layer \n",
        "model.add(Dense(1)) # 1 neuron in the output layer\n",
        "\n",
        "model.compile(loss = \"mae\", optimizer = \"adam\")\n",
        "\n",
        "history =  model.fit(x_train,y_train, validation_data = (x_test,y_test), epochs = 150 , batch_size = 32, verbose = 0, shuffle = False)"
      ],
      "execution_count": 0,
      "outputs": []
    },
    {
      "cell_type": "code",
      "metadata": {
        "id": "e5tDlmK2vF07",
        "colab_type": "code",
        "colab": {}
      },
      "source": [
        "y_pred = model.predict(x_test)\n",
        "y_test = y_test.reshape(len(y_test), 1)"
      ],
      "execution_count": 0,
      "outputs": []
    },
    {
      "cell_type": "code",
      "metadata": {
        "id": "IAA6Ll5OvJIJ",
        "colab_type": "code",
        "colab": {
          "base_uri": "https://localhost:8080/",
          "height": 392
        },
        "outputId": "342a1d00-a67a-4e3b-b163-b17796a9b1eb"
      },
      "source": [
        "plt.figure(figsize=(18, 6))\n",
        "plot_series(test_time, y_test)\n",
        "plot_series(test_time, y_pred)"
      ],
      "execution_count": 30,
      "outputs": [
        {
          "output_type": "display_data",
          "data": {
            "image/png": "[encoded data removed]",
            "text/plain": [
              "<Figure size 1296x432 with 1 Axes>"
            ]
          },
          "metadata": {
            "tags": []
          }
        }
      ]
    },
    {
      "cell_type": "markdown",
      "metadata": {
        "id": "1UXvSs1XndwN",
        "colab_type": "text"
      },
      "source": [
        "optimizer == \"SGD\" with one hidden layer\n",
        "\n"
      ]
    },
    {
      "cell_type": "code",
      "metadata": {
        "id": "IC6M059jquu3",
        "colab_type": "code",
        "colab": {}
      },
      "source": [
        "model = Sequential()\n",
        "model.add(LSTM(50,input_shape = (timeSteps,x_train.shape[2]))) # define the LSTM with 50 neurons in the first hidden layer \n",
        "model.add(Dense(15, activation=\"relu\"))\n",
        "model.add(Dense(1)) # 1 neuron in the output layer\n",
        "\n",
        "model.compile(loss = \"mae\", optimizer = \"sgd\")\n",
        "\n",
        "history =  model.fit(x_train,y_train, validation_data = (x_test,y_test), epochs = 150 , batch_size = 32, verbose = 0, shuffle = False)"
      ],
      "execution_count": 0,
      "outputs": []
    },
    {
      "cell_type": "code",
      "metadata": {
        "id": "UOSMx3yCq_AH",
        "colab_type": "code",
        "colab": {}
      },
      "source": [
        "y_pred = model.predict(x_test)\n",
        "y_test = y_test.reshape(len(y_test), 1)"
      ],
      "execution_count": 0,
      "outputs": []
    },
    {
      "cell_type": "code",
      "metadata": {
        "id": "YL7Q4rwSrCyD",
        "colab_type": "code",
        "colab": {
          "base_uri": "https://localhost:8080/",
          "height": 392
        },
        "outputId": "93e7e716-7958-4fe3-f702-528e7a1a4240"
      },
      "source": [
        "plt.figure(figsize=(18, 6))\n",
        "plot_series(test_time, y_test)\n",
        "plot_series(test_time, y_pred)"
      ],
      "execution_count": 18,
      "outputs": [
        {
          "output_type": "display_data",
          "data": {
            "image/png": "[encoded data removed]",
            "text/plain": [
              "<Figure size 1296x432 with 1 Axes>"
            ]
          },
          "metadata": {
            "tags": []
          }
        }
      ]
    },
    {
      "cell_type": "markdown",
      "metadata": {
        "id": "6DjxSiatyKlD",
        "colab_type": "text"
      },
      "source": [
        "optimizer == \"SGD\" with no hidden layer"
      ]
    },
    {
      "cell_type": "code",
      "metadata": {
        "id": "AmCbyMVByLjE",
        "colab_type": "code",
        "colab": {}
      },
      "source": [
        "model = Sequential()\n",
        "model.add(LSTM(50,input_shape = (timeSteps,x_train.shape[2]))) # define the LSTM with 50 neurons in the first hidden layer \n",
        "model.add(Dense(1)) # 1 neuron in the output layer\n",
        "\n",
        "model.compile(loss = \"mae\", optimizer = \"sgd\")\n",
        "\n",
        "history =  model.fit(x_train,y_train, validation_data = (x_test,y_test), epochs = 150 , batch_size = 32, verbose = 0, shuffle = False)"
      ],
      "execution_count": 0,
      "outputs": []
    },
    {
      "cell_type": "code",
      "metadata": {
        "id": "no5kQU6yyR3H",
        "colab_type": "code",
        "colab": {}
      },
      "source": [
        "y_pred = model.predict(x_test)\n",
        "y_test = y_test.reshape(len(y_test), 1)"
      ],
      "execution_count": 0,
      "outputs": []
    },
    {
      "cell_type": "code",
      "metadata": {
        "id": "QQ0HdWtzyUqw",
        "colab_type": "code",
        "colab": {
          "base_uri": "https://localhost:8080/",
          "height": 392
        },
        "outputId": "9936bb01-6eb7-48da-b6f2-66e3773fb49f"
      },
      "source": [
        "plt.figure(figsize=(18, 6))\n",
        "plot_series(test_time, y_test)\n",
        "plot_series(test_time, y_pred)"
      ],
      "execution_count": 33,
      "outputs": [
        {
          "output_type": "display_data",
          "data": {
            "image/png": "[encoded data removed]",
            "text/plain": [
              "<Figure size 1296x432 with 1 Axes>"
            ]
          },
          "metadata": {
            "tags": []
          }
        }
      ]
    },
    {
      "cell_type": "markdown",
      "metadata": {
        "id": "NVJxauphQniB",
        "colab_type": "text"
      },
      "source": [
        "#### model build-up considering lagging and previous label data"
      ]
    },
    {
      "cell_type": "code",
      "metadata": {
        "id": "932lRX6NzHvJ",
        "colab_type": "code",
        "colab": {
          "base_uri": "https://localhost:8080/",
          "height": 34
        },
        "outputId": "f44e7259-310b-4f9b-f08e-423fe31422d8"
      },
      "source": [
        "values = EastRiver.values\n",
        "values.shape[1]"
      ],
      "execution_count": 38,
      "outputs": [
        {
          "output_type": "execute_result",
          "data": {
            "text/plain": [
              "9"
            ]
          },
          "metadata": {
            "tags": []
          },
          "execution_count": 38
        }
      ]
    },
    {
      "cell_type": "code",
      "metadata": {
        "id": "k2XTJnvdQrdt",
        "colab_type": "code",
        "colab": {
          "base_uri": "https://localhost:8080/",
          "height": 241
        },
        "outputId": "f4a7dd6b-412a-4b18-a64c-7c4242ca9ba9"
      },
      "source": [
        "# ensure all data is float\n",
        "values = values.astype('float64')"
      ],
      "execution_count": 36,
      "outputs": [
        {
          "output_type": "execute_result",
          "data": {
            "text/plain": [
              "array([[2.67283048e-01, 9.73574032e-01, 8.48150592e-01, ...,\n",
              "        0.00000000e+00, 4.51304247e-01, 5.74970129e-01],\n",
              "       [2.65840938e-01, 9.69535020e-01, 8.46780053e-01, ...,\n",
              "        0.00000000e+00, 6.10921102e-01, 6.88257378e-01],\n",
              "       [2.91442364e-01, 9.57787409e-01, 8.86839498e-01, ...,\n",
              "        7.07549917e-04, 6.96780285e-01, 7.44580983e-01],\n",
              "       ...,\n",
              "       [1.56796360e-01, 8.63240075e-01, 9.96086524e-01, ...,\n",
              "        1.83962034e-02, 6.72838782e-01, 7.18339305e-01],\n",
              "       [1.72779535e-01, 8.64397597e-01, 9.71945176e-01, ...,\n",
              "        1.41509983e-03, 6.48071711e-01, 7.43514247e-01],\n",
              "       [1.74496821e-01, 8.55014286e-01, 9.20145309e-01, ...,\n",
              "        3.53772934e-03, 6.41349217e-01, 6.95831198e-01]])"
            ]
          },
          "metadata": {
            "tags": []
          },
          "execution_count": 36
        }
      ]
    },
    {
      "cell_type": "code",
      "metadata": {
        "id": "eKmQTiwQ48B-",
        "colab_type": "code",
        "colab": {}
      },
      "source": [
        "# normalize features (optional)\n",
        "from sklearn.preprocessing import MinMaxScaler\n",
        "scaler = MinMaxScaler()\n",
        "scaled = scaler.fit_transform(values)\n",
        "scaled"
      ],
      "execution_count": 0,
      "outputs": []
    },
    {
      "cell_type": "code",
      "metadata": {
        "id": "cw5w6489RL43",
        "colab_type": "code",
        "colab": {}
      },
      "source": [
        "#convert data to supervised form\n",
        "\n",
        "def to_supervised(data,dropNa = True,lag = timeSteps):\n",
        "    df = pd.DataFrame(data)\n",
        "    column = []\n",
        "    column.append(df)\n",
        "    for i in range(1,lag+1):\n",
        "        column.append(df.shift(-i))\n",
        "    df = pd.concat(column,axis=1)\n",
        "    \n",
        "    # drop rows with missing values\n",
        "    df.dropna(inplace = True)\n",
        "    \n",
        "    # specify columns for input and output pairs\n",
        "    features = data.shape[1]\n",
        "    df = df.values\n",
        "    supervised_data = df[:,:features*lag]\n",
        "    supervised_data = np.column_stack( [supervised_data, df[:,features*lag]])\n",
        "    \n",
        "    return supervised_data"
      ],
      "execution_count": 0,
      "outputs": []
    },
    {
      "cell_type": "markdown",
      "metadata": {
        "id": "X4tNxKTE5Cwn",
        "colab_type": "text"
      },
      "source": [
        "##### tryout with timeStep == 1"
      ]
    },
    {
      "cell_type": "code",
      "metadata": {
        "id": "AlsYwZNzRsKx",
        "colab_type": "code",
        "colab": {
          "base_uri": "https://localhost:8080/",
          "height": 203
        },
        "outputId": "7939ef5d-63ec-4dbc-b090-568318255d0d"
      },
      "source": [
        "timeSteps = 1\n",
        "\n",
        "supervised = to_supervised(values,lag=timeSteps) # use `scaled` instead of `values` if choose to scale the data\n",
        "pd.DataFrame(supervised).head()"
      ],
      "execution_count": 69,
      "outputs": [
        {
          "output_type": "execute_result",
          "data": {
            "text/html": [
              "<div>\n",
              "<style scoped>\n",
              "    .dataframe tbody tr th:only-of-type {\n",
              "        vertical-align: middle;\n",
              "    }\n",
              "\n",
              "    .dataframe tbody tr th {\n",
              "        vertical-align: top;\n",
              "    }\n",
              "\n",
              "    .dataframe thead th {\n",
              "        text-align: right;\n",
              "    }\n",
              "</style>\n",
              "<table border=\"1\" class=\"dataframe\">\n",
              "  <thead>\n",
              "    <tr style=\"text-align: right;\">\n",
              "      <th></th>\n",
              "      <th>0</th>\n",
              "      <th>1</th>\n",
              "      <th>2</th>\n",
              "      <th>3</th>\n",
              "      <th>4</th>\n",
              "      <th>5</th>\n",
              "      <th>6</th>\n",
              "      <th>7</th>\n",
              "      <th>8</th>\n",
              "      <th>9</th>\n",
              "    </tr>\n",
              "  </thead>\n",
              "  <tbody>\n",
              "    <tr>\n",
              "      <th>0</th>\n",
              "      <td>4.56823</td>\n",
              "      <td>0.324472</td>\n",
              "      <td>0.356694</td>\n",
              "      <td>26.493304</td>\n",
              "      <td>24.595667</td>\n",
              "      <td>0.00000</td>\n",
              "      <td>0.000000</td>\n",
              "      <td>-0.739130</td>\n",
              "      <td>-0.091667</td>\n",
              "      <td>4.54378</td>\n",
              "    </tr>\n",
              "    <tr>\n",
              "      <th>1</th>\n",
              "      <td>4.54378</td>\n",
              "      <td>0.323333</td>\n",
              "      <td>0.356118</td>\n",
              "      <td>25.347083</td>\n",
              "      <td>23.622000</td>\n",
              "      <td>0.00000</td>\n",
              "      <td>0.000000</td>\n",
              "      <td>4.900000</td>\n",
              "      <td>4.333333</td>\n",
              "      <td>4.97784</td>\n",
              "    </tr>\n",
              "    <tr>\n",
              "      <th>2</th>\n",
              "      <td>4.97784</td>\n",
              "      <td>0.320021</td>\n",
              "      <td>0.372965</td>\n",
              "      <td>23.018750</td>\n",
              "      <td>21.992167</td>\n",
              "      <td>0.00000</td>\n",
              "      <td>0.010583</td>\n",
              "      <td>7.933333</td>\n",
              "      <td>6.533333</td>\n",
              "      <td>6.07829</td>\n",
              "    </tr>\n",
              "    <tr>\n",
              "      <th>3</th>\n",
              "      <td>6.07829</td>\n",
              "      <td>0.318597</td>\n",
              "      <td>0.388826</td>\n",
              "      <td>20.415250</td>\n",
              "      <td>19.526250</td>\n",
              "      <td>0.00000</td>\n",
              "      <td>0.000000</td>\n",
              "      <td>9.608333</td>\n",
              "      <td>7.270833</td>\n",
              "      <td>7.20931</td>\n",
              "    </tr>\n",
              "    <tr>\n",
              "      <th>4</th>\n",
              "      <td>7.20931</td>\n",
              "      <td>0.317035</td>\n",
              "      <td>0.392062</td>\n",
              "      <td>17.959917</td>\n",
              "      <td>16.457083</td>\n",
              "      <td>0.03175</td>\n",
              "      <td>0.052917</td>\n",
              "      <td>8.925000</td>\n",
              "      <td>6.795833</td>\n",
              "      <td>7.82067</td>\n",
              "    </tr>\n",
              "  </tbody>\n",
              "</table>\n",
              "</div>"
            ],
            "text/plain": [
              "         0         1         2  ...         7         8        9\n",
              "0  4.56823  0.324472  0.356694  ... -0.739130 -0.091667  4.54378\n",
              "1  4.54378  0.323333  0.356118  ...  4.900000  4.333333  4.97784\n",
              "2  4.97784  0.320021  0.372965  ...  7.933333  6.533333  6.07829\n",
              "3  6.07829  0.318597  0.388826  ...  9.608333  7.270833  7.20931\n",
              "4  7.20931  0.317035  0.392062  ...  8.925000  6.795833  7.82067\n",
              "\n",
              "[5 rows x 10 columns]"
            ]
          },
          "metadata": {
            "tags": []
          },
          "execution_count": 69
        }
      ]
    },
    {
      "cell_type": "code",
      "metadata": {
        "id": "dSKouQtS2Rws",
        "colab_type": "code",
        "colab": {
          "base_uri": "https://localhost:8080/",
          "height": 34
        },
        "outputId": "74d4b0ed-f52e-4dff-8491-61434f88b33d"
      },
      "source": [
        "EastRiver.shape[1]"
      ],
      "execution_count": 51,
      "outputs": [
        {
          "output_type": "execute_result",
          "data": {
            "text/plain": [
              "9"
            ]
          },
          "metadata": {
            "tags": []
          },
          "execution_count": 51
        }
      ]
    },
    {
      "cell_type": "code",
      "metadata": {
        "id": "V25Vr02DR62u",
        "colab_type": "code",
        "colab": {
          "base_uri": "https://localhost:8080/",
          "height": 34
        },
        "outputId": "2f85f3a9-d8bf-4d9a-ceed-6154eb19f1a3"
      },
      "source": [
        "# spiltting the data\n",
        "# training on only first 1000 days' data\n",
        "\n",
        "features = EastRiver.shape[1] # num of input features\n",
        "train_hours = 1000\n",
        "\n",
        "X = supervised[:,:features*timeSteps] # column 1-8\n",
        "y = supervised[:,features*timeSteps] # column 9\n",
        "\n",
        "x_train = X[:train_hours,:]\n",
        "x_test = X[train_hours:,:]\n",
        "y_train = y[:train_hours]\n",
        "y_test = y[train_hours:]\n",
        "\n",
        "print (x_train.shape,x_test.shape,y_train.shape,y_test.shape)"
      ],
      "execution_count": 70,
      "outputs": [
        {
          "output_type": "stream",
          "text": [
            "(1000, 9) (460, 9) (1000,) (460,)\n"
          ],
          "name": "stdout"
        }
      ]
    },
    {
      "cell_type": "code",
      "metadata": {
        "id": "g5gKwN133bey",
        "colab_type": "code",
        "colab": {
          "base_uri": "https://localhost:8080/",
          "height": 34
        },
        "outputId": "97cdf0c8-31d8-4432-c936-a013ce635eae"
      },
      "source": [
        "values.shape[1]"
      ],
      "execution_count": 68,
      "outputs": [
        {
          "output_type": "execute_result",
          "data": {
            "text/plain": [
              "9"
            ]
          },
          "metadata": {
            "tags": []
          },
          "execution_count": 68
        }
      ]
    },
    {
      "cell_type": "code",
      "metadata": {
        "id": "hxozsyhbUZWd",
        "colab_type": "code",
        "colab": {
          "base_uri": "https://localhost:8080/",
          "height": 34
        },
        "outputId": "ff7de14b-7245-40ea-bc8f-2121dac641a0"
      },
      "source": [
        "#convert data to fit for lstm\n",
        "#dimensions = (sample, timeSteps here it is 2, features here is 18)\n",
        "timeSteps = 1\n",
        "features = values.shape[1]\n",
        "\n",
        "x_train = x_train.reshape(x_train.shape[0], timeSteps, features)\n",
        "x_test = x_test.reshape(x_test.shape[0], timeSteps, features)\n",
        "\n",
        "print (x_train.shape,x_test.shape)"
      ],
      "execution_count": 71,
      "outputs": [
        {
          "output_type": "stream",
          "text": [
            "(1000, 1, 9) (460, 1, 9)\n"
          ],
          "name": "stdout"
        }
      ]
    },
    {
      "cell_type": "markdown",
      "metadata": {
        "id": "WTLKY0jbfSzz",
        "colab_type": "text"
      },
      "source": [
        "optimizer == \"adam\" with no hidden layer"
      ]
    },
    {
      "cell_type": "code",
      "metadata": {
        "id": "VVBXgbsnU4tf",
        "colab_type": "code",
        "colab": {}
      },
      "source": [
        "#define the model\n",
        "\n",
        "model = Sequential()\n",
        "model.add(LSTM(50,input_shape = (timeSteps,x_train.shape[2]))) # define the LSTM with 50 neurons in the first hidden layer \n",
        "model.add(Dense(1)) # 1 neuron in the output layer\n",
        "\n",
        "model.compile(loss = \"mae\", optimizer = \"adam\")\n",
        "\n",
        "history =  model.fit(x_train,y_train, validation_data = (x_test,y_test), epochs = 150 , batch_size = 32, verbose = 0, shuffle = False)"
      ],
      "execution_count": 0,
      "outputs": []
    },
    {
      "cell_type": "code",
      "metadata": {
        "id": "mYFQgjm74Nx4",
        "colab_type": "code",
        "colab": {}
      },
      "source": [
        "y_pred = model.predict(x_test)\n",
        "y_test = y_test.reshape(len(y_test), 1)"
      ],
      "execution_count": 0,
      "outputs": []
    },
    {
      "cell_type": "code",
      "metadata": {
        "id": "ySC6tHLc4rnA",
        "colab_type": "code",
        "colab": {}
      },
      "source": [
        "test_time = list(range(split_time, split_time + y_test.shape[0]))\n",
        "test_time"
      ],
      "execution_count": 0,
      "outputs": []
    },
    {
      "cell_type": "code",
      "metadata": {
        "id": "nb24eDHz4PCh",
        "colab_type": "code",
        "colab": {
          "base_uri": "https://localhost:8080/",
          "height": 392
        },
        "outputId": "0fcfbc5c-e0ee-40a1-fe73-a9ea7e77d3a4"
      },
      "source": [
        "plt.figure(figsize=(18, 6))\n",
        "plot_series(test_time, y_test)\n",
        "plot_series(test_time, y_pred)"
      ],
      "execution_count": 74,
      "outputs": [
        {
          "output_type": "display_data",
          "data": {
            "image/png": "[encoded data removed]",
            "text/plain": [
              "<Figure size 1296x432 with 1 Axes>"
            ]
          },
          "metadata": {
            "tags": []
          }
        }
      ]
    },
    {
      "cell_type": "code",
      "metadata": {
        "id": "uB0ZTq6s9BI2",
        "colab_type": "code",
        "colab": {
          "base_uri": "https://localhost:8080/",
          "height": 68
        },
        "outputId": "fd919f05-32d7-414d-a5e7-14182c2fd4d8"
      },
      "source": [
        "print (\"mean absolute error: \"),(mean_absolute_error(y_pred,y_test))\n",
        "print (\"mean squared error: \"),(mean_squared_error(y_pred,y_test))"
      ],
      "execution_count": 76,
      "outputs": [
        {
          "output_type": "stream",
          "text": [
            "mean absolute error: \n",
            "mean squared error: \n"
          ],
          "name": "stdout"
        },
        {
          "output_type": "execute_result",
          "data": {
            "text/plain": [
              "(None, 0.24256681783172562)"
            ]
          },
          "metadata": {
            "tags": []
          },
          "execution_count": 76
        }
      ]
    },
    {
      "cell_type": "markdown",
      "metadata": {
        "id": "bK6VEHUB8fjk",
        "colab_type": "text"
      },
      "source": [
        "if scaled(optional)"
      ]
    },
    {
      "cell_type": "code",
      "metadata": {
        "id": "9ObjLEy0foVF",
        "colab_type": "code",
        "colab": {}
      },
      "source": [
        "#scale back the prediction to orginal scale\n",
        "y_pred = model.predict(x_test)\n",
        "x_test = x_test.reshape(x_test.shape[0],x_test.shape[2]*x_test.shape[1])\n",
        "\n",
        "# concatenate the y or yhat column with the last 8 features of the test dataset in order to inverse the scaling\n",
        "inv_new = np.concatenate((y_pred, x_test[:,-8:]), axis = 1)\n",
        "inv_new = scaler.inverse_transform(inv_new)\n",
        "final_pred = inv_new[:,0]\n",
        "\n",
        "y_test = y_test.reshape(len(y_test), 1)\n",
        "\n",
        "inv_new = np.concatenate((y_test, x_test[:,-8:]),axis = 1)\n",
        "inv_new = scaler.inverse_transform(inv_new)\n",
        "actual_pred = inv_new[:,0]"
      ],
      "execution_count": 0,
      "outputs": []
    },
    {
      "cell_type": "code",
      "metadata": {
        "id": "eOVDQxkXgijy",
        "colab_type": "code",
        "colab": {}
      },
      "source": [
        "#plot the prediction with actual data\n",
        "plt.figure(figsize = [18, 6])\n",
        "plt.plot(final_pred, label = \"prediction\",c = \"orange\")\n",
        "plt.plot(actual_pred,label = \"actual data\",c=\"teal\")\n",
        "plt.yticks([])\n",
        "plt.xticks([])\n",
        "plt.title(\"comparison between prediction and actual data\")\n",
        "plt.legend()"
      ],
      "execution_count": 0,
      "outputs": []
    },
    {
      "cell_type": "code",
      "metadata": {
        "id": "XNyB2JEthTj6",
        "colab_type": "code",
        "colab": {}
      },
      "source": [
        "final_pred = pd.to_numeric(final_pred,errors='coerce')\n",
        "actual_pred = pd.to_numeric(actual_pred,errors='coerce')"
      ],
      "execution_count": 0,
      "outputs": []
    },
    {
      "cell_type": "code",
      "metadata": {
        "id": "ce3HQuwShHyO",
        "colab_type": "code",
        "colab": {
          "base_uri": "https://localhost:8080/",
          "height": 68
        },
        "outputId": "c68c7f2b-b9f1-42f8-87ae-cbffd137a5d7"
      },
      "source": [
        "print (\"mean absolute error: \"),(mean_absolute_error(final_pred,actual_pred))\n",
        "print (\"mean squared error: \"),(mean_squared_error(final_pred,actual_pred))"
      ],
      "execution_count": 59,
      "outputs": [
        {
          "output_type": "stream",
          "text": [
            "mean absolute error: \n",
            "mean squared error: \n"
          ],
          "name": "stdout"
        },
        {
          "output_type": "execute_result",
          "data": {
            "text/plain": [
              "(None, 0.11965466683660611)"
            ]
          },
          "metadata": {
            "tags": []
          },
          "execution_count": 59
        }
      ]
    },
    {
      "cell_type": "markdown",
      "metadata": {
        "id": "GqOLVVWKCuiq",
        "colab_type": "text"
      },
      "source": [
        "##### tryout with timeStep == 2"
      ]
    },
    {
      "cell_type": "code",
      "metadata": {
        "id": "HXdoPl_tCx6n",
        "colab_type": "code",
        "colab": {
          "base_uri": "https://localhost:8080/",
          "height": 223
        },
        "outputId": "b4f5e066-4059-46e1-b057-7fd8a004d597"
      },
      "source": [
        "timeSteps = 2\n",
        "\n",
        "supervised = to_supervised(values,lag=timeSteps) # use `scaled` instead of `values` if choose to scale the data\n",
        "pd.DataFrame(supervised).head()"
      ],
      "execution_count": 77,
      "outputs": [
        {
          "output_type": "execute_result",
          "data": {
            "text/html": [
              "<div>\n",
              "<style scoped>\n",
              "    .dataframe tbody tr th:only-of-type {\n",
              "        vertical-align: middle;\n",
              "    }\n",
              "\n",
              "    .dataframe tbody tr th {\n",
              "        vertical-align: top;\n",
              "    }\n",
              "\n",
              "    .dataframe thead th {\n",
              "        text-align: right;\n",
              "    }\n",
              "</style>\n",
              "<table border=\"1\" class=\"dataframe\">\n",
              "  <thead>\n",
              "    <tr style=\"text-align: right;\">\n",
              "      <th></th>\n",
              "      <th>0</th>\n",
              "      <th>1</th>\n",
              "      <th>2</th>\n",
              "      <th>3</th>\n",
              "      <th>4</th>\n",
              "      <th>5</th>\n",
              "      <th>6</th>\n",
              "      <th>7</th>\n",
              "      <th>8</th>\n",
              "      <th>9</th>\n",
              "      <th>10</th>\n",
              "      <th>11</th>\n",
              "      <th>12</th>\n",
              "      <th>13</th>\n",
              "      <th>14</th>\n",
              "      <th>15</th>\n",
              "      <th>16</th>\n",
              "      <th>17</th>\n",
              "      <th>18</th>\n",
              "    </tr>\n",
              "  </thead>\n",
              "  <tbody>\n",
              "    <tr>\n",
              "      <th>0</th>\n",
              "      <td>4.56823</td>\n",
              "      <td>0.324472</td>\n",
              "      <td>0.356694</td>\n",
              "      <td>26.493304</td>\n",
              "      <td>24.595667</td>\n",
              "      <td>0.00000</td>\n",
              "      <td>0.000000</td>\n",
              "      <td>-0.739130</td>\n",
              "      <td>-0.091667</td>\n",
              "      <td>4.54378</td>\n",
              "      <td>0.323333</td>\n",
              "      <td>0.356118</td>\n",
              "      <td>25.347083</td>\n",
              "      <td>23.622000</td>\n",
              "      <td>0.000000</td>\n",
              "      <td>0.000000</td>\n",
              "      <td>4.900000</td>\n",
              "      <td>4.333333</td>\n",
              "      <td>4.97784</td>\n",
              "    </tr>\n",
              "    <tr>\n",
              "      <th>1</th>\n",
              "      <td>4.54378</td>\n",
              "      <td>0.323333</td>\n",
              "      <td>0.356118</td>\n",
              "      <td>25.347083</td>\n",
              "      <td>23.622000</td>\n",
              "      <td>0.00000</td>\n",
              "      <td>0.000000</td>\n",
              "      <td>4.900000</td>\n",
              "      <td>4.333333</td>\n",
              "      <td>4.97784</td>\n",
              "      <td>0.320021</td>\n",
              "      <td>0.372965</td>\n",
              "      <td>23.018750</td>\n",
              "      <td>21.992167</td>\n",
              "      <td>0.000000</td>\n",
              "      <td>0.010583</td>\n",
              "      <td>7.933333</td>\n",
              "      <td>6.533333</td>\n",
              "      <td>6.07829</td>\n",
              "    </tr>\n",
              "    <tr>\n",
              "      <th>2</th>\n",
              "      <td>4.97784</td>\n",
              "      <td>0.320021</td>\n",
              "      <td>0.372965</td>\n",
              "      <td>23.018750</td>\n",
              "      <td>21.992167</td>\n",
              "      <td>0.00000</td>\n",
              "      <td>0.010583</td>\n",
              "      <td>7.933333</td>\n",
              "      <td>6.533333</td>\n",
              "      <td>6.07829</td>\n",
              "      <td>0.318597</td>\n",
              "      <td>0.388826</td>\n",
              "      <td>20.415250</td>\n",
              "      <td>19.526250</td>\n",
              "      <td>0.000000</td>\n",
              "      <td>0.000000</td>\n",
              "      <td>9.608333</td>\n",
              "      <td>7.270833</td>\n",
              "      <td>7.20931</td>\n",
              "    </tr>\n",
              "    <tr>\n",
              "      <th>3</th>\n",
              "      <td>6.07829</td>\n",
              "      <td>0.318597</td>\n",
              "      <td>0.388826</td>\n",
              "      <td>20.415250</td>\n",
              "      <td>19.526250</td>\n",
              "      <td>0.00000</td>\n",
              "      <td>0.000000</td>\n",
              "      <td>9.608333</td>\n",
              "      <td>7.270833</td>\n",
              "      <td>7.20931</td>\n",
              "      <td>0.317035</td>\n",
              "      <td>0.392062</td>\n",
              "      <td>17.959917</td>\n",
              "      <td>16.457083</td>\n",
              "      <td>0.031750</td>\n",
              "      <td>0.052917</td>\n",
              "      <td>8.925000</td>\n",
              "      <td>6.795833</td>\n",
              "      <td>7.82067</td>\n",
              "    </tr>\n",
              "    <tr>\n",
              "      <th>4</th>\n",
              "      <td>7.20931</td>\n",
              "      <td>0.317035</td>\n",
              "      <td>0.392062</td>\n",
              "      <td>17.959917</td>\n",
              "      <td>16.457083</td>\n",
              "      <td>0.03175</td>\n",
              "      <td>0.052917</td>\n",
              "      <td>8.925000</td>\n",
              "      <td>6.795833</td>\n",
              "      <td>7.82067</td>\n",
              "      <td>0.316646</td>\n",
              "      <td>0.392493</td>\n",
              "      <td>15.546917</td>\n",
              "      <td>12.456583</td>\n",
              "      <td>0.010583</td>\n",
              "      <td>0.063500</td>\n",
              "      <td>7.395833</td>\n",
              "      <td>5.716667</td>\n",
              "      <td>8.12635</td>\n",
              "    </tr>\n",
              "  </tbody>\n",
              "</table>\n",
              "</div>"
            ],
            "text/plain": [
              "        0         1         2   ...        16        17       18\n",
              "0  4.56823  0.324472  0.356694  ...  4.900000  4.333333  4.97784\n",
              "1  4.54378  0.323333  0.356118  ...  7.933333  6.533333  6.07829\n",
              "2  4.97784  0.320021  0.372965  ...  9.608333  7.270833  7.20931\n",
              "3  6.07829  0.318597  0.388826  ...  8.925000  6.795833  7.82067\n",
              "4  7.20931  0.317035  0.392062  ...  7.395833  5.716667  8.12635\n",
              "\n",
              "[5 rows x 19 columns]"
            ]
          },
          "metadata": {
            "tags": []
          },
          "execution_count": 77
        }
      ]
    },
    {
      "cell_type": "code",
      "metadata": {
        "id": "-7g9NYssC3EA",
        "colab_type": "code",
        "colab": {
          "base_uri": "https://localhost:8080/",
          "height": 34
        },
        "outputId": "e612e00e-3d87-46cd-aa87-cbbf27fc796a"
      },
      "source": [
        "# spiltting the data\n",
        "# training on only first 1000 days' data\n",
        "\n",
        "features = EastRiver.shape[1] # num of input features\n",
        "train_hours = 1000\n",
        "\n",
        "X = supervised[:,:features*timeSteps] # column 1-17\n",
        "y = supervised[:,features*timeSteps] # column 18\n",
        "\n",
        "x_train = X[:train_hours,:]\n",
        "x_test = X[train_hours:,:]\n",
        "y_train = y[:train_hours]\n",
        "y_test = y[train_hours:]\n",
        "\n",
        "print (x_train.shape,x_test.shape,y_train.shape,y_test.shape)"
      ],
      "execution_count": 78,
      "outputs": [
        {
          "output_type": "stream",
          "text": [
            "(1000, 18) (459, 18) (1000,) (459,)\n"
          ],
          "name": "stdout"
        }
      ]
    },
    {
      "cell_type": "code",
      "metadata": {
        "id": "V7e4WvLFDZkx",
        "colab_type": "code",
        "colab": {
          "base_uri": "https://localhost:8080/",
          "height": 34
        },
        "outputId": "387fa2fa-ce64-42b9-ca66-79a8f0226238"
      },
      "source": [
        "#convert data to fit for lstm\n",
        "#dimensions = (sample, timeSteps here it is 2, features here is 18)\n",
        "timeSteps = 2\n",
        "features = values.shape[1]\n",
        "\n",
        "x_train = x_train.reshape(x_train.shape[0], timeSteps, features)\n",
        "x_test = x_test.reshape(x_test.shape[0], timeSteps, features)\n",
        "\n",
        "print (x_train.shape,x_test.shape)"
      ],
      "execution_count": 80,
      "outputs": [
        {
          "output_type": "stream",
          "text": [
            "(1000, 2, 9) (459, 2, 9)\n"
          ],
          "name": "stdout"
        }
      ]
    },
    {
      "cell_type": "markdown",
      "metadata": {
        "id": "ck5H6jpkDqY7",
        "colab_type": "text"
      },
      "source": [
        "optimizer == \"adam\" with no hidden layer"
      ]
    },
    {
      "cell_type": "code",
      "metadata": {
        "id": "oWR3dzjeDiIR",
        "colab_type": "code",
        "colab": {}
      },
      "source": [
        "#define the model\n",
        "\n",
        "model = Sequential()\n",
        "model.add(LSTM(50,input_shape = (timeSteps,x_train.shape[2]))) # define the LSTM with 50 neurons in the first hidden layer \n",
        "model.add(Dense(1)) # 1 neuron in the output layer\n",
        "\n",
        "model.compile(loss = \"mae\", optimizer = \"adam\")\n",
        "\n",
        "history =  model.fit(x_train,y_train, validation_data = (x_test,y_test), epochs = 150 , batch_size = 32, verbose = 0, shuffle = False)"
      ],
      "execution_count": 0,
      "outputs": []
    },
    {
      "cell_type": "code",
      "metadata": {
        "id": "fvIHP8l7DxJ9",
        "colab_type": "code",
        "colab": {}
      },
      "source": [
        "y_pred = model.predict(x_test)\n",
        "y_test = y_test.reshape(len(y_test), 1)"
      ],
      "execution_count": 0,
      "outputs": []
    },
    {
      "cell_type": "code",
      "metadata": {
        "id": "9VL74xrzD1lk",
        "colab_type": "code",
        "colab": {}
      },
      "source": [
        "test_time = list(range(split_time, split_time + y_test.shape[0]))\n",
        "# test_time"
      ],
      "execution_count": 0,
      "outputs": []
    },
    {
      "cell_type": "code",
      "metadata": {
        "id": "HNOgJNH1D5Hq",
        "colab_type": "code",
        "colab": {
          "base_uri": "https://localhost:8080/",
          "height": 392
        },
        "outputId": "ae9b887c-94c9-4907-a857-1f2fb41f87f7"
      },
      "source": [
        "plt.figure(figsize=(18, 6))\n",
        "plot_series(test_time, y_test)\n",
        "plot_series(test_time, y_pred)"
      ],
      "execution_count": 85,
      "outputs": [
        {
          "output_type": "display_data",
          "data": {
            "image/png": "[encoded data removed]",
            "text/plain": [
              "<Figure size 1296x432 with 1 Axes>"
            ]
          },
          "metadata": {
            "tags": []
          }
        }
      ]
    },
    {
      "cell_type": "code",
      "metadata": {
        "id": "gUW336GOEATA",
        "colab_type": "code",
        "colab": {
          "base_uri": "https://localhost:8080/",
          "height": 68
        },
        "outputId": "18fe418f-5fdc-4806-b3ec-ff114ac7b685"
      },
      "source": [
        "print (\"mean absolute error: \"),(mean_absolute_error(y_pred,y_test))\n",
        "print (\"mean squared error: \"),(mean_squared_error(y_pred,y_test))"
      ],
      "execution_count": 86,
      "outputs": [
        {
          "output_type": "stream",
          "text": [
            "mean absolute error: \n",
            "mean squared error: \n"
          ],
          "name": "stdout"
        },
        {
          "output_type": "execute_result",
          "data": {
            "text/plain": [
              "(None, 0.21653053358480667)"
            ]
          },
          "metadata": {
            "tags": []
          },
          "execution_count": 86
        }
      ]
    },
    {
      "cell_type": "markdown",
      "metadata": {
        "id": "Xa5VkHnoEn5N",
        "colab_type": "text"
      },
      "source": [
        "##### tryout with timeStep == 5"
      ]
    },
    {
      "cell_type": "code",
      "metadata": {
        "id": "8THyy2Z3EnSi",
        "colab_type": "code",
        "colab": {
          "base_uri": "https://localhost:8080/",
          "height": 223
        },
        "outputId": "5fef858d-ddaa-496e-a3ad-5832185fc91e"
      },
      "source": [
        "timeSteps = 5\n",
        "\n",
        "supervised = to_supervised(values,lag=timeSteps) # use `scaled` instead of `values` if choose to scale the data\n",
        "pd.DataFrame(supervised).head()"
      ],
      "execution_count": 87,
      "outputs": [
        {
          "output_type": "execute_result",
          "data": {
            "text/html": [
              "<div>\n",
              "<style scoped>\n",
              "    .dataframe tbody tr th:only-of-type {\n",
              "        vertical-align: middle;\n",
              "    }\n",
              "\n",
              "    .dataframe tbody tr th {\n",
              "        vertical-align: top;\n",
              "    }\n",
              "\n",
              "    .dataframe thead th {\n",
              "        text-align: right;\n",
              "    }\n",
              "</style>\n",
              "<table border=\"1\" class=\"dataframe\">\n",
              "  <thead>\n",
              "    <tr style=\"text-align: right;\">\n",
              "      <th></th>\n",
              "      <th>0</th>\n",
              "      <th>1</th>\n",
              "      <th>2</th>\n",
              "      <th>3</th>\n",
              "      <th>4</th>\n",
              "      <th>5</th>\n",
              "      <th>6</th>\n",
              "      <th>7</th>\n",
              "      <th>8</th>\n",
              "      <th>9</th>\n",
              "      <th>10</th>\n",
              "      <th>11</th>\n",
              "      <th>12</th>\n",
              "      <th>13</th>\n",
              "      <th>14</th>\n",
              "      <th>15</th>\n",
              "      <th>16</th>\n",
              "      <th>17</th>\n",
              "      <th>18</th>\n",
              "      <th>19</th>\n",
              "      <th>20</th>\n",
              "      <th>21</th>\n",
              "      <th>22</th>\n",
              "      <th>23</th>\n",
              "      <th>24</th>\n",
              "      <th>25</th>\n",
              "      <th>26</th>\n",
              "      <th>27</th>\n",
              "      <th>28</th>\n",
              "      <th>29</th>\n",
              "      <th>30</th>\n",
              "      <th>31</th>\n",
              "      <th>32</th>\n",
              "      <th>33</th>\n",
              "      <th>34</th>\n",
              "      <th>35</th>\n",
              "      <th>36</th>\n",
              "      <th>37</th>\n",
              "      <th>38</th>\n",
              "      <th>39</th>\n",
              "      <th>40</th>\n",
              "      <th>41</th>\n",
              "      <th>42</th>\n",
              "      <th>43</th>\n",
              "      <th>44</th>\n",
              "      <th>45</th>\n",
              "    </tr>\n",
              "  </thead>\n",
              "  <tbody>\n",
              "    <tr>\n",
              "      <th>0</th>\n",
              "      <td>4.56823</td>\n",
              "      <td>0.324472</td>\n",
              "      <td>0.356694</td>\n",
              "      <td>26.493304</td>\n",
              "      <td>24.595667</td>\n",
              "      <td>0.00000</td>\n",
              "      <td>0.000000</td>\n",
              "      <td>-0.739130</td>\n",
              "      <td>-0.091667</td>\n",
              "      <td>4.54378</td>\n",
              "      <td>0.323333</td>\n",
              "      <td>0.356118</td>\n",
              "      <td>25.347083</td>\n",
              "      <td>23.622000</td>\n",
              "      <td>0.000000</td>\n",
              "      <td>0.000000</td>\n",
              "      <td>4.900000</td>\n",
              "      <td>4.333333</td>\n",
              "      <td>4.97784</td>\n",
              "      <td>0.320021</td>\n",
              "      <td>0.372965</td>\n",
              "      <td>23.018750</td>\n",
              "      <td>21.992167</td>\n",
              "      <td>0.000000</td>\n",
              "      <td>0.010583</td>\n",
              "      <td>7.933333</td>\n",
              "      <td>6.533333</td>\n",
              "      <td>6.07829</td>\n",
              "      <td>0.318597</td>\n",
              "      <td>0.388826</td>\n",
              "      <td>20.415250</td>\n",
              "      <td>19.526250</td>\n",
              "      <td>0.000000</td>\n",
              "      <td>0.000000</td>\n",
              "      <td>9.608333</td>\n",
              "      <td>7.270833</td>\n",
              "      <td>7.20931</td>\n",
              "      <td>0.317035</td>\n",
              "      <td>0.392062</td>\n",
              "      <td>17.959917</td>\n",
              "      <td>16.457083</td>\n",
              "      <td>0.031750</td>\n",
              "      <td>0.052917</td>\n",
              "      <td>8.925000</td>\n",
              "      <td>6.795833</td>\n",
              "      <td>7.82067</td>\n",
              "    </tr>\n",
              "    <tr>\n",
              "      <th>1</th>\n",
              "      <td>4.54378</td>\n",
              "      <td>0.323333</td>\n",
              "      <td>0.356118</td>\n",
              "      <td>25.347083</td>\n",
              "      <td>23.622000</td>\n",
              "      <td>0.00000</td>\n",
              "      <td>0.000000</td>\n",
              "      <td>4.900000</td>\n",
              "      <td>4.333333</td>\n",
              "      <td>4.97784</td>\n",
              "      <td>0.320021</td>\n",
              "      <td>0.372965</td>\n",
              "      <td>23.018750</td>\n",
              "      <td>21.992167</td>\n",
              "      <td>0.000000</td>\n",
              "      <td>0.010583</td>\n",
              "      <td>7.933333</td>\n",
              "      <td>6.533333</td>\n",
              "      <td>6.07829</td>\n",
              "      <td>0.318597</td>\n",
              "      <td>0.388826</td>\n",
              "      <td>20.415250</td>\n",
              "      <td>19.526250</td>\n",
              "      <td>0.000000</td>\n",
              "      <td>0.000000</td>\n",
              "      <td>9.608333</td>\n",
              "      <td>7.270833</td>\n",
              "      <td>7.20931</td>\n",
              "      <td>0.317035</td>\n",
              "      <td>0.392062</td>\n",
              "      <td>17.959917</td>\n",
              "      <td>16.457083</td>\n",
              "      <td>0.031750</td>\n",
              "      <td>0.052917</td>\n",
              "      <td>8.925000</td>\n",
              "      <td>6.795833</td>\n",
              "      <td>7.82067</td>\n",
              "      <td>0.316646</td>\n",
              "      <td>0.392493</td>\n",
              "      <td>15.546917</td>\n",
              "      <td>12.456583</td>\n",
              "      <td>0.010583</td>\n",
              "      <td>0.063500</td>\n",
              "      <td>7.395833</td>\n",
              "      <td>5.716667</td>\n",
              "      <td>8.12635</td>\n",
              "    </tr>\n",
              "    <tr>\n",
              "      <th>2</th>\n",
              "      <td>4.97784</td>\n",
              "      <td>0.320021</td>\n",
              "      <td>0.372965</td>\n",
              "      <td>23.018750</td>\n",
              "      <td>21.992167</td>\n",
              "      <td>0.00000</td>\n",
              "      <td>0.010583</td>\n",
              "      <td>7.933333</td>\n",
              "      <td>6.533333</td>\n",
              "      <td>6.07829</td>\n",
              "      <td>0.318597</td>\n",
              "      <td>0.388826</td>\n",
              "      <td>20.415250</td>\n",
              "      <td>19.526250</td>\n",
              "      <td>0.000000</td>\n",
              "      <td>0.000000</td>\n",
              "      <td>9.608333</td>\n",
              "      <td>7.270833</td>\n",
              "      <td>7.20931</td>\n",
              "      <td>0.317035</td>\n",
              "      <td>0.392062</td>\n",
              "      <td>17.959917</td>\n",
              "      <td>16.457083</td>\n",
              "      <td>0.031750</td>\n",
              "      <td>0.052917</td>\n",
              "      <td>8.925000</td>\n",
              "      <td>6.795833</td>\n",
              "      <td>7.82067</td>\n",
              "      <td>0.316646</td>\n",
              "      <td>0.392493</td>\n",
              "      <td>15.546917</td>\n",
              "      <td>12.456583</td>\n",
              "      <td>0.010583</td>\n",
              "      <td>0.063500</td>\n",
              "      <td>7.395833</td>\n",
              "      <td>5.716667</td>\n",
              "      <td>8.12635</td>\n",
              "      <td>0.317118</td>\n",
              "      <td>0.382181</td>\n",
              "      <td>13.631333</td>\n",
              "      <td>10.456333</td>\n",
              "      <td>0.201083</td>\n",
              "      <td>0.179917</td>\n",
              "      <td>4.241667</td>\n",
              "      <td>5.029167</td>\n",
              "      <td>7.39272</td>\n",
              "    </tr>\n",
              "    <tr>\n",
              "      <th>3</th>\n",
              "      <td>6.07829</td>\n",
              "      <td>0.318597</td>\n",
              "      <td>0.388826</td>\n",
              "      <td>20.415250</td>\n",
              "      <td>19.526250</td>\n",
              "      <td>0.00000</td>\n",
              "      <td>0.000000</td>\n",
              "      <td>9.608333</td>\n",
              "      <td>7.270833</td>\n",
              "      <td>7.20931</td>\n",
              "      <td>0.317035</td>\n",
              "      <td>0.392062</td>\n",
              "      <td>17.959917</td>\n",
              "      <td>16.457083</td>\n",
              "      <td>0.031750</td>\n",
              "      <td>0.052917</td>\n",
              "      <td>8.925000</td>\n",
              "      <td>6.795833</td>\n",
              "      <td>7.82067</td>\n",
              "      <td>0.316646</td>\n",
              "      <td>0.392493</td>\n",
              "      <td>15.546917</td>\n",
              "      <td>12.456583</td>\n",
              "      <td>0.010583</td>\n",
              "      <td>0.063500</td>\n",
              "      <td>7.395833</td>\n",
              "      <td>5.716667</td>\n",
              "      <td>8.12635</td>\n",
              "      <td>0.317118</td>\n",
              "      <td>0.382181</td>\n",
              "      <td>13.631333</td>\n",
              "      <td>10.456333</td>\n",
              "      <td>0.201083</td>\n",
              "      <td>0.179917</td>\n",
              "      <td>4.241667</td>\n",
              "      <td>5.029167</td>\n",
              "      <td>7.39272</td>\n",
              "      <td>0.315292</td>\n",
              "      <td>0.374437</td>\n",
              "      <td>12.467167</td>\n",
              "      <td>10.117667</td>\n",
              "      <td>0.128381</td>\n",
              "      <td>0.084667</td>\n",
              "      <td>-0.208333</td>\n",
              "      <td>1.120833</td>\n",
              "      <td>6.26170</td>\n",
              "    </tr>\n",
              "    <tr>\n",
              "      <th>4</th>\n",
              "      <td>7.20931</td>\n",
              "      <td>0.317035</td>\n",
              "      <td>0.392062</td>\n",
              "      <td>17.959917</td>\n",
              "      <td>16.457083</td>\n",
              "      <td>0.03175</td>\n",
              "      <td>0.052917</td>\n",
              "      <td>8.925000</td>\n",
              "      <td>6.795833</td>\n",
              "      <td>7.82067</td>\n",
              "      <td>0.316646</td>\n",
              "      <td>0.392493</td>\n",
              "      <td>15.546917</td>\n",
              "      <td>12.456583</td>\n",
              "      <td>0.010583</td>\n",
              "      <td>0.063500</td>\n",
              "      <td>7.395833</td>\n",
              "      <td>5.716667</td>\n",
              "      <td>8.12635</td>\n",
              "      <td>0.317118</td>\n",
              "      <td>0.382181</td>\n",
              "      <td>13.631333</td>\n",
              "      <td>10.456333</td>\n",
              "      <td>0.201083</td>\n",
              "      <td>0.179917</td>\n",
              "      <td>4.241667</td>\n",
              "      <td>5.029167</td>\n",
              "      <td>7.39272</td>\n",
              "      <td>0.315292</td>\n",
              "      <td>0.374437</td>\n",
              "      <td>12.467167</td>\n",
              "      <td>10.117667</td>\n",
              "      <td>0.128381</td>\n",
              "      <td>0.084667</td>\n",
              "      <td>-0.208333</td>\n",
              "      <td>1.120833</td>\n",
              "      <td>6.26170</td>\n",
              "      <td>0.318486</td>\n",
              "      <td>0.381125</td>\n",
              "      <td>12.479131</td>\n",
              "      <td>9.038167</td>\n",
              "      <td>0.443121</td>\n",
              "      <td>0.031750</td>\n",
              "      <td>0.847826</td>\n",
              "      <td>1.825000</td>\n",
              "      <td>5.65645</td>\n",
              "    </tr>\n",
              "  </tbody>\n",
              "</table>\n",
              "</div>"
            ],
            "text/plain": [
              "        0         1         2   ...        43        44       45\n",
              "0  4.56823  0.324472  0.356694  ...  8.925000  6.795833  7.82067\n",
              "1  4.54378  0.323333  0.356118  ...  7.395833  5.716667  8.12635\n",
              "2  4.97784  0.320021  0.372965  ...  4.241667  5.029167  7.39272\n",
              "3  6.07829  0.318597  0.388826  ... -0.208333  1.120833  6.26170\n",
              "4  7.20931  0.317035  0.392062  ...  0.847826  1.825000  5.65645\n",
              "\n",
              "[5 rows x 46 columns]"
            ]
          },
          "metadata": {
            "tags": []
          },
          "execution_count": 87
        }
      ]
    },
    {
      "cell_type": "code",
      "metadata": {
        "id": "TLyZUJMqFIHO",
        "colab_type": "code",
        "colab": {
          "base_uri": "https://localhost:8080/",
          "height": 34
        },
        "outputId": "ed3bfd3e-9d2a-4037-c9d4-901cd3252a2c"
      },
      "source": [
        "EastRiver.shape[1] * timeSteps"
      ],
      "execution_count": 88,
      "outputs": [
        {
          "output_type": "execute_result",
          "data": {
            "text/plain": [
              "45"
            ]
          },
          "metadata": {
            "tags": []
          },
          "execution_count": 88
        }
      ]
    },
    {
      "cell_type": "code",
      "metadata": {
        "id": "MCbSeCOSE5qU",
        "colab_type": "code",
        "colab": {
          "base_uri": "https://localhost:8080/",
          "height": 34
        },
        "outputId": "df0b205e-5b7d-4bce-d900-289d1ef01d18"
      },
      "source": [
        "# spiltting the data\n",
        "# training on only first 1000 days' data\n",
        "\n",
        "features = EastRiver.shape[1] # num of input features\n",
        "train_hours = 1000\n",
        "\n",
        "X = supervised[:,:features*timeSteps] # column 1-44\n",
        "y = supervised[:,features*timeSteps] # column 45\n",
        "\n",
        "x_train = X[:train_hours,:]\n",
        "x_test = X[train_hours:,:]\n",
        "y_train = y[:train_hours]\n",
        "y_test = y[train_hours:]\n",
        "\n",
        "print (x_train.shape,x_test.shape,y_train.shape,y_test.shape)"
      ],
      "execution_count": 89,
      "outputs": [
        {
          "output_type": "stream",
          "text": [
            "(1000, 45) (456, 45) (1000,) (456,)\n"
          ],
          "name": "stdout"
        }
      ]
    },
    {
      "cell_type": "code",
      "metadata": {
        "id": "6FehfaKqFRSg",
        "colab_type": "code",
        "colab": {
          "base_uri": "https://localhost:8080/",
          "height": 34
        },
        "outputId": "63c5162e-480c-4ab5-b7e1-af2e1e5d7a21"
      },
      "source": [
        "#convert data to fit for lstm\n",
        "#dimensions = (sample, timeSteps here it is 2, features here is 18)\n",
        "timeSteps = 5\n",
        "features = values.shape[1]\n",
        "\n",
        "x_train = x_train.reshape(x_train.shape[0], timeSteps, features)\n",
        "x_test = x_test.reshape(x_test.shape[0], timeSteps, features)\n",
        "\n",
        "print (x_train.shape,x_test.shape)"
      ],
      "execution_count": 91,
      "outputs": [
        {
          "output_type": "stream",
          "text": [
            "(1000, 5, 9) (456, 5, 9)\n"
          ],
          "name": "stdout"
        }
      ]
    },
    {
      "cell_type": "markdown",
      "metadata": {
        "id": "69bd3pMmFbd_",
        "colab_type": "text"
      },
      "source": [
        "optimizer == \"adam\" with no hidden layer"
      ]
    },
    {
      "cell_type": "code",
      "metadata": {
        "id": "PPpMJduKFWfl",
        "colab_type": "code",
        "colab": {}
      },
      "source": [
        "#define the model\n",
        "\n",
        "model = Sequential()\n",
        "model.add(LSTM(50,input_shape = (timeSteps,x_train.shape[2]))) # define the LSTM with 50 neurons in the first hidden layer \n",
        "model.add(Dense(1)) # 1 neuron in the output layer\n",
        "\n",
        "model.compile(loss = \"mae\", optimizer = \"adam\")\n",
        "\n",
        "history =  model.fit(x_train,y_train, validation_data = (x_test,y_test), epochs = 150 , batch_size = 32, verbose = 0, shuffle = False)"
      ],
      "execution_count": 0,
      "outputs": []
    },
    {
      "cell_type": "code",
      "metadata": {
        "id": "pJt55CUxFfJM",
        "colab_type": "code",
        "colab": {}
      },
      "source": [
        "y_pred = model.predict(x_test)\n",
        "y_test = y_test.reshape(len(y_test), 1)"
      ],
      "execution_count": 0,
      "outputs": []
    },
    {
      "cell_type": "code",
      "metadata": {
        "id": "xJwy8G37FhSO",
        "colab_type": "code",
        "colab": {}
      },
      "source": [
        "test_time = list(range(split_time, split_time + y_test.shape[0]))\n",
        "# test_time"
      ],
      "execution_count": 0,
      "outputs": []
    },
    {
      "cell_type": "code",
      "metadata": {
        "id": "9zgP8_iWFkCX",
        "colab_type": "code",
        "colab": {
          "base_uri": "https://localhost:8080/",
          "height": 392
        },
        "outputId": "f1098511-5e32-4f29-e84c-72f4f4d953e3"
      },
      "source": [
        "plt.figure(figsize=(18, 6))\n",
        "plot_series(test_time, y_test)\n",
        "plot_series(test_time, y_pred)"
      ],
      "execution_count": 95,
      "outputs": [
        {
          "output_type": "display_data",
          "data": {
            "image/png": "[encoded data removed]",
            "text/plain": [
              "<Figure size 1296x432 with 1 Axes>"
            ]
          },
          "metadata": {
            "tags": []
          }
        }
      ]
    },
    {
      "cell_type": "code",
      "metadata": {
        "id": "6c94sIX6FpQB",
        "colab_type": "code",
        "colab": {
          "base_uri": "https://localhost:8080/",
          "height": 68
        },
        "outputId": "bfc3665d-3a7f-4b7d-a09f-3960a0596327"
      },
      "source": [
        "print (\"mean absolute error: \"),(mean_absolute_error(y_pred,y_test))\n",
        "print (\"mean squared error: \"),(mean_squared_error(y_pred,y_test))"
      ],
      "execution_count": 96,
      "outputs": [
        {
          "output_type": "stream",
          "text": [
            "mean absolute error: \n",
            "mean squared error: \n"
          ],
          "name": "stdout"
        },
        {
          "output_type": "execute_result",
          "data": {
            "text/plain": [
              "(None, 0.3687660918536031)"
            ]
          },
          "metadata": {
            "tags": []
          },
          "execution_count": 96
        }
      ]
    },
    {
      "cell_type": "markdown",
      "metadata": {
        "id": "F1n1N6FpEP7J",
        "colab_type": "text"
      },
      "source": [
        "##### conclusion: multivariate LSTM model with timeStep == 1 is optimal"
      ]
    },
    {
      "cell_type": "markdown",
      "metadata": {
        "id": "h670soXICfzm",
        "colab_type": "text"
      },
      "source": [
        "## Other Failed Models"
      ]
    },
    {
      "cell_type": "markdown",
      "metadata": {
        "id": "_YCtpge5Ca77",
        "colab_type": "text"
      },
      "source": [
        "## First Model"
      ]
    },
    {
      "cell_type": "code",
      "metadata": {
        "id": "LSs1_zQFCSEA",
        "colab_type": "code",
        "colab": {}
      },
      "source": [
        "X_train,X_test,y_train,y_test = train_test_split(features, labels, test_size=0.2, shuffle=False, random_state=42)"
      ],
      "execution_count": 0,
      "outputs": []
    },
    {
      "cell_type": "code",
      "metadata": {
        "id": "OXadiR75CWN4",
        "colab_type": "code",
        "colab": {}
      },
      "source": [
        "# specify hyperparameters\n",
        "epochs = 10\n",
        "n_classes = 1000\n",
        "n_units = 200 # hidden units\n",
        "n_features = 8 \n",
        "batch_size = 1\n",
        "\n",
        "# define the place-holders for the batch of data\n",
        "xplaceholder= tf.placeholder('float',[None,n_features])\n",
        "yplaceholder = tf.placeholder('float')"
      ],
      "execution_count": 0,
      "outputs": []
    },
    {
      "cell_type": "code",
      "metadata": {
        "id": "lPeanxokD9dJ",
        "colab_type": "code",
        "colab": {}
      },
      "source": [
        "def recurrent_neural_network_model():\n",
        "    layer ={ 'weights': tf.Variable(tf.random_normal([n_units, n_classes])),'bias': tf.Variable(tf.random_normal([n_classes]))}\n",
        "\n",
        "    x = tf.split(xplaceholder, n_features, 1)\n",
        "    print(x)\n",
        "\n",
        "    lstm_cell = rnn.BasicLSTMCell(n_units)\n",
        "    \n",
        "    outputs, states = rnn.static_rnn(lstm_cell, x, dtype=tf.float32)\n",
        "   \n",
        "    output = tf.matmul(outputs[-1], layer['weights']) + layer['bias']\n",
        "\n",
        "    return output\n",
        "\n",
        "def train_neural_network():\n",
        "    logit = recurrent_neural_network_model()\n",
        "    logit = tf.reshape(logit, [-1])\n",
        "\n",
        "    cost = tf.reduce_mean(tf.nn.softmax_cross_entropy_with_logits(logits=logit, labels=yplaceholder))\n",
        "    optimizer = tf.train.AdamOptimizer().minimize(cost)\n",
        "\n",
        "    with tf.Session() as sess:\n",
        "\n",
        "        tf.global_variables_initializer().run()\n",
        "        tf.local_variables_initializer().run()\n",
        "\n",
        "        for epoch in range(epochs):\n",
        "            epoch_loss = 0\n",
        "\n",
        "            i = 0\n",
        "            for i in range(int(len(X_train) / batch_size)):\n",
        "\n",
        "                start = i\n",
        "                end = i + batch_size\n",
        "\n",
        "                batch_x = np.array(X_train[start:end])\n",
        "                batch_y = np.array(y_train[start:end])\n",
        "                \n",
        "                _, c = sess.run([optimizer, cost], feed_dict={xplaceholder: batch_x, yplaceholder: batch_y})\n",
        "                epoch_loss += c\n",
        "                i += batch_size\n",
        "\n",
        "            print('Epoch', epoch, 'completed out of', epochs, 'loss:', epoch_loss)\n",
        "\n",
        "        pred = tf.round(tf.nn.sigmoid(logit)).eval({xplaceholder: np.array(X_test), yplaceholder: np.array(y_test)})\n",
        "        f1 = f1_score(np.array(y_test), pred, average='macro')\n",
        "        accuracy=accuracy_score(np.array(y_test), pred)\n",
        "        recall = recall_score(y_true=np.array(y_test), y_pred= pred)\n",
        "        precision = precision_score(y_true=np.array(y_test), y_pred=pred)\n",
        "        print(\"F1 Score:\", f1)\n",
        "        print(\"Accuracy Score:\",accuracy)\n",
        "        print(\"Recall:\", recall)\n",
        "        print(\"Precision:\", precision)"
      ],
      "execution_count": 0,
      "outputs": []
    },
    {
      "cell_type": "code",
      "metadata": {
        "id": "fdxgB4ifEunK",
        "colab_type": "code",
        "outputId": "1b4f64d2-0eca-4ba2-e3a4-37a99d679f94",
        "colab": {
          "base_uri": "https://localhost:8080/",
          "height": 641
        }
      },
      "source": [
        "tf.reset_default_graph()\n",
        "train_neural_network()"
      ],
      "execution_count": 0,
      "outputs": [
        {
          "output_type": "stream",
          "text": [
            "[<tf.Tensor 'split_7:0' shape=(?, 1) dtype=float32>, <tf.Tensor 'split_7:1' shape=(?, 1) dtype=float32>, <tf.Tensor 'split_7:2' shape=(?, 1) dtype=float32>, <tf.Tensor 'split_7:3' shape=(?, 1) dtype=float32>, <tf.Tensor 'split_7:4' shape=(?, 1) dtype=float32>, <tf.Tensor 'split_7:5' shape=(?, 1) dtype=float32>, <tf.Tensor 'split_7:6' shape=(?, 1) dtype=float32>, <tf.Tensor 'split_7:7' shape=(?, 1) dtype=float32>]\n"
          ],
          "name": "stdout"
        },
        {
          "output_type": "error",
          "ename": "ValueError",
          "evalue": "ignored",
          "traceback": [
            "\u001b[0;31m---------------------------------------------------------------------------\u001b[0m",
            "\u001b[0;31mValueError\u001b[0m                                Traceback (most recent call last)",
            "\u001b[0;32m<ipython-input-42-0f613e675867>\u001b[0m in \u001b[0;36m<module>\u001b[0;34m()\u001b[0m\n\u001b[1;32m      1\u001b[0m \u001b[0mtf\u001b[0m\u001b[0;34m.\u001b[0m\u001b[0mreset_default_graph\u001b[0m\u001b[0;34m(\u001b[0m\u001b[0;34m)\u001b[0m\u001b[0;34m\u001b[0m\u001b[0;34m\u001b[0m\u001b[0m\n\u001b[0;32m----> 2\u001b[0;31m \u001b[0mtrain_neural_network\u001b[0m\u001b[0;34m(\u001b[0m\u001b[0;34m)\u001b[0m\u001b[0;34m\u001b[0m\u001b[0;34m\u001b[0m\u001b[0m\n\u001b[0m",
            "\u001b[0;32m<ipython-input-41-3d7d3d307038>\u001b[0m in \u001b[0;36mtrain_neural_network\u001b[0;34m()\u001b[0m\n\u001b[1;32m     14\u001b[0m \u001b[0;34m\u001b[0m\u001b[0m\n\u001b[1;32m     15\u001b[0m \u001b[0;32mdef\u001b[0m \u001b[0mtrain_neural_network\u001b[0m\u001b[0;34m(\u001b[0m\u001b[0;34m)\u001b[0m\u001b[0;34m:\u001b[0m\u001b[0;34m\u001b[0m\u001b[0;34m\u001b[0m\u001b[0m\n\u001b[0;32m---> 16\u001b[0;31m     \u001b[0mlogit\u001b[0m \u001b[0;34m=\u001b[0m \u001b[0mrecurrent_neural_network_model\u001b[0m\u001b[0;34m(\u001b[0m\u001b[0;34m)\u001b[0m\u001b[0;34m\u001b[0m\u001b[0;34m\u001b[0m\u001b[0m\n\u001b[0m\u001b[1;32m     17\u001b[0m     \u001b[0mlogit\u001b[0m \u001b[0;34m=\u001b[0m \u001b[0mtf\u001b[0m\u001b[0;34m.\u001b[0m\u001b[0mreshape\u001b[0m\u001b[0;34m(\u001b[0m\u001b[0mlogit\u001b[0m\u001b[0;34m,\u001b[0m \u001b[0;34m[\u001b[0m\u001b[0;34m-\u001b[0m\u001b[0;36m1\u001b[0m\u001b[0;34m]\u001b[0m\u001b[0;34m)\u001b[0m\u001b[0;34m\u001b[0m\u001b[0;34m\u001b[0m\u001b[0m\n\u001b[1;32m     18\u001b[0m \u001b[0;34m\u001b[0m\u001b[0m\n",
            "\u001b[0;32m<ipython-input-41-3d7d3d307038>\u001b[0m in \u001b[0;36mrecurrent_neural_network_model\u001b[0;34m()\u001b[0m\n\u001b[1;32m      7\u001b[0m     \u001b[0mlstm_cell\u001b[0m \u001b[0;34m=\u001b[0m \u001b[0mrnn\u001b[0m\u001b[0;34m.\u001b[0m\u001b[0mBasicLSTMCell\u001b[0m\u001b[0;34m(\u001b[0m\u001b[0mn_units\u001b[0m\u001b[0;34m)\u001b[0m\u001b[0;34m\u001b[0m\u001b[0;34m\u001b[0m\u001b[0m\n\u001b[1;32m      8\u001b[0m \u001b[0;34m\u001b[0m\u001b[0m\n\u001b[0;32m----> 9\u001b[0;31m     \u001b[0moutputs\u001b[0m\u001b[0;34m,\u001b[0m \u001b[0mstates\u001b[0m \u001b[0;34m=\u001b[0m \u001b[0mrnn\u001b[0m\u001b[0;34m.\u001b[0m\u001b[0mstatic_rnn\u001b[0m\u001b[0;34m(\u001b[0m\u001b[0mlstm_cell\u001b[0m\u001b[0;34m,\u001b[0m \u001b[0mx\u001b[0m\u001b[0;34m,\u001b[0m \u001b[0mdtype\u001b[0m\u001b[0;34m=\u001b[0m\u001b[0mtf\u001b[0m\u001b[0;34m.\u001b[0m\u001b[0mfloat32\u001b[0m\u001b[0;34m)\u001b[0m\u001b[0;34m\u001b[0m\u001b[0;34m\u001b[0m\u001b[0m\n\u001b[0m\u001b[1;32m     10\u001b[0m \u001b[0;34m\u001b[0m\u001b[0m\n\u001b[1;32m     11\u001b[0m     \u001b[0moutput\u001b[0m \u001b[0;34m=\u001b[0m \u001b[0mtf\u001b[0m\u001b[0;34m.\u001b[0m\u001b[0mmatmul\u001b[0m\u001b[0;34m(\u001b[0m\u001b[0moutputs\u001b[0m\u001b[0;34m[\u001b[0m\u001b[0;34m-\u001b[0m\u001b[0;36m1\u001b[0m\u001b[0;34m]\u001b[0m\u001b[0;34m,\u001b[0m \u001b[0mlayer\u001b[0m\u001b[0;34m[\u001b[0m\u001b[0;34m'weights'\u001b[0m\u001b[0;34m]\u001b[0m\u001b[0;34m)\u001b[0m \u001b[0;34m+\u001b[0m \u001b[0mlayer\u001b[0m\u001b[0;34m[\u001b[0m\u001b[0;34m'bias'\u001b[0m\u001b[0;34m]\u001b[0m\u001b[0;34m\u001b[0m\u001b[0;34m\u001b[0m\u001b[0m\n",
            "\u001b[0;32m/usr/local/lib/python3.6/dist-packages/tensorflow_core/python/util/deprecation.py\u001b[0m in \u001b[0;36mnew_func\u001b[0;34m(*args, **kwargs)\u001b[0m\n\u001b[1;32m    322\u001b[0m               \u001b[0;34m'in a future version'\u001b[0m \u001b[0;32mif\u001b[0m \u001b[0mdate\u001b[0m \u001b[0;32mis\u001b[0m \u001b[0;32mNone\u001b[0m \u001b[0;32melse\u001b[0m \u001b[0;34m(\u001b[0m\u001b[0;34m'after %s'\u001b[0m \u001b[0;34m%\u001b[0m \u001b[0mdate\u001b[0m\u001b[0;34m)\u001b[0m\u001b[0;34m,\u001b[0m\u001b[0;34m\u001b[0m\u001b[0;34m\u001b[0m\u001b[0m\n\u001b[1;32m    323\u001b[0m               instructions)\n\u001b[0;32m--> 324\u001b[0;31m       \u001b[0;32mreturn\u001b[0m \u001b[0mfunc\u001b[0m\u001b[0;34m(\u001b[0m\u001b[0;34m*\u001b[0m\u001b[0margs\u001b[0m\u001b[0;34m,\u001b[0m \u001b[0;34m**\u001b[0m\u001b[0mkwargs\u001b[0m\u001b[0;34m)\u001b[0m\u001b[0;34m\u001b[0m\u001b[0;34m\u001b[0m\u001b[0m\n\u001b[0m\u001b[1;32m    325\u001b[0m     return tf_decorator.make_decorator(\n\u001b[1;32m    326\u001b[0m         \u001b[0mfunc\u001b[0m\u001b[0;34m,\u001b[0m \u001b[0mnew_func\u001b[0m\u001b[0;34m,\u001b[0m \u001b[0;34m'deprecated'\u001b[0m\u001b[0;34m,\u001b[0m\u001b[0;34m\u001b[0m\u001b[0;34m\u001b[0m\u001b[0m\n",
            "\u001b[0;32m/usr/local/lib/python3.6/dist-packages/tensorflow_core/python/ops/rnn.py\u001b[0m in \u001b[0;36mstatic_rnn\u001b[0;34m(cell, inputs, initial_state, dtype, sequence_length, scope)\u001b[0m\n\u001b[1;32m   1436\u001b[0m             state_size=cell.state_size)\n\u001b[1;32m   1437\u001b[0m       \u001b[0;32melse\u001b[0m\u001b[0;34m:\u001b[0m\u001b[0;34m\u001b[0m\u001b[0;34m\u001b[0m\u001b[0m\n\u001b[0;32m-> 1438\u001b[0;31m         \u001b[0;34m(\u001b[0m\u001b[0moutput\u001b[0m\u001b[0;34m,\u001b[0m \u001b[0mstate\u001b[0m\u001b[0;34m)\u001b[0m \u001b[0;34m=\u001b[0m \u001b[0mcall_cell\u001b[0m\u001b[0;34m(\u001b[0m\u001b[0;34m)\u001b[0m\u001b[0;34m\u001b[0m\u001b[0;34m\u001b[0m\u001b[0m\n\u001b[0m\u001b[1;32m   1439\u001b[0m       \u001b[0moutputs\u001b[0m\u001b[0;34m.\u001b[0m\u001b[0mappend\u001b[0m\u001b[0;34m(\u001b[0m\u001b[0moutput\u001b[0m\u001b[0;34m)\u001b[0m\u001b[0;34m\u001b[0m\u001b[0;34m\u001b[0m\u001b[0m\n\u001b[1;32m   1440\u001b[0m     \u001b[0;31m# Keras RNN cells only return state as list, even if it's a single tensor.\u001b[0m\u001b[0;34m\u001b[0m\u001b[0;34m\u001b[0m\u001b[0;34m\u001b[0m\u001b[0m\n",
            "\u001b[0;32m/usr/local/lib/python3.6/dist-packages/tensorflow_core/python/ops/rnn.py\u001b[0m in \u001b[0;36m<lambda>\u001b[0;34m()\u001b[0m\n\u001b[1;32m   1423\u001b[0m         \u001b[0mvarscope\u001b[0m\u001b[0;34m.\u001b[0m\u001b[0mreuse_variables\u001b[0m\u001b[0;34m(\u001b[0m\u001b[0;34m)\u001b[0m\u001b[0;34m\u001b[0m\u001b[0;34m\u001b[0m\u001b[0m\n\u001b[1;32m   1424\u001b[0m       \u001b[0;31m# pylint: disable=cell-var-from-loop\u001b[0m\u001b[0;34m\u001b[0m\u001b[0;34m\u001b[0m\u001b[0;34m\u001b[0m\u001b[0m\n\u001b[0;32m-> 1425\u001b[0;31m       \u001b[0mcall_cell\u001b[0m \u001b[0;34m=\u001b[0m \u001b[0;32mlambda\u001b[0m\u001b[0;34m:\u001b[0m \u001b[0mcell\u001b[0m\u001b[0;34m(\u001b[0m\u001b[0minput_\u001b[0m\u001b[0;34m,\u001b[0m \u001b[0mstate\u001b[0m\u001b[0;34m)\u001b[0m\u001b[0;34m\u001b[0m\u001b[0;34m\u001b[0m\u001b[0m\n\u001b[0m\u001b[1;32m   1426\u001b[0m       \u001b[0;31m# pylint: enable=cell-var-from-loop\u001b[0m\u001b[0;34m\u001b[0m\u001b[0;34m\u001b[0m\u001b[0;34m\u001b[0m\u001b[0m\n\u001b[1;32m   1427\u001b[0m       \u001b[0;32mif\u001b[0m \u001b[0msequence_length\u001b[0m \u001b[0;32mis\u001b[0m \u001b[0;32mnot\u001b[0m \u001b[0;32mNone\u001b[0m\u001b[0;34m:\u001b[0m\u001b[0;34m\u001b[0m\u001b[0;34m\u001b[0m\u001b[0m\n",
            "\u001b[0;32m/usr/local/lib/python3.6/dist-packages/tensorflow_core/python/ops/rnn_cell_impl.py\u001b[0m in \u001b[0;36m__call__\u001b[0;34m(self, inputs, state, scope, *args, **kwargs)\u001b[0m\n\u001b[1;32m    383\u001b[0m     \u001b[0;31m# method.  See the class docstring for more details.\u001b[0m\u001b[0;34m\u001b[0m\u001b[0;34m\u001b[0m\u001b[0;34m\u001b[0m\u001b[0m\n\u001b[1;32m    384\u001b[0m     return base_layer.Layer.__call__(\n\u001b[0;32m--> 385\u001b[0;31m         self, inputs, state, scope=scope, *args, **kwargs)\n\u001b[0m\u001b[1;32m    386\u001b[0m \u001b[0;34m\u001b[0m\u001b[0m\n\u001b[1;32m    387\u001b[0m \u001b[0;34m\u001b[0m\u001b[0m\n",
            "\u001b[0;32m/usr/local/lib/python3.6/dist-packages/tensorflow_core/python/layers/base.py\u001b[0m in \u001b[0;36m__call__\u001b[0;34m(self, inputs, *args, **kwargs)\u001b[0m\n\u001b[1;32m    546\u001b[0m \u001b[0;34m\u001b[0m\u001b[0m\n\u001b[1;32m    547\u001b[0m       \u001b[0;31m# Actually call layer\u001b[0m\u001b[0;34m\u001b[0m\u001b[0;34m\u001b[0m\u001b[0;34m\u001b[0m\u001b[0m\n\u001b[0;32m--> 548\u001b[0;31m       \u001b[0moutputs\u001b[0m \u001b[0;34m=\u001b[0m \u001b[0msuper\u001b[0m\u001b[0;34m(\u001b[0m\u001b[0mLayer\u001b[0m\u001b[0;34m,\u001b[0m \u001b[0mself\u001b[0m\u001b[0;34m)\u001b[0m\u001b[0;34m.\u001b[0m\u001b[0m__call__\u001b[0m\u001b[0;34m(\u001b[0m\u001b[0minputs\u001b[0m\u001b[0;34m,\u001b[0m \u001b[0;34m*\u001b[0m\u001b[0margs\u001b[0m\u001b[0;34m,\u001b[0m \u001b[0;34m**\u001b[0m\u001b[0mkwargs\u001b[0m\u001b[0;34m)\u001b[0m\u001b[0;34m\u001b[0m\u001b[0;34m\u001b[0m\u001b[0m\n\u001b[0m\u001b[1;32m    549\u001b[0m \u001b[0;34m\u001b[0m\u001b[0m\n\u001b[1;32m    550\u001b[0m     \u001b[0;32mif\u001b[0m \u001b[0;32mnot\u001b[0m \u001b[0mcontext\u001b[0m\u001b[0;34m.\u001b[0m\u001b[0mexecuting_eagerly\u001b[0m\u001b[0;34m(\u001b[0m\u001b[0;34m)\u001b[0m\u001b[0;34m:\u001b[0m\u001b[0;34m\u001b[0m\u001b[0;34m\u001b[0m\u001b[0m\n",
            "\u001b[0;32m/usr/local/lib/python3.6/dist-packages/tensorflow_core/python/keras/engine/base_layer.py\u001b[0m in \u001b[0;36m__call__\u001b[0;34m(self, inputs, *args, **kwargs)\u001b[0m\n\u001b[1;32m    805\u001b[0m                     \u001b[0moutputs\u001b[0m \u001b[0;34m=\u001b[0m \u001b[0mbase_layer_utils\u001b[0m\u001b[0;34m.\u001b[0m\u001b[0mmark_as_return\u001b[0m\u001b[0;34m(\u001b[0m\u001b[0moutputs\u001b[0m\u001b[0;34m,\u001b[0m \u001b[0macd\u001b[0m\u001b[0;34m)\u001b[0m\u001b[0;34m\u001b[0m\u001b[0;34m\u001b[0m\u001b[0m\n\u001b[1;32m    806\u001b[0m                 \u001b[0;32melse\u001b[0m\u001b[0;34m:\u001b[0m\u001b[0;34m\u001b[0m\u001b[0;34m\u001b[0m\u001b[0m\n\u001b[0;32m--> 807\u001b[0;31m                   \u001b[0moutputs\u001b[0m \u001b[0;34m=\u001b[0m \u001b[0mcall_fn\u001b[0m\u001b[0;34m(\u001b[0m\u001b[0mcast_inputs\u001b[0m\u001b[0;34m,\u001b[0m \u001b[0;34m*\u001b[0m\u001b[0margs\u001b[0m\u001b[0;34m,\u001b[0m \u001b[0;34m**\u001b[0m\u001b[0mkwargs\u001b[0m\u001b[0;34m)\u001b[0m\u001b[0;34m\u001b[0m\u001b[0;34m\u001b[0m\u001b[0m\n\u001b[0m\u001b[1;32m    808\u001b[0m \u001b[0;34m\u001b[0m\u001b[0m\n\u001b[1;32m    809\u001b[0m             \u001b[0;32mexcept\u001b[0m \u001b[0merrors\u001b[0m\u001b[0;34m.\u001b[0m\u001b[0mOperatorNotAllowedInGraphError\u001b[0m \u001b[0;32mas\u001b[0m \u001b[0me\u001b[0m\u001b[0;34m:\u001b[0m\u001b[0;34m\u001b[0m\u001b[0;34m\u001b[0m\u001b[0m\n",
            "\u001b[0;32m/usr/local/lib/python3.6/dist-packages/tensorflow_core/python/autograph/impl/api.py\u001b[0m in \u001b[0;36mwrapper\u001b[0;34m(*args, **kwargs)\u001b[0m\n\u001b[1;32m    235\u001b[0m       \u001b[0;32mexcept\u001b[0m \u001b[0mException\u001b[0m \u001b[0;32mas\u001b[0m \u001b[0me\u001b[0m\u001b[0;34m:\u001b[0m  \u001b[0;31m# pylint:disable=broad-except\u001b[0m\u001b[0;34m\u001b[0m\u001b[0;34m\u001b[0m\u001b[0m\n\u001b[1;32m    236\u001b[0m         \u001b[0;32mif\u001b[0m \u001b[0mhasattr\u001b[0m\u001b[0;34m(\u001b[0m\u001b[0me\u001b[0m\u001b[0;34m,\u001b[0m \u001b[0;34m'ag_error_metadata'\u001b[0m\u001b[0;34m)\u001b[0m\u001b[0;34m:\u001b[0m\u001b[0;34m\u001b[0m\u001b[0;34m\u001b[0m\u001b[0m\n\u001b[0;32m--> 237\u001b[0;31m           \u001b[0;32mraise\u001b[0m \u001b[0me\u001b[0m\u001b[0;34m.\u001b[0m\u001b[0mag_error_metadata\u001b[0m\u001b[0;34m.\u001b[0m\u001b[0mto_exception\u001b[0m\u001b[0;34m(\u001b[0m\u001b[0me\u001b[0m\u001b[0;34m)\u001b[0m\u001b[0;34m\u001b[0m\u001b[0;34m\u001b[0m\u001b[0m\n\u001b[0m\u001b[1;32m    238\u001b[0m         \u001b[0;32melse\u001b[0m\u001b[0;34m:\u001b[0m\u001b[0;34m\u001b[0m\u001b[0;34m\u001b[0m\u001b[0m\n\u001b[1;32m    239\u001b[0m           \u001b[0;32mraise\u001b[0m\u001b[0;34m\u001b[0m\u001b[0;34m\u001b[0m\u001b[0m\n",
            "\u001b[0;31mValueError\u001b[0m: in converted code:\n    relative to /usr/local/lib/python3.6/dist-packages/tensorflow_core/python:\n\n    ops/rnn_cell_impl.py:767 call\n        array_ops.concat([inputs, h], 1), self._kernel)\n    util/dispatch.py:180 wrapper\n        return target(*args, **kwargs)\n    ops/math_ops.py:2629 matmul\n        with ops.name_scope(name, \"MatMul\", [a, b]) as name:\n    framework/ops.py:6277 __enter__\n        g_from_inputs = _get_graph_from_inputs(self._values)\n    framework/ops.py:5922 _get_graph_from_inputs\n        _assert_same_graph(original_graph_element, graph_element)\n    framework/ops.py:5857 _assert_same_graph\n        (item, original_item))\n\n    ValueError: Tensor(\"rnn/basic_lstm_cell/kernel:0\", shape=(201, 800), dtype=float32_ref) must be from the same graph as Tensor(\"concat_1:0\", shape=(?, 201), dtype=float32).\n"
          ]
        }
      ]
    },
    {
      "cell_type": "markdown",
      "metadata": {
        "id": "_JCHcY9vXK-6",
        "colab_type": "text"
      },
      "source": [
        "## Second Model"
      ]
    },
    {
      "cell_type": "code",
      "metadata": {
        "id": "mQ-8sIjZNkKg",
        "colab_type": "code",
        "colab": {}
      },
      "source": [
        "import numpy as np\n",
        "import pandas as pd\n",
        "from matplotlib import pyplot as plt\n",
        "\n",
        "from tensorflow.contrib import learn\n",
        "from sklearn.metrics import mean_squared_error, mean_absolute_error\n",
        "# from lstm_predictor import generate_data, load_csvdata, lstm_model"
      ],
      "execution_count": 0,
      "outputs": []
    },
    {
      "cell_type": "markdown",
      "metadata": {
        "id": "FIfVWBAdQcU2",
        "colab_type": "text"
      },
      "source": [
        "### Set-up"
      ]
    },
    {
      "cell_type": "code",
      "metadata": {
        "id": "NEmq2lfbQbgu",
        "colab_type": "code",
        "colab": {}
      },
      "source": [
        "import numpy as np\n",
        "import pandas as pd\n",
        "import tensorflow as tf\n",
        "from tensorflow.python.framework import dtypes\n",
        "from tensorflow.contrib import learn\n",
        "\n",
        "import logging\n",
        "logging.basicConfig(level=logging.INFO)\n",
        "\n",
        "def x_sin(x):\n",
        "    return x * np.sin(x)\n",
        "\n",
        "\n",
        "def sin_cos(x):\n",
        "    return pd.DataFrame(dict(a=np.sin(x), b=np.cos(x)), index=x)\n",
        "\n",
        "\n",
        "def rnn_data(data, time_steps, labels=False):\n",
        "    \"\"\"\n",
        "    creates new data frame based on previous observation\n",
        "      * example:\n",
        "        l = [1, 2, 3, 4, 5]\n",
        "        time_steps = 2\n",
        "        -> labels == False [[1, 2], [2, 3], [3, 4]]\n",
        "        -> labels == True [2, 3, 4, 5]\n",
        "    \"\"\"\n",
        "    rnn_df = []\n",
        "    for i in range(len(data) - time_steps):\n",
        "        if labels:\n",
        "            try:\n",
        "                rnn_df.append(data.iloc[i + time_steps].as_matrix())\n",
        "            except AttributeError:\n",
        "                rnn_df.append(data.iloc[i + time_steps])\n",
        "        else:\n",
        "            data_ = data.iloc[i: i + time_steps].as_matrix()\n",
        "            rnn_df.append(data_ if len(data_.shape) > 1 else [[i] for i in data_])\n",
        "    return np.array(rnn_df)\n",
        "\n",
        "\n",
        "def split_data(data, val_size=0.1, test_size=0.1):\n",
        "    \"\"\"\n",
        "    splits data to training, validation and testing parts\n",
        "    \"\"\"\n",
        "    ntest = int(round(len(data) * (1 - test_size)))\n",
        "    nval = int(round(len(data.iloc[:ntest]) * (1 - val_size)))\n",
        "\n",
        "    df_train, df_val, df_test = data.iloc[:nval], data.iloc[nval:ntest], data.iloc[ntest:]\n",
        "\n",
        "    return df_train, df_val, df_test\n",
        "\n",
        "\n",
        "def prepare_data(data, time_steps, labels=False, val_size=0.05, test_size=0.05):\n",
        "    \"\"\"\n",
        "    Given the number of `time_steps` and some data,\n",
        "    prepares training, validation and test data for an lstm cell.\n",
        "    \"\"\"\n",
        "    df_train, df_val, df_test = split_data(data, val_size, test_size)\n",
        "    return (rnn_data(df_train, time_steps, labels=labels),\n",
        "            rnn_data(df_val, time_steps, labels=labels),\n",
        "            rnn_data(df_test, time_steps, labels=labels))\n",
        "\n",
        "\n",
        "def generate_data(fct, x, time_steps, seperate=False):\n",
        "    \"\"\"generates data with based on a function fct\"\"\"\n",
        "    data = fct(x)\n",
        "    if not isinstance(data, pd.DataFrame):\n",
        "        data = pd.DataFrame(data)\n",
        "    train_x, val_x, test_x = prepare_data(data['a'] if seperate else data, time_steps)\n",
        "    train_y, val_y, test_y = prepare_data(data['b'] if seperate else data, time_steps, labels=True)\n",
        "    return dict(train=train_x, val=val_x, test=test_x), dict(train=train_y, val=val_y, test=test_y)\n",
        "\n",
        "def load_csvdata(rawdata, time_steps, seperate=False):\n",
        "    data = rawdata\n",
        "    if not isinstance(data, pd.DataFrame):\n",
        "        data = pd.DataFrame(data)\n",
        "    train_x, val_x, test_x = prepare_data(data['a'] if seperate else data, time_steps)\n",
        "    train_y, val_y, test_y = prepare_data(data['b'] if seperate else data, time_steps, labels=True)\n",
        "    return dict(train=train_x, val=val_x, test=test_x), dict(train=train_y, val=val_y, test=test_y)\n",
        "\n",
        "def lstm_model(time_steps, rnn_layers, dense_layers=None):\n",
        "    \"\"\"\n",
        "    Creates a deep model based on:\n",
        "        * stacked lstm cells\n",
        "        * an optional dense layers\n",
        "    :param time_steps: the number of time steps the model will be looking at.\n",
        "    :param rnn_layers: list of int or dict\n",
        "                         * list of int: the steps used to instantiate the `BasicLSTMCell` cell\n",
        "                         * list of dict: [{steps: int, keep_prob: int}, ...]\n",
        "    :param dense_layers: list of nodes for each layer\n",
        "    :return: the model definition\n",
        "    \"\"\"\n",
        "\n",
        "    def lstm_cells(layers):\n",
        "        if isinstance(layers[0], dict):\n",
        "            return [tf.nn.rnn_cell.DropoutWrapper(tf.nn.rnn_cell.BasicLSTMCell(layer['steps'],\n",
        "                                                                               state_is_tuple=True),\n",
        "                                                  layer['keep_prob'])\n",
        "                    if layer.get('keep_prob') else tf.nn.rnn_cell.BasicLSTMCell(layer['steps'],\n",
        "                                                                                state_is_tuple=True)\n",
        "                    for layer in layers]\n",
        "        return [tf.nn.rnn_cell.BasicLSTMCell(steps, state_is_tuple=True) for steps in layers]\n",
        "\n",
        "    def dnn_layers(input_layers, layers):\n",
        "        if layers and isinstance(layers, dict):\n",
        "            return learn.ops.dnn(input_layers,\n",
        "                                 layers['layers'],\n",
        "                                 activation=layers.get('activation'),\n",
        "                                 dropout=layers.get('dropout'))\n",
        "        elif layers:\n",
        "            return learn.ops.dnn(input_layers, layers)\n",
        "        else:\n",
        "            return input_layers\n",
        "\n",
        "    def _lstm_model(X, y):\n",
        "        stacked_lstm = tf.nn.rnn_cell.MultiRNNCell(lstm_cells(rnn_layers), state_is_tuple=True)\n",
        "        x_ = learn.ops.split_squeeze(1, time_steps, X)\n",
        "        output, layers = tf.nn.rnn(stacked_lstm, x_, dtype=dtypes.float32)\n",
        "        output = dnn_layers(output[-1], dense_layers)\n",
        "        return learn.models.linear_regression(output, y)"
      ],
      "execution_count": 0,
      "outputs": []
    },
    {
      "cell_type": "code",
      "metadata": {
        "id": "8zenchIpY3-9",
        "colab_type": "code",
        "colab": {}
      },
      "source": [
        ""
      ],
      "execution_count": 0,
      "outputs": []
    },
    {
      "cell_type": "code",
      "metadata": {
        "id": "kSDF3n-LQiPJ",
        "colab_type": "code",
        "colab": {}
      },
      "source": [
        "LOG_DIR = './ops_logs'\n",
        "TIMESTEPS = 10\n",
        "RNN_LAYERS = [{'steps': TIMESTEPS}]\n",
        "DENSE_LAYERS = [10, 10]\n",
        "TRAINING_STEPS = 100 # reset to 10000 or more loops\n",
        "BATCH_SIZE = 100\n",
        "PRINT_STEPS = TRAINING_STEPS / 100"
      ],
      "execution_count": 0,
      "outputs": []
    },
    {
      "cell_type": "code",
      "metadata": {
        "id": "1CxOK5C3X5xW",
        "colab_type": "code",
        "outputId": "9b92abee-229e-49a4-b1ac-4c2f3d00170f",
        "colab": {
          "base_uri": "https://localhost:8080/",
          "height": 71
        }
      },
      "source": [
        "# dateparse = lambda dates: pd.datetime.strptime(dates, '%d/%m/%Y') # %H:%M\n",
        "# rawdata = pd.read_csv(\"/content/Alldata_add_temp.csv\", \n",
        "                   # parse_dates={'timeline': ['date', '(UTC)']}, \n",
        "                   # index_col='timeline', date_parser=dateparse)\n",
        "\n",
        "\n",
        "X, y = load_csvdata(EastRiver, TIMESTEPS, seperate=False)"
      ],
      "execution_count": 0,
      "outputs": [
        {
          "output_type": "stream",
          "text": [
            "/usr/local/lib/python3.6/dist-packages/ipykernel_launcher.py:35: FutureWarning: Method .as_matrix will be removed in a future version. Use .values instead.\n",
            "/usr/local/lib/python3.6/dist-packages/ipykernel_launcher.py:31: FutureWarning: Method .as_matrix will be removed in a future version. Use .values instead.\n"
          ],
          "name": "stderr"
        }
      ]
    },
    {
      "cell_type": "code",
      "metadata": {
        "id": "_D9ScgKGYMam",
        "colab_type": "code",
        "colab": {}
      },
      "source": [
        "y"
      ],
      "execution_count": 0,
      "outputs": []
    },
    {
      "cell_type": "code",
      "metadata": {
        "id": "2vy02snDYrOt",
        "colab_type": "code",
        "outputId": "51c03c85-5fd7-4b55-87f9-f893f10b3814",
        "colab": {
          "base_uri": "https://localhost:8080/",
          "height": 192
        }
      },
      "source": [
        "regressor = learn.SKCompat(learn.Estimator(\n",
        "    model_fn=lstm_model(\n",
        "        TIMESTEPS,\n",
        "        RNN_LAYERS,\n",
        "        DENSE_LAYERS\n",
        "    ),\n",
        "    model_dir=LOG_DIR\n",
        "))"
      ],
      "execution_count": 0,
      "outputs": [
        {
          "output_type": "stream",
          "text": [
            "W0806 19:35:50.422926 140631559899008 deprecation.py:323] From /usr/local/lib/python3.6/dist-packages/tensorflow_core/contrib/learn/python/learn/estimators/estimator.py:1179: BaseEstimator.__init__ (from tensorflow.contrib.learn.python.learn.estimators.estimator) is deprecated and will be removed in a future version.\n",
            "Instructions for updating:\n",
            "Please replace uses of any Estimator from tf.contrib.learn with an Estimator from tf.estimator.*\n",
            "W0806 19:35:50.424325 140631559899008 deprecation.py:323] From /usr/local/lib/python3.6/dist-packages/tensorflow_core/contrib/learn/python/learn/estimators/estimator.py:427: RunConfig.__init__ (from tensorflow.contrib.learn.python.learn.estimators.run_config) is deprecated and will be removed in a future version.\n",
            "Instructions for updating:\n",
            "When switching to tf.estimator.Estimator, use tf.estimator.RunConfig instead.\n",
            "W0806 19:35:50.426863 140631559899008 deprecation.py:323] From <ipython-input-61-a973bdfeeec1>:7: SKCompat.__init__ (from tensorflow.contrib.learn.python.learn.estimators.estimator) is deprecated and will be removed in a future version.\n",
            "Instructions for updating:\n",
            "Please switch to the Estimator interface.\n"
          ],
          "name": "stderr"
        }
      ]
    },
    {
      "cell_type": "code",
      "metadata": {
        "id": "0K7SL5DnbroR",
        "colab_type": "code",
        "outputId": "567786c9-0854-4157-d79f-1742afbee136",
        "colab": {
          "base_uri": "https://localhost:8080/",
          "height": 900
        }
      },
      "source": [
        "# create a lstm instance and validation monitor\n",
        "validation_monitor = learn.monitors.ValidationMonitor(X['val'], y['val'],\n",
        "                                                     every_n_steps=PRINT_STEPS,\n",
        "                                                     early_stopping_rounds=1000)\n",
        "regressor.fit(X['train'], y['train'],\n",
        "              monitors=[validation_monitor],\n",
        "              batch_size=BATCH_SIZE,\n",
        "              steps=TRAINING_STEPS)\n",
        "\n",
        "predicted = regressor.predict(X['test'])"
      ],
      "execution_count": 0,
      "outputs": [
        {
          "output_type": "stream",
          "text": [
            "W0806 19:36:27.394085 140631559899008 deprecation.py:323] From /usr/local/lib/python3.6/dist-packages/tensorflow_core/contrib/learn/python/learn/monitors.py:279: BaseMonitor.__init__ (from tensorflow.contrib.learn.python.learn.monitors) is deprecated and will be removed after 2016-12-05.\n",
            "Instructions for updating:\n",
            "Monitors are deprecated. Please use tf.train.SessionRunHook.\n",
            "W0806 19:36:27.396357 140631559899008 deprecation.py:323] From /usr/local/lib/python3.6/dist-packages/tensorflow_core/contrib/learn/python/learn/estimators/estimator.py:143: setup_train_data_feeder (from tensorflow.contrib.learn.python.learn.learn_io.data_feeder) is deprecated and will be removed in a future version.\n",
            "Instructions for updating:\n",
            "Please use tensorflow/transform or tf.data.\n",
            "W0806 19:36:27.397689 140631559899008 deprecation.py:323] From /usr/local/lib/python3.6/dist-packages/tensorflow_core/contrib/learn/python/learn/learn_io/data_feeder.py:96: extract_dask_data (from tensorflow.contrib.learn.python.learn.learn_io.dask_io) is deprecated and will be removed in a future version.\n",
            "Instructions for updating:\n",
            "Please feed input to tf.data to support dask.\n",
            "W0806 19:36:27.398682 140631559899008 deprecation.py:323] From /usr/local/lib/python3.6/dist-packages/tensorflow_core/contrib/learn/python/learn/learn_io/data_feeder.py:98: extract_dask_labels (from tensorflow.contrib.learn.python.learn.learn_io.dask_io) is deprecated and will be removed in a future version.\n",
            "Instructions for updating:\n",
            "Please feed input to tf.data to support dask.\n",
            "W0806 19:36:27.399777 140631559899008 deprecation.py:323] From /usr/local/lib/python3.6/dist-packages/tensorflow_core/contrib/learn/python/learn/learn_io/data_feeder.py:100: extract_pandas_data (from tensorflow.contrib.learn.python.learn.learn_io.pandas_io) is deprecated and will be removed in a future version.\n",
            "Instructions for updating:\n",
            "Please access pandas data directly.\n",
            "W0806 19:36:27.400893 140631559899008 deprecation.py:323] From /usr/local/lib/python3.6/dist-packages/tensorflow_core/contrib/learn/python/learn/learn_io/data_feeder.py:102: extract_pandas_labels (from tensorflow.contrib.learn.python.learn.learn_io.pandas_io) is deprecated and will be removed in a future version.\n",
            "Instructions for updating:\n",
            "Please access pandas data directly.\n",
            "W0806 19:36:27.402284 140631559899008 deprecation.py:323] From /usr/local/lib/python3.6/dist-packages/tensorflow_core/contrib/learn/python/learn/learn_io/data_feeder.py:159: DataFeeder.__init__ (from tensorflow.contrib.learn.python.learn.learn_io.data_feeder) is deprecated and will be removed in a future version.\n",
            "Instructions for updating:\n",
            "Please use tensorflow/transform or tf.data.\n",
            "W0806 19:36:27.403844 140631559899008 deprecation.py:323] From /usr/local/lib/python3.6/dist-packages/tensorflow_core/contrib/learn/python/learn/learn_io/data_feeder.py:340: check_array (from tensorflow.contrib.learn.python.learn.learn_io.data_feeder) is deprecated and will be removed in a future version.\n",
            "Instructions for updating:\n",
            "Please convert numpy dtypes explicitly.\n",
            "W0806 19:36:27.404833 140631559899008 data_feeder.py:283] float64 is not supported by many models, consider casting to float32.\n",
            "W0806 19:36:27.405666 140631559899008 data_feeder.py:283] float64 is not supported by many models, consider casting to float32.\n",
            "W0806 19:36:27.418477 140631559899008 deprecation.py:323] From /usr/local/lib/python3.6/dist-packages/tensorflow_core/python/training/training_util.py:236: Variable.initialized_value (from tensorflow.python.ops.variables) is deprecated and will be removed in a future version.\n",
            "Instructions for updating:\n",
            "Use Variable.read_value. Variables in 2.X are initialized automatically both in eager and graph (inside tf.defun) contexts.\n"
          ],
          "name": "stderr"
        },
        {
          "output_type": "error",
          "ename": "TypeError",
          "evalue": "ignored",
          "traceback": [
            "\u001b[0;31m---------------------------------------------------------------------------\u001b[0m",
            "\u001b[0;31mTypeError\u001b[0m                                 Traceback (most recent call last)",
            "\u001b[0;32m<ipython-input-62-a2c0f066fe36>\u001b[0m in \u001b[0;36m<module>\u001b[0;34m()\u001b[0m\n\u001b[1;32m      5\u001b[0m               \u001b[0mmonitors\u001b[0m\u001b[0;34m=\u001b[0m\u001b[0;34m[\u001b[0m\u001b[0mvalidation_monitor\u001b[0m\u001b[0;34m]\u001b[0m\u001b[0;34m,\u001b[0m\u001b[0;34m\u001b[0m\u001b[0;34m\u001b[0m\u001b[0m\n\u001b[1;32m      6\u001b[0m               \u001b[0mbatch_size\u001b[0m\u001b[0;34m=\u001b[0m\u001b[0mBATCH_SIZE\u001b[0m\u001b[0;34m,\u001b[0m\u001b[0;34m\u001b[0m\u001b[0;34m\u001b[0m\u001b[0m\n\u001b[0;32m----> 7\u001b[0;31m               steps=TRAINING_STEPS)\n\u001b[0m\u001b[1;32m      8\u001b[0m \u001b[0;34m\u001b[0m\u001b[0m\n\u001b[1;32m      9\u001b[0m \u001b[0mpredicted\u001b[0m \u001b[0;34m=\u001b[0m \u001b[0mregressor\u001b[0m\u001b[0;34m.\u001b[0m\u001b[0mpredict\u001b[0m\u001b[0;34m(\u001b[0m\u001b[0mX\u001b[0m\u001b[0;34m[\u001b[0m\u001b[0;34m'test'\u001b[0m\u001b[0;34m]\u001b[0m\u001b[0;34m)\u001b[0m\u001b[0;34m\u001b[0m\u001b[0;34m\u001b[0m\u001b[0m\n",
            "\u001b[0;32m/usr/local/lib/python3.6/dist-packages/tensorflow_core/contrib/learn/python/learn/estimators/estimator.py\u001b[0m in \u001b[0;36mfit\u001b[0;34m(self, x, y, batch_size, steps, max_steps, monitors)\u001b[0m\n\u001b[1;32m   1524\u001b[0m         \u001b[0msteps\u001b[0m\u001b[0;34m=\u001b[0m\u001b[0msteps\u001b[0m\u001b[0;34m,\u001b[0m\u001b[0;34m\u001b[0m\u001b[0;34m\u001b[0m\u001b[0m\n\u001b[1;32m   1525\u001b[0m         \u001b[0mmax_steps\u001b[0m\u001b[0;34m=\u001b[0m\u001b[0mmax_steps\u001b[0m\u001b[0;34m,\u001b[0m\u001b[0;34m\u001b[0m\u001b[0;34m\u001b[0m\u001b[0m\n\u001b[0;32m-> 1526\u001b[0;31m         monitors=all_monitors)\n\u001b[0m\u001b[1;32m   1527\u001b[0m     \u001b[0;32mreturn\u001b[0m \u001b[0mself\u001b[0m\u001b[0;34m\u001b[0m\u001b[0;34m\u001b[0m\u001b[0m\n\u001b[1;32m   1528\u001b[0m \u001b[0;34m\u001b[0m\u001b[0m\n",
            "\u001b[0;32m/usr/local/lib/python3.6/dist-packages/tensorflow_core/python/util/deprecation.py\u001b[0m in \u001b[0;36mnew_func\u001b[0;34m(*args, **kwargs)\u001b[0m\n\u001b[1;32m    505\u001b[0m                 \u001b[0;34m'in a future version'\u001b[0m \u001b[0;32mif\u001b[0m \u001b[0mdate\u001b[0m \u001b[0;32mis\u001b[0m \u001b[0;32mNone\u001b[0m \u001b[0;32melse\u001b[0m \u001b[0;34m(\u001b[0m\u001b[0;34m'after %s'\u001b[0m \u001b[0;34m%\u001b[0m \u001b[0mdate\u001b[0m\u001b[0;34m)\u001b[0m\u001b[0;34m,\u001b[0m\u001b[0;34m\u001b[0m\u001b[0;34m\u001b[0m\u001b[0m\n\u001b[1;32m    506\u001b[0m                 instructions)\n\u001b[0;32m--> 507\u001b[0;31m       \u001b[0;32mreturn\u001b[0m \u001b[0mfunc\u001b[0m\u001b[0;34m(\u001b[0m\u001b[0;34m*\u001b[0m\u001b[0margs\u001b[0m\u001b[0;34m,\u001b[0m \u001b[0;34m**\u001b[0m\u001b[0mkwargs\u001b[0m\u001b[0;34m)\u001b[0m\u001b[0;34m\u001b[0m\u001b[0;34m\u001b[0m\u001b[0m\n\u001b[0m\u001b[1;32m    508\u001b[0m \u001b[0;34m\u001b[0m\u001b[0m\n\u001b[1;32m    509\u001b[0m     doc = _add_deprecated_arg_notice_to_docstring(\n",
            "\u001b[0;32m/usr/local/lib/python3.6/dist-packages/tensorflow_core/contrib/learn/python/learn/estimators/estimator.py\u001b[0m in \u001b[0;36mfit\u001b[0;34m(self, x, y, input_fn, steps, batch_size, monitors, max_steps)\u001b[0m\n\u001b[1;32m    522\u001b[0m       \u001b[0mhooks\u001b[0m\u001b[0;34m.\u001b[0m\u001b[0mappend\u001b[0m\u001b[0;34m(\u001b[0m\u001b[0mbasic_session_run_hooks\u001b[0m\u001b[0;34m.\u001b[0m\u001b[0mStopAtStepHook\u001b[0m\u001b[0;34m(\u001b[0m\u001b[0msteps\u001b[0m\u001b[0;34m,\u001b[0m \u001b[0mmax_steps\u001b[0m\u001b[0;34m)\u001b[0m\u001b[0;34m)\u001b[0m\u001b[0;34m\u001b[0m\u001b[0;34m\u001b[0m\u001b[0m\n\u001b[1;32m    523\u001b[0m \u001b[0;34m\u001b[0m\u001b[0m\n\u001b[0;32m--> 524\u001b[0;31m     \u001b[0mloss\u001b[0m \u001b[0;34m=\u001b[0m \u001b[0mself\u001b[0m\u001b[0;34m.\u001b[0m\u001b[0m_train_model\u001b[0m\u001b[0;34m(\u001b[0m\u001b[0minput_fn\u001b[0m\u001b[0;34m=\u001b[0m\u001b[0minput_fn\u001b[0m\u001b[0;34m,\u001b[0m \u001b[0mhooks\u001b[0m\u001b[0;34m=\u001b[0m\u001b[0mhooks\u001b[0m\u001b[0;34m)\u001b[0m\u001b[0;34m\u001b[0m\u001b[0;34m\u001b[0m\u001b[0m\n\u001b[0m\u001b[1;32m    525\u001b[0m     \u001b[0mlogging\u001b[0m\u001b[0;34m.\u001b[0m\u001b[0minfo\u001b[0m\u001b[0;34m(\u001b[0m\u001b[0;34m'Loss for final step: %s.'\u001b[0m\u001b[0;34m,\u001b[0m \u001b[0mloss\u001b[0m\u001b[0;34m)\u001b[0m\u001b[0;34m\u001b[0m\u001b[0;34m\u001b[0m\u001b[0m\n\u001b[1;32m    526\u001b[0m     \u001b[0;32mreturn\u001b[0m \u001b[0mself\u001b[0m\u001b[0;34m\u001b[0m\u001b[0;34m\u001b[0m\u001b[0m\n",
            "\u001b[0;32m/usr/local/lib/python3.6/dist-packages/tensorflow_core/contrib/learn/python/learn/estimators/estimator.py\u001b[0m in \u001b[0;36m_train_model\u001b[0;34m(self, input_fn, hooks)\u001b[0m\n\u001b[1;32m   1039\u001b[0m       \u001b[0mself\u001b[0m\u001b[0;34m.\u001b[0m\u001b[0m_check_inputs\u001b[0m\u001b[0;34m(\u001b[0m\u001b[0mfeatures\u001b[0m\u001b[0;34m,\u001b[0m \u001b[0mlabels\u001b[0m\u001b[0;34m)\u001b[0m\u001b[0;34m\u001b[0m\u001b[0;34m\u001b[0m\u001b[0m\n\u001b[1;32m   1040\u001b[0m       \u001b[0mtraining_util\u001b[0m\u001b[0;34m.\u001b[0m\u001b[0m_get_or_create_global_step_read\u001b[0m\u001b[0;34m(\u001b[0m\u001b[0;34m)\u001b[0m  \u001b[0;31m# pylint: disable=protected-access\u001b[0m\u001b[0;34m\u001b[0m\u001b[0;34m\u001b[0m\u001b[0m\n\u001b[0;32m-> 1041\u001b[0;31m       \u001b[0mmodel_fn_ops\u001b[0m \u001b[0;34m=\u001b[0m \u001b[0mself\u001b[0m\u001b[0;34m.\u001b[0m\u001b[0m_get_train_ops\u001b[0m\u001b[0;34m(\u001b[0m\u001b[0mfeatures\u001b[0m\u001b[0;34m,\u001b[0m \u001b[0mlabels\u001b[0m\u001b[0;34m)\u001b[0m\u001b[0;34m\u001b[0m\u001b[0;34m\u001b[0m\u001b[0m\n\u001b[0m\u001b[1;32m   1042\u001b[0m       \u001b[0mops\u001b[0m\u001b[0;34m.\u001b[0m\u001b[0madd_to_collection\u001b[0m\u001b[0;34m(\u001b[0m\u001b[0mops\u001b[0m\u001b[0;34m.\u001b[0m\u001b[0mGraphKeys\u001b[0m\u001b[0;34m.\u001b[0m\u001b[0mLOSSES\u001b[0m\u001b[0;34m,\u001b[0m \u001b[0mmodel_fn_ops\u001b[0m\u001b[0;34m.\u001b[0m\u001b[0mloss\u001b[0m\u001b[0;34m)\u001b[0m\u001b[0;34m\u001b[0m\u001b[0;34m\u001b[0m\u001b[0m\n\u001b[1;32m   1043\u001b[0m       \u001b[0mall_hooks\u001b[0m\u001b[0;34m.\u001b[0m\u001b[0mextend\u001b[0m\u001b[0;34m(\u001b[0m\u001b[0mhooks\u001b[0m\u001b[0;34m)\u001b[0m\u001b[0;34m\u001b[0m\u001b[0;34m\u001b[0m\u001b[0m\n",
            "\u001b[0;32m/usr/local/lib/python3.6/dist-packages/tensorflow_core/contrib/learn/python/learn/estimators/estimator.py\u001b[0m in \u001b[0;36m_get_train_ops\u001b[0;34m(self, features, labels)\u001b[0m\n\u001b[1;32m   1262\u001b[0m       \u001b[0;31m`\u001b[0m\u001b[0mModelFnOps\u001b[0m\u001b[0;31m`\u001b[0m \u001b[0mobject\u001b[0m\u001b[0;34m.\u001b[0m\u001b[0;34m\u001b[0m\u001b[0;34m\u001b[0m\u001b[0m\n\u001b[1;32m   1263\u001b[0m     \"\"\"\n\u001b[0;32m-> 1264\u001b[0;31m     \u001b[0;32mreturn\u001b[0m \u001b[0mself\u001b[0m\u001b[0;34m.\u001b[0m\u001b[0m_call_model_fn\u001b[0m\u001b[0;34m(\u001b[0m\u001b[0mfeatures\u001b[0m\u001b[0;34m,\u001b[0m \u001b[0mlabels\u001b[0m\u001b[0;34m,\u001b[0m \u001b[0mmodel_fn_lib\u001b[0m\u001b[0;34m.\u001b[0m\u001b[0mModeKeys\u001b[0m\u001b[0;34m.\u001b[0m\u001b[0mTRAIN\u001b[0m\u001b[0;34m)\u001b[0m\u001b[0;34m\u001b[0m\u001b[0;34m\u001b[0m\u001b[0m\n\u001b[0m\u001b[1;32m   1265\u001b[0m \u001b[0;34m\u001b[0m\u001b[0m\n\u001b[1;32m   1266\u001b[0m   \u001b[0;32mdef\u001b[0m \u001b[0m_get_eval_ops\u001b[0m\u001b[0;34m(\u001b[0m\u001b[0mself\u001b[0m\u001b[0;34m,\u001b[0m \u001b[0mfeatures\u001b[0m\u001b[0;34m,\u001b[0m \u001b[0mlabels\u001b[0m\u001b[0;34m,\u001b[0m \u001b[0mmetrics\u001b[0m\u001b[0;34m)\u001b[0m\u001b[0;34m:\u001b[0m\u001b[0;34m\u001b[0m\u001b[0;34m\u001b[0m\u001b[0m\n",
            "\u001b[0;32m/usr/local/lib/python3.6/dist-packages/tensorflow_core/contrib/learn/python/learn/estimators/estimator.py\u001b[0m in \u001b[0;36m_call_model_fn\u001b[0;34m(self, features, labels, mode, metrics, config)\u001b[0m\n\u001b[1;32m   1225\u001b[0m     \u001b[0;32mif\u001b[0m \u001b[0;34m'model_dir'\u001b[0m \u001b[0;32min\u001b[0m \u001b[0mmodel_fn_args\u001b[0m\u001b[0;34m:\u001b[0m\u001b[0;34m\u001b[0m\u001b[0;34m\u001b[0m\u001b[0m\n\u001b[1;32m   1226\u001b[0m       \u001b[0mkwargs\u001b[0m\u001b[0;34m[\u001b[0m\u001b[0;34m'model_dir'\u001b[0m\u001b[0;34m]\u001b[0m \u001b[0;34m=\u001b[0m \u001b[0mself\u001b[0m\u001b[0;34m.\u001b[0m\u001b[0mmodel_dir\u001b[0m\u001b[0;34m\u001b[0m\u001b[0;34m\u001b[0m\u001b[0m\n\u001b[0;32m-> 1227\u001b[0;31m     \u001b[0mmodel_fn_results\u001b[0m \u001b[0;34m=\u001b[0m \u001b[0mself\u001b[0m\u001b[0;34m.\u001b[0m\u001b[0m_model_fn\u001b[0m\u001b[0;34m(\u001b[0m\u001b[0mfeatures\u001b[0m\u001b[0;34m,\u001b[0m \u001b[0mlabels\u001b[0m\u001b[0;34m,\u001b[0m \u001b[0;34m**\u001b[0m\u001b[0mkwargs\u001b[0m\u001b[0;34m)\u001b[0m\u001b[0;34m\u001b[0m\u001b[0;34m\u001b[0m\u001b[0m\n\u001b[0m\u001b[1;32m   1228\u001b[0m \u001b[0;34m\u001b[0m\u001b[0m\n\u001b[1;32m   1229\u001b[0m     \u001b[0;32mif\u001b[0m \u001b[0misinstance\u001b[0m\u001b[0;34m(\u001b[0m\u001b[0mmodel_fn_results\u001b[0m\u001b[0;34m,\u001b[0m \u001b[0mmodel_fn_lib\u001b[0m\u001b[0;34m.\u001b[0m\u001b[0mModelFnOps\u001b[0m\u001b[0;34m)\u001b[0m\u001b[0;34m:\u001b[0m\u001b[0;34m\u001b[0m\u001b[0;34m\u001b[0m\u001b[0m\n",
            "\u001b[0;31mTypeError\u001b[0m: 'NoneType' object is not callable"
          ]
        }
      ]
    },
    {
      "cell_type": "markdown",
      "metadata": {
        "id": "7x31-DutziL8",
        "colab_type": "text"
      },
      "source": [
        "**Third Model**"
      ]
    },
    {
      "cell_type": "code",
      "metadata": {
        "id": "G8Hygyv7zgwx",
        "colab_type": "code",
        "colab": {}
      },
      "source": [
        ""
      ],
      "execution_count": 0,
      "outputs": []
    }
  ]
}